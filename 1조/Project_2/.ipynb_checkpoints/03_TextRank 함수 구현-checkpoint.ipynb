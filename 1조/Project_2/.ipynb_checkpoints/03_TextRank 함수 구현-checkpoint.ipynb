{
 "cells": [
  {
   "cell_type": "code",
   "execution_count": 5,
   "metadata": {},
   "outputs": [],
   "source": [
    "import pandas as pd\n",
    "import numpy as np\n",
    "import networkx as nx\n",
    "import matplotlib.pyplot as plt\n",
    "\n",
    "df = pd.read_csv('textRank_example.csv',encoding='utf-8')"
   ]
  },
  {
   "cell_type": "code",
   "execution_count": 6,
   "metadata": {},
   "outputs": [],
   "source": [
    "products = {0:'A',\n",
    "            1:'B',\n",
    "            2:'C',\n",
    "            3:'D'}"
   ]
  },
  {
   "cell_type": "code",
   "execution_count": 7,
   "metadata": {},
   "outputs": [],
   "source": [
    "df_new = df.copy()"
   ]
  },
  {
   "cell_type": "code",
   "execution_count": 8,
   "metadata": {},
   "outputs": [],
   "source": [
    "graph = nx.DiGraph()\n",
    "    \n",
    "for i in range(len(products)): \n",
    "    for j in range(len(products)):\n",
    "        if i==j:\n",
    "            SS_val = len(df_new[(df_new['문장분류']=='SS') & (df_new['Base']==products[i]) & (df_new['p/n']=='P')])/len(df_new[(df_new['문장분류']=='SS') & (df_new['Base']==products[i]) & (df['p/n']=='N')])\n",
    "            #weighted_edge_3[i][j]=SS_val\n",
    "            graph.add_weighted_edges_from([(i,j, SS_val)])\n",
    "        else:\n",
    "            try :\n",
    "                CS_val = len(df_new[(df_new['문장분류']=='CS') & (df_new['Base']==products[i]) & (df_new['Ref']==products[j]) & (df_new['p/n']=='P')])/len(df_new[(df_new['문장분류']=='CS') & (df_new['Base']==products[i]) & (df_new['Ref']==products[j]) & (df_new['p/n']=='N')])\n",
    "                #weighted_edge_3[j][i]=CS_val\n",
    "                graph.add_weighted_edges_from([(j,i, CS_val)])\n",
    "            except :\n",
    "                pass\n"
   ]
  },
  {
   "cell_type": "code",
   "execution_count": 9,
   "metadata": {},
   "outputs": [
    {
     "data": {
      "text/plain": [
       "{0: 0.05269320921748135,\n",
       " 2: 0.05357142941698917,\n",
       " 1: 0.8208169953923541,\n",
       " 3: 0.07291836597317511}"
      ]
     },
     "execution_count": 9,
     "metadata": {},
     "output_type": "execute_result"
    }
   ],
   "source": [
    "nx.pagerank(graph)"
   ]
  },
  {
   "cell_type": "code",
   "execution_count": 10,
   "metadata": {},
   "outputs": [
    {
     "name": "stderr",
     "output_type": "stream",
     "text": [
      "C:\\Users\\khjin\\.conda\\envs\\jin\\lib\\site-packages\\networkx\\drawing\\nx_pylab.py:579: MatplotlibDeprecationWarning: \n",
      "The iterable function was deprecated in Matplotlib 3.1 and will be removed in 3.3. Use np.iterable instead.\n",
      "  if not cb.iterable(width):\n",
      "C:\\Users\\khjin\\.conda\\envs\\jin\\lib\\site-packages\\networkx\\drawing\\nx_pylab.py:676: MatplotlibDeprecationWarning: \n",
      "The iterable function was deprecated in Matplotlib 3.1 and will be removed in 3.3. Use np.iterable instead.\n",
      "  if cb.iterable(node_size):  # many node sizes\n"
     ]
    },
    {
     "data": {
      "image/png": "[encoded data removed]",
      "text/plain": [
       "<Figure size 432x288 with 1 Axes>"
      ]
     },
     "metadata": {},
     "output_type": "display_data"
    }
   ],
   "source": [
    "nx.draw(graph)\n",
    "plt.show()"
   ]
  },
  {
   "cell_type": "code",
   "execution_count": 11,
   "metadata": {},
   "outputs": [],
   "source": [
    "weighted_edge_3 = np.zeros((len(products), len(products))\n",
    "                            ,dtype=np.object)\n",
    "\n",
    "for i in range(len(products)): \n",
    "    for j in range(len(products)):\n",
    "        if i==j:\n",
    "            SS_val = len(df_new[(df_new['문장분류']=='SS') & (df_new['Base']==products[i]) & (df_new['p/n']=='P')])/len(df_new[(df_new['문장분류']=='SS') & (df_new['Base']==products[i]) & (df['p/n']=='N')])\n",
    "            weighted_edge_3[i][j] = SS_val\n",
    "\n",
    "\n",
    "for i in range(len(products)): \n",
    "    for j in range(len(products)):\n",
    "        \n",
    "        if i!=j:\n",
    "            try:\n",
    "                CS_val = len(df_new[(df_new['문장분류']=='CS') & (df_new['Base']==products[i]) & (df_new['Ref']==products[j]) & (df_new['p/n']=='P')])/len(df_new[(df_new['문장분류']=='CS') & (df_new['Base']==products[i]) & (df_new['Ref']==products[j]) & (df_new['p/n']=='N')])\n",
    "                weighted_edge_3[j][i] = CS_val \n",
    "            except ZeroDivisionError as e:\n",
    "                pass"
   ]
  },
  {
   "cell_type": "code",
   "execution_count": 12,
   "metadata": {},
   "outputs": [
    {
     "data": {
      "text/plain": [
       "array([[0.3333333333333333, 3.0, 0, 0],\n",
       "       [0, 2.0, 0, 0],\n",
       "       [2.0, 3.5, 3.0, 0],\n",
       "       [0, 3.0, 0, 4.0]], dtype=object)"
      ]
     },
     "execution_count": 12,
     "metadata": {},
     "output_type": "execute_result"
    }
   ],
   "source": [
    "weighted_edge_3"
   ]
  },
  {
   "cell_type": "code",
   "execution_count": null,
   "metadata": {},
   "outputs": [],
   "source": []
  }
 ],
 "metadata": {
  "kernelspec": {
   "display_name": "Python 3",
   "language": "python",
   "name": "python3"
  },
  "language_info": {
   "codemirror_mode": {
    "name": "ipython",
    "version": 3
   },
   "file_extension": ".py",
   "mimetype": "text/x-python",
   "name": "python",
   "nbconvert_exporter": "python",
   "pygments_lexer": "ipython3",
   "version": "3.6.8"
  }
 },
 "nbformat": 4,
 "nbformat_minor": 2
}
