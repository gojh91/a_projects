{
 "cells": [
  {
   "cell_type": "code",
   "execution_count": 6,
   "metadata": {},
   "outputs": [],
   "source": [
    "import pandas as pd\n",
    "df = pd.read_csv(\"./data/df_compression_CS_SS_P_N _copy.csv\")"
   ]
  },
  {
   "cell_type": "code",
   "execution_count": 7,
   "metadata": {},
   "outputs": [],
   "source": [
    "df_pn = df[(df['p/n']=='P')|(df['p/n']=='N')]\n",
    "df_pn = df_pn.reset_index()\n",
    "\n",
    "df_CS = df_pn[df_pn['CS_SS'] == 'CS']\n",
    "df_SS = df_pn[df_pn['CS_SS'] == 'SS']\n",
    "df_CS = df_CS.reset_index()\n",
    "df_SS = df_SS.reset_index()\n",
    "len(df_CS),len(df_SS)\n",
    "\n",
    "df_CS_SS = pd.concat([df_CS,df_SS])\n"
   ]
  },
  {
   "cell_type": "markdown",
   "metadata": {},
   "source": [
    "### 상품 리스트 뽑기"
   ]
  },
  {
   "cell_type": "code",
   "execution_count": 8,
   "metadata": {},
   "outputs": [],
   "source": [
    "product = df['title'].unique()\n",
    "len(product)"
   ]
  },
  {
   "cell_type": "code",
   "execution_count": 9,
   "metadata": {},
   "outputs": [],
   "source": [
    "product_df= pd.DataFrame(product)\n",
    "product_df = product_df.reset_index()\n",
    "product_df = product_df.rename(columns = {0:'name'})\n",
    "product_df.to_csv(\"./data/product_list.csv\")"
   ]
  },
  {
   "cell_type": "code",
   "execution_count": 155,
   "metadata": {},
   "outputs": [],
   "source": [
    "a_list = []\n",
    "for i in range(len(product_df)):\n",
    "    a = product_df['name'][i].split(\" \")\n",
    "    a_list.append(a)"
   ]
  },
  {
   "cell_type": "code",
   "execution_count": 163,
   "metadata": {
    "scrolled": true
   },
   "outputs": [
    {
     "data": {
      "text/html": [
       "<div>\n",
       "<style scoped>\n",
       "    .dataframe tbody tr th:only-of-type {\n",
       "        vertical-align: middle;\n",
       "    }\n",
       "\n",
       "    .dataframe tbody tr th {\n",
       "        vertical-align: top;\n",
       "    }\n",
       "\n",
       "    .dataframe thead th {\n",
       "        text-align: right;\n",
       "    }\n",
       "</style>\n",
       "<table border=\"1\" class=\"dataframe\">\n",
       "  <thead>\n",
       "    <tr style=\"text-align: right;\">\n",
       "      <th></th>\n",
       "      <th>index</th>\n",
       "      <th>name</th>\n",
       "      <th>name_split</th>\n",
       "    </tr>\n",
       "  </thead>\n",
       "  <tbody>\n",
       "    <tr>\n",
       "      <th>0</th>\n",
       "      <td>0</td>\n",
       "      <td>Canon Digital Camera PowerShot A3500</td>\n",
       "      <td>[Canon, Digital, Camera, PowerShot, A3500]</td>\n",
       "    </tr>\n",
       "    <tr>\n",
       "      <th>1</th>\n",
       "      <td>1</td>\n",
       "      <td>Canon EOS 40D</td>\n",
       "      <td>[Canon, EOS, 40D, ]</td>\n",
       "    </tr>\n",
       "    <tr>\n",
       "      <th>2</th>\n",
       "      <td>2</td>\n",
       "      <td>Canon EOS 5D</td>\n",
       "      <td>[Canon, EOS, 5D]</td>\n",
       "    </tr>\n",
       "  </tbody>\n",
       "</table>\n",
       "</div>"
      ],
      "text/plain": [
       "   index                                  name  \\\n",
       "0      0  Canon Digital Camera PowerShot A3500   \n",
       "1      1                        Canon EOS 40D    \n",
       "2      2                          Canon EOS 5D   \n",
       "\n",
       "                                   name_split  \n",
       "0  [Canon, Digital, Camera, PowerShot, A3500]  \n",
       "1                         [Canon, EOS, 40D, ]  \n",
       "2                            [Canon, EOS, 5D]  "
      ]
     },
     "execution_count": 163,
     "metadata": {},
     "output_type": "execute_result"
    }
   ],
   "source": [
    "product_df.head(3)"
   ]
  },
  {
   "cell_type": "code",
   "execution_count": null,
   "metadata": {},
   "outputs": [],
   "source": []
  },
  {
   "cell_type": "code",
   "execution_count": 192,
   "metadata": {},
   "outputs": [],
   "source": [
    "new_list=[]\n",
    "for i in range(len(df_CS)):\n",
    "    a = df_CS['Sentence'][i].split(\" \")\n",
    "    for j in a:\n",
    "        if j in g:\n",
    "            new_list.append(df_CS.iloc[i])\n"
   ]
  },
  {
   "cell_type": "code",
   "execution_count": 193,
   "metadata": {},
   "outputs": [],
   "source": [
    "new = pd.DataFrame(new_list)"
   ]
  },
  {
   "cell_type": "code",
   "execution_count": 194,
   "metadata": {},
   "outputs": [
    {
     "data": {
      "text/plain": [
       "(256, 1037)"
      ]
     },
     "execution_count": 194,
     "metadata": {},
     "output_type": "execute_result"
    }
   ],
   "source": [
    "len(new),len(df_CS)"
   ]
  },
  {
   "cell_type": "code",
   "execution_count": 202,
   "metadata": {},
   "outputs": [
    {
     "data": {
      "text/plain": [
       "\"I spent 2+ months researching for my new camera, it is time for me to move up to a full-frame format and I have been a good boy and saved my money :-).What am I first: I don't claim to be a pro, just a DAD who takes family pictures and events, vacations and dogs.I shoot JPEG 99% of the time, because I would rather enjoy shooting than spend time on my computer, RAW files also takes time to process and load, I do RAW only when it is absolutely necessary.Shooting situations:--------------------Indoors (usually night or not ideal light settings), includes: parties, recitals, school programs: 90%Vacation  : 5%Kids activities: Parks, Tennis, Kids running and playing with dogs  : 5%Like most people, I struggled between d600 and 6d:--------------------------------------------------Nikon D600 - I almost bought this one from Costco due to the special kit discount.\""
      ]
     },
     "execution_count": 202,
     "metadata": {},
     "output_type": "execute_result"
    }
   ],
   "source": [
    "new['Sentence'][41]"
   ]
  },
  {
   "cell_type": "code",
   "execution_count": null,
   "metadata": {},
   "outputs": [],
   "source": []
  },
  {
   "cell_type": "code",
   "execution_count": null,
   "metadata": {},
   "outputs": [],
   "source": []
  },
  {
   "cell_type": "code",
   "execution_count": null,
   "metadata": {},
   "outputs": [],
   "source": []
  },
  {
   "cell_type": "code",
   "execution_count": null,
   "metadata": {},
   "outputs": [],
   "source": []
  },
  {
   "cell_type": "code",
   "execution_count": null,
   "metadata": {},
   "outputs": [],
   "source": []
  },
  {
   "cell_type": "code",
   "execution_count": null,
   "metadata": {},
   "outputs": [],
   "source": []
  },
  {
   "cell_type": "code",
   "execution_count": null,
   "metadata": {},
   "outputs": [],
   "source": []
  },
  {
   "cell_type": "code",
   "execution_count": null,
   "metadata": {},
   "outputs": [],
   "source": []
  },
  {
   "cell_type": "code",
   "execution_count": null,
   "metadata": {},
   "outputs": [],
   "source": []
  },
  {
   "cell_type": "code",
   "execution_count": null,
   "metadata": {},
   "outputs": [],
   "source": []
  },
  {
   "cell_type": "code",
   "execution_count": 111,
   "metadata": {},
   "outputs": [],
   "source": [
    "# 연습"
   ]
  },
  {
   "cell_type": "code",
   "execution_count": 114,
   "metadata": {},
   "outputs": [],
   "source": [
    "B_list = ['200', '300', 'K-1000']\n",
    "A_list=[]\n",
    "for i in range(len(df_CS)):\n",
    "    a = df_CS['Sentence'][i].split(\" \")\n",
    "    for j in a:\n",
    "        if j in B_list:\n",
    "            A_list.append(df_CS.iloc[i])\n",
    "            \n",
    "tmp = pd.DataFrame(A_list)"
   ]
  },
  {
   "cell_type": "code",
   "execution_count": 120,
   "metadata": {},
   "outputs": [
    {
     "data": {
      "text/plain": [
       "'Still, the degree of luminance noise in JPEG conversion at ISO 200 - which, by the way, is (according to dpreview.com) the E-5\\'s \"true\" lowest ISO setting (ISOs lower than this are extensions, and if used will supposedly result in reduced dynamic range - frankly, I\\'m not wholly convinced that this is noticeable) is simply unacceptable to me.'"
      ]
     },
     "execution_count": 120,
     "metadata": {},
     "output_type": "execute_result"
    }
   ],
   "source": [
    "tmp.head()"
   ]
  },
  {
   "cell_type": "code",
   "execution_count": 188,
   "metadata": {},
   "outputs": [
    {
     "name": "stderr",
     "output_type": "stream",
     "text": [
      "C:\\Users\\khjin\\.conda\\envs\\jin\\lib\\site-packages\\ipykernel_launcher.py:79: FutureWarning: Sorting because non-concatenation axis is not aligned. A future version\n",
      "of pandas will change to not sort by default.\n",
      "\n",
      "To accept the future behavior, pass 'sort=False'.\n",
      "\n",
      "To retain the current behavior and silence the warning, pass 'sort=True'.\n",
      "\n"
     ]
    }
   ],
   "source": [
    "import pandas as pd\n",
    "product_df = pd.read_csv(\"./data/product_list.csv\")\n",
    "a_list = []\n",
    "for i in range(len(product_df)):\n",
    "    a = product_df['name'][i].split(\" \")\n",
    "    a_list.append(a)\n",
    "\n",
    "b = pd.DataFrame(a_list)\n",
    "\n",
    "\n",
    "b_df = pd.DataFrame(b[0].unique())\n",
    "b_df = b_df.reset_index()\n",
    "b_df = b_df.rename(columns = {0:'name'})\n",
    "\n",
    "c_df = pd.DataFrame(b[1].unique())\n",
    "c_df = c_df.reset_index()\n",
    "c_df = c_df.rename(columns = {0:'name'})\n",
    "\n",
    "d_df = pd.DataFrame(b[2].unique())\n",
    "d_df = d_df.reset_index()\n",
    "d_df = d_df.rename(columns = {0:'name'})\n",
    "\n",
    "e_df = pd.DataFrame(b[3].unique())\n",
    "e_df = e_df.reset_index()\n",
    "e_df = e_df.rename(columns = {0:'name'})\n",
    "\n",
    "f_df = pd.DataFrame(b[4].unique())\n",
    "f_df = f_df.reset_index()\n",
    "f_df = f_df.rename(columns = {0:'name'})\n",
    "\n",
    "g_df = pd.DataFrame(b[5].unique())\n",
    "g_df = g_df.reset_index()\n",
    "g_df = g_df.rename(columns = {0:'name'})\n",
    "\n",
    "h_df = pd.DataFrame(b[6].unique())\n",
    "h_df = h_df.reset_index()\n",
    "h_df = h_df.rename(columns = {0:'name'})\n",
    "\n",
    "i_df = pd.DataFrame(b[7].unique())\n",
    "i_df = i_df.reset_index()\n",
    "i_df = i_df.rename(columns = {0:'name'})\n",
    "\n",
    "j_df = pd.DataFrame(b[8].unique())\n",
    "j_df = j_df.reset_index()\n",
    "j_df = j_df.rename(columns = {0:'name'})\n",
    "\n",
    "k_df = pd.DataFrame(b[9].unique())\n",
    "k_df = k_df.reset_index()\n",
    "k_df = k_df.rename(columns = {0:'name'})\n",
    "\n",
    "l_df = pd.DataFrame(b[10].unique())\n",
    "l_df = l_df.reset_index()\n",
    "l_df = l_df.rename(columns = {0:'name'})\n",
    "\n",
    "m_df = pd.DataFrame(b[11].unique())\n",
    "m_df = m_df.reset_index()\n",
    "m_df = m_df.rename(columns = {0:'name'})\n",
    "\n",
    "n_df = pd.DataFrame(b[12].unique())\n",
    "n_df = n_df.reset_index()\n",
    "n_df = n_df.rename(columns = {0:'name'})\n",
    "\n",
    "o_df = pd.DataFrame(b[13].unique())\n",
    "o_df = o_df.reset_index()\n",
    "o_df = o_df.rename(columns = {0:'name'})\n",
    "\n",
    "p_df = pd.DataFrame(b[14].unique())\n",
    "p_df = p_df.reset_index()\n",
    "p_df = p_df.rename(columns = {0:'name'})\n",
    "\n",
    "q_df = pd.DataFrame(b[15].unique())\n",
    "q_df = q_df.reset_index()\n",
    "q_df = q_df.rename(columns = {0:'name'})\n",
    "\n",
    "r_df = pd.DataFrame(b[16].unique())\n",
    "r_df = r_df.reset_index()\n",
    "r_df = r_df.rename(columns = {0:'name'})\n",
    "\n",
    "product_total = pd.concat([product_df,b_df,c_df,d_df,e_df,f_df,g_df,h_df,i_df,j_df,k_df,l_df,m_df,n_df,o_df,p_df,q_df,r_df])\n",
    "product_uni = product_total['name'].unique()"
   ]
  },
  {
   "cell_type": "code",
   "execution_count": 189,
   "metadata": {},
   "outputs": [
    {
     "data": {
      "text/plain": [
       "array(['Canon Digital Camera PowerShot A3500', 'Canon EOS 40D ',\n",
       "       'Canon EOS 5D', 'Canon EOS 5D ', 'Canon EOS 60D ', 'Canon EOS 6D',\n",
       "       'Canon EOS 70D ', 'Canon EOS 7D ', 'Canon EOS Digital Rebel 300D',\n",
       "       'Canon EOS M ', 'Canon EOS Rebel SL1 ', 'Canon EOS Rebel T1i ',\n",
       "       'Canon EOS Rebel T2i ', 'Canon EOS Rebel T3 ',\n",
       "       'Canon EOS Rebel T3i ', 'Canon EOS Rebel T4i ',\n",
       "       'Canon EOS Rebel T5 ', 'Canon EOS-1D', 'Canon G12 10 ',\n",
       "       'Canon Powershot A1200', 'Canon PowerShot A1400 ',\n",
       "       'Canon PowerShot A2400 ', 'Canon PowerShot A2500 ',\n",
       "       'Canon PowerShot A2600', 'Canon PowerShot A4000IS ',\n",
       "       'Canon PowerShot A495', 'Canon Powershot A800 ',\n",
       "       'Canon PowerShot D30 Waterproof Digital Camera',\n",
       "       'Canon PowerShot ELPH 110 HS ', 'Canon PowerShot Elph 115 ',\n",
       "       'Canon PowerShot ELPH 130', 'Canon PowerShot ELPH 300 ',\n",
       "       'Canon PowerShot ELPH 310', 'Canon PowerShot ELPH 320 ',\n",
       "       'Canon PowerShot ELPH 330 ', 'Canon PowerShot ELPH 520 ',\n",
       "       'Canon PowerShot ELPH 530', 'Canon PowerShot ELPH 530 ',\n",
       "       'Canon PowerShot G1 X ', 'Canon Powershot G15 ',\n",
       "       'Canon PowerShot G16', 'Canon PowerShot G1X ',\n",
       "       'Canon PowerShot N ', 'Canon PowerShot S100 ',\n",
       "       'Canon PowerShot S110 ', 'Canon PowerShot S120',\n",
       "       'Canon PowerShot S90 ', 'Canon PowerShot S95 ',\n",
       "       'Canon PowerShot SD1400 ', 'Canon PowerShot SD4000',\n",
       "       'Canon PowerShot SD4500 ', 'Canon PowerShot SX130',\n",
       "       'Canon PowerShot SX160 ', 'Canon PowerShot SX170',\n",
       "       'Canon PowerShot SX1', 'Canon PowerShot SX20',\n",
       "       'Canon PowerShot SX230', 'Canon PowerShot SX260',\n",
       "       'Canon PowerShot SX50 ', 'Canon PowerShot SX510',\n",
       "       'Canon PowerShot SX600 ', 'Canon PowerShot SX700',\n",
       "       'Canon Rebel T5i ', 'Canon SX30IS', 'Canon SX40 HS',\n",
       "       'Casio EX-FH100',\n",
       "       'Emerson Go Action Cam 720p HD Digital Video Camera Pro Grade 5 mp Video With Screen WHITE',\n",
       "       'EOS 5D Mark II ', 'EX2F ', 'Fuji FinePix A120',\n",
       "       'Fuji FinePix E550', 'Fuji FinePix S3300',\n",
       "       'FUJIFILM 3D digital camera FinePix REAL 3D W3 F FX-3D W3S (Japan Import)',\n",
       "       'Fujifilm F800EXR', 'Fujifilm FinePix AX650 ',\n",
       "       'Fujifilm FinePix F300EXR ', 'Fujifilm FinePix F500EXR ',\n",
       "       'Fujifilm FinePix F550EXR ', 'Fujifilm Finepix F770exr ',\n",
       "       'Fujifilm FinePix F900EXR', 'Fujifilm FinePix HS10 ',\n",
       "       'Fujifilm FinePix HS20', 'Fujifilm FinePix HS30',\n",
       "       'Fujifilm FinePix HS35', 'Fujifilm FinePix HS50',\n",
       "       'Fujifilm FinePix JX680', 'Fujifilm FinePix Real 3D W3',\n",
       "       'Fujifilm FinePix S1 ', 'Fujifilm FinePix S2800HD',\n",
       "       'Fujifilm Finepix S5', 'Fujifilm FinePix S8200',\n",
       "       'Fujifilm FinePix SL1000 ', 'Fujifilm FinePix T300 ',\n",
       "       'Fujifilm X10 ', 'Fujifilm X100 ', 'Fujifilm X100S',\n",
       "       'Fujifilm X20 ', 'Fujifilm X-A1 ', 'Fujifilm X-E1 ',\n",
       "       'Fujifilm X-E1', 'Fujifilm X-E2 ', 'Fujifilm XF1 ',\n",
       "       'Fujifilm X-M1', 'Fujifilm X-Pro 1', 'Fujifilm XQ1',\n",
       "       'Fujifilm X-S1 ', 'Fujifilm X-T1 ', 'GE Power Pro X500-BK ',\n",
       "       'Kodak EASYSHARE C122 ', 'Kodak Easyshare C182',\n",
       "       'Kodak Easyshare C195 ', 'Kodak Easyshare M340',\n",
       "       'Kodak Easyshare M580 ', 'Kodak Easyshare Z981 ',\n",
       "       'Kodak EasyShare Z990 ', 'Kodak Easyshare ZD15 ',\n",
       "       'Konica Minolta Dimage A200 ', 'Konica Minolta X60 ',\n",
       "       'Leica 10760 M', 'Leica 10803 S', 'Leica C Typ112',\n",
       "       'Leica DIGILUX ', 'Leica D-Lux 4 ', 'Leica DLUX 6 ',\n",
       "       'Leica D-LUX5 ', 'Leica V-LUX 1 ', 'Leica X1 ',\n",
       "       'Lomography Spinner 360&deg; Panorama camera',\n",
       "       'Lytro Light Field Camera', 'Nikon 1 AW1 ', 'Nikon 1 J1',\n",
       "       'Nikon 1 J3', 'Nikon 1 V1 ', 'Nikon 1 V2', 'Nikon 1 V3 ',\n",
       "       'Nikon COOLPIX AW120 ', 'Nikon COOLPIX L120', 'Nikon COOLPIX L28 ',\n",
       "       'Nikon COOLPIX L820 ', 'Nikon Coolpix P100 ', 'Nikon COOLPIX P300',\n",
       "       'Nikon COOLPIX P310 ', 'Nikon COOLPIX P330 ',\n",
       "       'Nikon COOLPIX P340 ', 'Nikon COOLPIX P500 ',\n",
       "       'Nikon COOLPIX P520 ', 'Nikon COOLPIX P600 ',\n",
       "       'Nikon Coolpix P7000 ', 'Nikon COOLPIX P7100 ',\n",
       "       'Nikon COOLPIX P7700 ', 'Nikon COOLPIX P7800 ',\n",
       "       'Nikon Coolpix S205', 'Nikon COOLPIX S3100',\n",
       "       'Nikon COOLPIX S3100 ', 'Nikon Coolpix S8000 ',\n",
       "       'Nikon COOLPIX S8200 ', 'Nikon COOLPIX S9100',\n",
       "       'Nikon COOLPIX S9500 ', 'Nikon COOLPIX S9500', 'Nikon D100 ',\n",
       "       'Nikon D200 ', 'Nikon D300S ', 'Nikon D3100 ', 'Nikon D3200',\n",
       "       'Nikon D3300 ', 'Nikon D4 ', 'Nikon D4S', 'Nikon D5100',\n",
       "       'Nikon D5200', 'Nikon D5300 ', 'Nikon D60 ', 'Nikon D600',\n",
       "       'Nikon D610 ', 'Nikon D7000 ', 'Nikon D7100 ', 'Nikon D80',\n",
       "       'Nikon D80 ', 'Nikon D800', 'Nikon D800E', 'Nikon D90 ',\n",
       "       'Nikon Df ', 'NX1000 20.3', 'OLYMPUS 262855 ', 'Olympus TG-820 ',\n",
       "       'Olympus E30 ', 'Olympus E-5 ', 'Olympus E-P2 ', 'Olympus E-P5 ',\n",
       "       'Olympus E-PM2 ', 'Olympus Evolt E520', 'Olympus Evolt E620 ',\n",
       "       'Olympus FE210', 'Olympus OM-D E-M1 ', 'Olympus OM-D E-M10 ',\n",
       "       'Olympus OM-D E-M5 ', 'Olympus PEN E-P1', 'Olympus PEN E-P1 ',\n",
       "       'Olympus PEN E-P2 ', 'Olympus PEN E-P3 ', 'Olympus PEN E-PL1',\n",
       "       'Olympus PEN E-PL2', 'Olympus PEN E-PL2 ', 'Olympus PEN E-PL3',\n",
       "       'Olympus PEN E-PM1 ', 'Olympus SP-720UZ ', 'Olympus Stylus 1 ',\n",
       "       'Olympus Stylus SH-50', 'Olympus SZ-', 'Olympus Tough TG-620',\n",
       "       'Olympus Tough TG-830 ', 'Olympus XZ-1 ', 'Olympus XZ-2',\n",
       "       'Panasonic DMC-FH25K ', 'Panasonic DMC-FH25K',\n",
       "       'Panasonic DMC-FZ150K ', 'Panasonic DMC-G5KK',\n",
       "       'Panasonic DMC-GF5KK ', 'Panasonic DMC-GF6KK ',\n",
       "       'Panasonic DMC-GH1K', 'Panasonic DMC-LX2K ', 'Panasonic DMC-ZS40K',\n",
       "       'Panasonic DMC-ZS9 ', 'Panasonic Lumix DMC FH-8 ',\n",
       "       'Panasonic Lumix DMC-3D1 ', 'Panasonic Lumix DMC-FH1',\n",
       "       'Panasonic Lumix DMC-FH20 ', 'Panasonic Lumix DMC-FZ100',\n",
       "       'Panasonic Lumix DMC-FZ200 ', 'Panasonic Lumix DMC-FZ35 ',\n",
       "       'Panasonic Lumix DMC-FZ47K', 'Panasonic Lumix DMC-FZ47K ',\n",
       "       'Panasonic Lumix DMC-FZ60 ', 'Panasonic LUMIX DMC-FZ70 ',\n",
       "       'Panasonic Lumix DMC-G1 ', 'Panasonic Lumix DMC-G10',\n",
       "       'Panasonic LUMIX DMC-G3', 'Panasonic Lumix DMC-GF1',\n",
       "       'Panasonic Lumix DMC-GF2 ', 'Panasonic Lumix DMC-GF3CT',\n",
       "       'Panasonic Lumix DMC-GF3KK ', 'Panasonic Lumix DMC-GH2',\n",
       "       'Panasonic Lumix DMC-GH3K', 'Panasonic LUMIX DMC-GH4KBODY',\n",
       "       'Panasonic LUMIX DMC-GM1KS ', 'Panasonic Lumix DMC-GX1K ',\n",
       "       'Panasonic Lumix DMC-LF1', 'Panasonic Lumix DMC-LX5 ',\n",
       "       'Panasonic LUMIX DMC-LX7W', 'Panasonic Lumix DMC-S3',\n",
       "       'Panasonic Lumix DMC-ZR3', 'Panasonic Lumix DMC-ZR3 ',\n",
       "       'Panasonic Lumix DMC-ZS10 ', 'Panasonic Lumix DMC-ZS25 ',\n",
       "       'Panasonic LUMIX DMC-ZS6', 'Panasonic Lumix DMC-ZS7 ',\n",
       "       'Panasonic Lumix DMC-ZS8 ', 'Panasonic Lumix ',\n",
       "       'Panasonic LUMIX GX7 ', 'Panasonic Lumix SZ1 ',\n",
       "       'Panasonic Lumix SZ7', 'Panasonic Lumix ZS15 ',\n",
       "       'Panasonic Lumix ZS20 ', 'Pentax 15274 ', 'Pentax 645D',\n",
       "       'Pentax K-01', 'Pentax K-30', 'Pentax K-5', 'Pentax K-50 ',\n",
       "       'Pentax K-x  ', 'Pentax MX-1', 'Pentax Optio S40',\n",
       "       'Pentax Optio WG-3 ', 'Pentax Q ', 'Pentax Q7 ', 'Polaroid IS2132',\n",
       "       'Ricoh GR ', 'Ricoh THETA ', 'Samsung Digimax L85',\n",
       "       'Samsung EC-PL210 ', 'Samsung EC-SH100 ',\n",
       "       'Samsung EC-TL500ZBPBUS ', 'Samsung EV-NX100 ', 'Samsung NX Mini',\n",
       "       'Samsung NX100', 'Samsung NX1000 ', 'SAMSUNG NX1100',\n",
       "       'Samsung NX1100 ', 'Samsung NX200', 'Samsung NX2000 ',\n",
       "       'Samsung NX210', 'Samsung NX210 ', 'Samsung NX30', 'Samsung NX30 ',\n",
       "       'Samsung NX300', 'Samsung TL105 ', 'Samsung TL350 ',\n",
       "       'Samsung WB150F', 'Samsung WB150F ', 'Samsung WB250F ',\n",
       "       'Samsung WB250F', 'Sigma C78900', 'Sigma C79900 ', 'Sigma DP1 ',\n",
       "       'Sigma dp2 ', 'Sigma DP2S', 'Sigma DP2x ', 'Sigma SD15',\n",
       "       'Sony a (alpha) SLT-A65V (A65)', 'Sony A3000 ', 'Sony a55 ',\n",
       "       'Sony A65 ', 'Sony a7', 'Sony A77', 'Sony a7R Full-Frame',\n",
       "       'Sony Alpha a6000', 'Sony Alpha a7S', 'Sony Alpha DSLR-A300 ',\n",
       "       'Sony Alpha NEX NEX5K/S', 'Sony Alpha NEX-C3 ',\n",
       "       'Sony Alpha SLT-a35 ', 'Sony Alpha SLT-A37K ',\n",
       "       'Sony Alpha SLT-A57 ', 'Sony Alpha SLT-A65VL ',\n",
       "       'Sony Alpha SLT-A99V', 'Sony Bloggie Live(MHS-TS55) ',\n",
       "       'Sony Cyber-Shot DSC-HX100V ', 'Sony Cyber-shot DSC-HX200V',\n",
       "       'Sony Cyber-shot DSC-HX200V ', 'Sony Cyber-shot DSC-HX20V ',\n",
       "       'Sony Cyber-shot DSC-HX30V ', 'Sony Cyber-shot DSC-HX5V ',\n",
       "       'Sony Cyber-shot DSC-HX9V', 'Sony Cybershot DSCP73',\n",
       "       'Sony Cybershot DSCP73 ', 'Sony Cybershot DSCR1 ',\n",
       "       'Sony Cyber-shot DSC-TX66 ', 'Sony Cybershot DSCW200 ',\n",
       "       'Sony Cyber-Shot DSC-W560', 'Sony Cyber-Shot DSC-W560 ',\n",
       "       'Sony Cyber-shot DSCW650 ', 'Sony Cyber-shot DSC-WX150',\n",
       "       'Sony Cyber-shot DSC-WX50 ', 'Sony DSC-F828 ', 'Sony DSC-HX300/B ',\n",
       "       'Sony DSC-HX50V/B', 'Sony DSC-RX1/B ', 'Sony DSCRX10/B ',\n",
       "       'Sony DSC-RX100', 'Sony DSC-RX100/B ', 'Sony DSC-RX100M II ',\n",
       "       'Sony DSC-RX100M III ', 'Sony DSC-W370', 'Sony DSC-WX10 ',\n",
       "       'Sony DSLR SLTA57K Alpha ', 'Sony DSLRA580', 'Sony HX400V/B ',\n",
       "       'Sony HX400V/B', 'Sony MVC-FD91', 'Sony NEX-3NL/W ', 'Sony NEX-5N',\n",
       "       'Sony NEX-5RK/S ', 'Sony NEX-6/B', 'Sony NEX-7', 'Sony NEX-F3K/B ',\n",
       "       'Sony SLT-A58K', 'Sony SLT-A65V ', 'Sony WX350 ', 'SVP DC-3D-80 ',\n",
       "       'Takara Tomy 3d Shot Cam Digital Camera',\n",
       "       'ViviCam X014N 10.1MP Digital Camera (Red)',\n",
       "       'Vivitar Freelance 3-in-1 Digital Camera - Red',\n",
       "       'Wingscapes WSCA04 Timelapse Outdoor PlantCam', 'Canon', 'Casio',\n",
       "       'Emerson', 'EOS', 'EX2F', 'Fuji', 'FUJIFILM', 'Fujifilm', 'GE',\n",
       "       'Kodak', 'Konica', 'Leica', 'Lomography', 'Lytro', 'Nikon',\n",
       "       'NX1000', 'OLYMPUS', 'Olympus', 'Panasonic', 'Pentax', 'Polaroid',\n",
       "       'Ricoh', 'Samsung', 'SAMSUNG', 'Sigma', 'Sony', 'SVP', 'Takara',\n",
       "       'ViviCam', 'Vivitar', 'Wingscapes', 'Digital', 'EOS-1D', 'G12',\n",
       "       'Powershot', 'PowerShot', 'Rebel', 'SX30IS', 'SX40', 'EX-FH100',\n",
       "       'Go', '5D', '', 'FinePix', '3D', 'F800EXR', 'Finepix', 'X10',\n",
       "       'X100', 'X100S', 'X20', 'X-A1', 'X-E1', 'X-E2', 'XF1', 'X-M1',\n",
       "       'X-Pro', 'XQ1', 'X-S1', 'X-T1', 'Power', 'EASYSHARE', 'Easyshare',\n",
       "       'EasyShare', 'Minolta', '10760', '10803', 'C', 'DIGILUX', 'D-Lux',\n",
       "       'DLUX', 'D-LUX5', 'V-LUX', 'X1', 'Spinner', 'Light', '1',\n",
       "       'COOLPIX', 'Coolpix', 'D100', 'D200', 'D300S', 'D3100', 'D3200',\n",
       "       'D3300', 'D4', 'D4S', 'D5100', 'D5200', 'D5300', 'D60', 'D600',\n",
       "       'D610', 'D7000', 'D7100', 'D80', 'D800', 'D800E', 'D90', 'Df',\n",
       "       '20.3', '262855', 'TG-820', 'E30', 'E-5', 'E-P2', 'E-P5', 'E-PM2',\n",
       "       'Evolt', 'FE210', 'OM-D', 'PEN', 'SP-720UZ', 'Stylus', 'SZ-',\n",
       "       'Tough', 'XZ-1', 'XZ-2', 'DMC-FH25K', 'DMC-FZ150K', 'DMC-G5KK',\n",
       "       'DMC-GF5KK', 'DMC-GF6KK', 'DMC-GH1K', 'DMC-LX2K', 'DMC-ZS40K',\n",
       "       'DMC-ZS9', 'Lumix', 'LUMIX', '15274', '645D', 'K-01', 'K-30',\n",
       "       'K-5', 'K-50', 'K-x', 'MX-1', 'Optio', 'Q', 'Q7', 'IS2132', 'GR',\n",
       "       'THETA', 'Digimax', 'EC-PL210', 'EC-SH100', 'EC-TL500ZBPBUS',\n",
       "       'EV-NX100', 'NX', 'NX100', 'NX1100', 'NX200', 'NX2000', 'NX210',\n",
       "       'NX30', 'NX300', 'TL105', 'TL350', 'WB150F', 'WB250F', 'C78900',\n",
       "       'C79900', 'DP1', 'dp2', 'DP2S', 'DP2x', 'SD15', 'a', 'A3000',\n",
       "       'a55', 'A65', 'a7', 'A77', 'a7R', 'Alpha', 'Bloggie', 'Cyber-Shot',\n",
       "       'Cyber-shot', 'Cybershot', 'DSC-F828', 'DSC-HX300/B',\n",
       "       'DSC-HX50V/B', 'DSC-RX1/B', 'DSCRX10/B', 'DSC-RX100',\n",
       "       'DSC-RX100/B', 'DSC-RX100M', 'DSC-W370', 'DSC-WX10', 'DSLR',\n",
       "       'DSLRA580', 'HX400V/B', 'MVC-FD91', 'NEX-3NL/W', 'NEX-5N',\n",
       "       'NEX-5RK/S', 'NEX-6/B', 'NEX-7', 'NEX-F3K/B', 'SLT-A58K',\n",
       "       'SLT-A65V', 'WX350', 'DC-3D-80', 'Tomy', 'X014N', 'Freelance',\n",
       "       'WSCA04', 'Camera', '40D', '60D', '6D', '70D', '7D', 'M', None,\n",
       "       '10', 'A1200', 'A1400', 'A2400', 'A2500', 'A2600', 'A4000IS',\n",
       "       'A495', 'A800', 'D30', 'ELPH', 'Elph', 'G1', 'G15', 'G16', 'G1X',\n",
       "       'N', 'S100', 'S110', 'S120', 'S90', 'S95', 'SD1400', 'SD4000',\n",
       "       'SD4500', 'SX130', 'SX160', 'SX170', 'SX1', 'SX20', 'SX230',\n",
       "       'SX260', 'SX50', 'SX510', 'SX600', 'SX700', 'T5i', 'HS', 'Action',\n",
       "       'Mark', 'A120', 'E550', 'S3300', 'digital', 'AX650', 'F300EXR',\n",
       "       'F500EXR', 'F550EXR', 'F770exr', 'F900EXR', 'HS10', 'HS20', 'HS30',\n",
       "       'HS35', 'HS50', 'JX680', 'Real', 'S1', 'S2800HD', 'S5', 'S8200',\n",
       "       'SL1000', 'T300', 'Pro', 'C122', 'C182', 'C195', 'M340', 'M580',\n",
       "       'Z981', 'Z990', 'ZD15', 'Dimage', 'X60', 'S', 'Typ112', '4', '6',\n",
       "       '360&deg;', 'Field', 'AW1', 'J1', 'J3', 'V1', 'V2', 'V3', 'AW120',\n",
       "       'L120', 'L28', 'L820', 'P100', 'P300', 'P310', 'P330', 'P340',\n",
       "       'P500', 'P520', 'P600', 'P7000', 'P7100', 'P7700', 'P7800', 'S205',\n",
       "       'S3100', 'S8000', 'S9100', 'S9500', 'E520', 'E620', 'E-M1',\n",
       "       'E-M10', 'E-M5', 'E-P1', 'E-P3', 'E-PL1', 'E-PL2', 'E-PL3',\n",
       "       'E-PM1', 'SH-50', 'TG-620', 'TG-830', 'DMC', 'DMC-3D1', 'DMC-FH1',\n",
       "       'DMC-FH20', 'DMC-FZ100', 'DMC-FZ200', 'DMC-FZ35', 'DMC-FZ47K',\n",
       "       'DMC-FZ60', 'DMC-FZ70', 'DMC-G1', 'DMC-G10', 'DMC-G3', 'DMC-GF1',\n",
       "       'DMC-GF2', 'DMC-GF3CT', 'DMC-GF3KK', 'DMC-GH2', 'DMC-GH3K',\n",
       "       'DMC-GH4KBODY', 'DMC-GM1KS', 'DMC-GX1K', 'DMC-LF1', 'DMC-LX5',\n",
       "       'DMC-LX7W', 'DMC-S3', 'DMC-ZR3', 'DMC-ZS10', 'DMC-ZS25', 'DMC-ZS6',\n",
       "       'DMC-ZS7', 'DMC-ZS8', 'GX7', 'SZ1', 'SZ7', 'ZS15', 'ZS20', 'S40',\n",
       "       'WG-3', 'L85', 'Mini', '(alpha)', 'Full-Frame', 'a6000', 'a7S',\n",
       "       'DSLR-A300', 'NEX', 'NEX-C3', 'SLT-a35', 'SLT-A37K', 'SLT-A57',\n",
       "       'SLT-A65VL', 'SLT-A99V', 'Live(MHS-TS55)', 'DSC-HX100V',\n",
       "       'DSC-HX200V', 'DSC-HX20V', 'DSC-HX30V', 'DSC-HX5V', 'DSC-HX9V',\n",
       "       'DSCP73', 'DSCR1', 'DSC-TX66', 'DSCW200', 'DSC-W560', 'DSCW650',\n",
       "       'DSC-WX150', 'DSC-WX50', 'II', 'III', 'SLTA57K', '3d', '10.1MP',\n",
       "       '3-in-1', 'Timelapse', 'SL1', 'T1i', 'T2i', 'T3', 'T3i', 'T4i',\n",
       "       'T5', 'Waterproof', '110', '115', '130', '300', '310', '320',\n",
       "       '330', '520', '530', 'X', 'Cam', 'camera', 'X500-BK', 'A200',\n",
       "       'Panorama', 'FH-8', 'NEX5K/S', 'Shot', 'Outdoor', 'A3500', '300D',\n",
       "       '720p', 'W3', '(A65)', 'PlantCam', 'HD', 'REAL', '(Red)', '-',\n",
       "       'Red', 'Video', 'F', 'FX-3D', 'Grade', 'W3S', '5', '(Japan', 'mp',\n",
       "       'Import)', 'With', 'Screen', 'WHITE'], dtype=object)"
      ]
     },
     "execution_count": 189,
     "metadata": {},
     "output_type": "execute_result"
    }
   ],
   "source": [
    "product_uni"
   ]
  },
  {
   "cell_type": "code",
   "execution_count": 191,
   "metadata": {},
   "outputs": [],
   "source": [
    "g = [  'EOS-1D', 'G12',\n",
    "       'SX30IS', 'SX40', 'EX-FH100',\n",
    "       'Go', '5D', '3D', 'F800EXR', 'Finepix', 'X10',\n",
    "       'X100', 'X100S', 'X20', 'X-A1', 'X-E1', 'X-E2', 'XF1', 'X-M1',\n",
    "       'X-Pro', 'XQ1', 'X-S1', 'X-T1',\n",
    "       '10760', '10803', 'D-Lux',\n",
    "       'D-LUX5', 'V-LUX', 'X1',\n",
    "       'D100', 'D200', 'D300S', 'D3100', 'D3200',\n",
    "       'D3300', 'D4', 'D4S', 'D5100', 'D5200', 'D5300', 'D60', 'D600',\n",
    "       'D610', 'D7000', 'D7100', 'D80', 'D800', 'D800E', 'D90', 'Df',\n",
    "       '20.3', '262855', 'TG-820', 'E30', 'E-5', 'E-P2', 'E-P5', 'E-PM2',\n",
    "       'Evolt', 'FE210', 'OM-D', 'PEN', 'SP-720UZ', 'Stylus', 'SZ-',\n",
    "       'Tough', 'XZ-1', 'XZ-2', 'DMC-FH25K', 'DMC-FZ150K', 'DMC-G5KK',\n",
    "       'DMC-GF5KK', 'DMC-GF6KK', 'DMC-GH1K', 'DMC-LX2K', 'DMC-ZS40K',\n",
    "       'DMC-ZS9', 'Lumix', 'LUMIX', '15274', '645D', 'K-01', 'K-30',\n",
    "       'K-5', 'K-50', 'K-x', 'MX-1','Q7', 'IS2132', 'GR',\n",
    "       'THETA', 'Digimax', 'EC-PL210', 'EC-SH100', 'EC-TL500ZBPBUS',\n",
    "       'EV-NX100', 'NX', 'NX100', 'NX1100', 'NX200', 'NX2000', 'NX210',\n",
    "       'NX30', 'NX300', 'TL105', 'TL350', 'WB150F', 'WB250F', 'C78900',\n",
    "       'C79900', 'DP1', 'dp2', 'DP2S', 'DP2x', 'SD15', 'A3000',\n",
    "       'a55', 'A65', 'a7', 'A77', 'a7R',\n",
    "       'DSC-F828', 'DSC-HX300/B',\n",
    "       'DSC-HX50V/B', 'DSC-RX1/B', 'DSCRX10/B', 'DSC-RX100',\n",
    "       'DSC-RX100/B', 'DSC-RX100M', 'DSC-W370', 'DSC-WX10', \n",
    "       'DSLRA580', 'HX400V/B', 'MVC-FD91', 'NEX-3NL/W', 'NEX-5N',\n",
    "       'NEX-5RK/S', 'NEX-6/B', 'NEX-7', 'NEX-F3K/B', 'SLT-A58K',\n",
    "       'SLT-A65V', 'WX350', 'DC-3D-80', 'X014N', \n",
    "       'WSCA04', '40D', '60D', '6D', '70D', '7D',\n",
    "       'A1200', 'A1400', 'A2400', 'A2500', 'A2600', 'A4000IS',\n",
    "       'A495', 'A800', 'D30', 'ELPH', 'Elph', 'G1', 'G15', 'G16', 'G1X',\n",
    "       'S100', 'S110', 'S120', 'S90', 'S95', 'SD1400', 'SD4000',\n",
    "       'SD4500', 'SX130', 'SX160', 'SX170', 'SX1', 'SX20', 'SX230',\n",
    "       'SX260', 'SX50', 'SX510', 'SX600', 'SX700', 'T5i', 'HS',\n",
    "       'Mark', 'A120', 'E550', 'S3300', 'AX650', 'F300EXR',\n",
    "       'F500EXR', 'F550EXR', 'F770exr', 'F900EXR', 'HS10', 'HS20', 'HS30',\n",
    "       'HS35', 'HS50', 'JX680', 'S1', 'S2800HD', 'S5', 'S8200',\n",
    "       'SL1000', 'T300', 'Pro', 'C122', 'C182', 'C195', 'M340', 'M580',\n",
    "       'Z981', 'Z990', 'ZD15', 'X60', 'Typ112', \n",
    "       '360&deg;', 'Field', 'AW1', 'J1', 'J3', 'V1', 'V2', 'V3', 'AW120',\n",
    "       'L120', 'L28', 'L820', 'P100', 'P300', 'P310', 'P330', 'P340',\n",
    "       'P500', 'P520', 'P600', 'P7000', 'P7100', 'P7700', 'P7800', 'S205',\n",
    "       'S3100', 'S8000', 'S9100', 'S9500', 'E520', 'E620', 'E-M1',\n",
    "       'E-M10', 'E-M5', 'E-P1', 'E-P3', 'E-PL1', 'E-PL2', 'E-PL3',\n",
    "       'E-PM1', 'SH-50', 'TG-620', 'TG-830', 'DMC', 'DMC-3D1', 'DMC-FH1',\n",
    "       'DMC-FH20', 'DMC-FZ100', 'DMC-FZ200', 'DMC-FZ35', 'DMC-FZ47K',\n",
    "       'DMC-FZ60', 'DMC-FZ70', 'DMC-G1', 'DMC-G10', 'DMC-G3', 'DMC-GF1',\n",
    "       'DMC-GF2', 'DMC-GF3CT', 'DMC-GF3KK', 'DMC-GH2', 'DMC-GH3K',\n",
    "       'DMC-GH4KBODY', 'DMC-GM1KS', 'DMC-GX1K', 'DMC-LF1', 'DMC-LX5',\n",
    "       'DMC-LX7W', 'DMC-S3', 'DMC-ZR3', 'DMC-ZS10', 'DMC-ZS25', 'DMC-ZS6',\n",
    "       'DMC-ZS7', 'DMC-ZS8', 'GX7', 'SZ1', 'SZ7', 'ZS15', 'ZS20', 'S40',\n",
    "       'WG-3', 'L85', 'a6000', 'a7S',\n",
    "       'DSLR-A300', 'NEX', 'NEX-C3', 'SLT-a35', 'SLT-A37K', 'SLT-A57',\n",
    "       'SLT-A65VL', 'SLT-A99V', 'MHS-TS55', 'DSC-HX100V',\n",
    "       'DSC-HX200V', 'DSC-HX20V', 'DSC-HX30V', 'DSC-HX5V', 'DSC-HX9V',\n",
    "       'DSCP73', 'DSCR1', 'DSC-TX66', 'DSCW200', 'DSC-W560', 'DSCW650',\n",
    "       'DSC-WX150', 'DSC-WX50', 'II', 'III', 'SLTA57K', '3d', '10.1MP',\n",
    "       '3-in-1', 'Timelapse', 'SL1', 'T1i', 'T2i', 'T3', 'T3i', 'T4i',\n",
    "       'T5', 'Waterproof', '110', '115', '130', '300', '310', '320',\n",
    "       '330', '520', '530', 'X500-BK', 'A200',\n",
    "       'FH-8', 'NEX5K/S', 'A3500', '300D', 'W3', 'A65', 'FX-3D', 'W3S']"
   ]
  },
  {
   "cell_type": "code",
   "execution_count": null,
   "metadata": {},
   "outputs": [],
   "source": []
  }
 ],
 "metadata": {
  "kernelspec": {
   "display_name": "Python 3",
   "language": "python",
   "name": "python3"
  },
  "language_info": {
   "codemirror_mode": {
    "name": "ipython",
    "version": 3
   },
   "file_extension": ".py",
   "mimetype": "text/x-python",
   "name": "python",
   "nbconvert_exporter": "python",
   "pygments_lexer": "ipython3",
   "version": "3.6.8"
  }
 },
 "nbformat": 4,
 "nbformat_minor": 2
}
