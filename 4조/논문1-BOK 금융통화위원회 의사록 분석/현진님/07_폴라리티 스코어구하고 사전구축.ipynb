{
 "cells": [
  {
   "cell_type": "code",
   "execution_count": 91,
   "metadata": {},
   "outputs": [],
   "source": [
    "import pandas as pd\n",
    "df = pd.read_csv(\"06_updown_count_last_2.csv\",encoding = 'utf-8')"
   ]
  },
  {
   "cell_type": "code",
   "execution_count": 92,
   "metadata": {},
   "outputs": [
    {
     "data": {
      "text/html": [
       "<div>\n",
       "<style scoped>\n",
       "    .dataframe tbody tr th:only-of-type {\n",
       "        vertical-align: middle;\n",
       "    }\n",
       "\n",
       "    .dataframe tbody tr th {\n",
       "        vertical-align: top;\n",
       "    }\n",
       "\n",
       "    .dataframe thead th {\n",
       "        text-align: right;\n",
       "    }\n",
       "</style>\n",
       "<table border=\"1\" class=\"dataframe\">\n",
       "  <thead>\n",
       "    <tr style=\"text-align: right;\">\n",
       "      <th></th>\n",
       "      <th>Unnamed: 0</th>\n",
       "      <th>ngram</th>\n",
       "      <th>up_count</th>\n",
       "      <th>down_count</th>\n",
       "    </tr>\n",
       "  </thead>\n",
       "  <tbody>\n",
       "    <tr>\n",
       "      <th>0</th>\n",
       "      <td>하/VV</td>\n",
       "      <td>4223780</td>\n",
       "      <td>2020531.0</td>\n",
       "      <td>2203249.0</td>\n",
       "    </tr>\n",
       "    <tr>\n",
       "      <th>1</th>\n",
       "      <td>하/XSV</td>\n",
       "      <td>1928663</td>\n",
       "      <td>926450.0</td>\n",
       "      <td>1002213.0</td>\n",
       "    </tr>\n",
       "    <tr>\n",
       "      <th>2</th>\n",
       "      <td>금리/NNG</td>\n",
       "      <td>1700126</td>\n",
       "      <td>824828.0</td>\n",
       "      <td>875298.0</td>\n",
       "    </tr>\n",
       "    <tr>\n",
       "      <th>3</th>\n",
       "      <td>되/VV</td>\n",
       "      <td>1661033</td>\n",
       "      <td>810163.0</td>\n",
       "      <td>850870.0</td>\n",
       "    </tr>\n",
       "    <tr>\n",
       "      <th>4</th>\n",
       "      <td>보/VV</td>\n",
       "      <td>828869</td>\n",
       "      <td>400503.0</td>\n",
       "      <td>428366.0</td>\n",
       "    </tr>\n",
       "  </tbody>\n",
       "</table>\n",
       "</div>"
      ],
      "text/plain": [
       "  Unnamed: 0    ngram   up_count  down_count\n",
       "0       하/VV  4223780  2020531.0   2203249.0\n",
       "1      하/XSV  1928663   926450.0   1002213.0\n",
       "2     금리/NNG  1700126   824828.0    875298.0\n",
       "3       되/VV  1661033   810163.0    850870.0\n",
       "4       보/VV   828869   400503.0    428366.0"
      ]
     },
     "execution_count": 92,
     "metadata": {},
     "output_type": "execute_result"
    }
   ],
   "source": [
    "df.head()"
   ]
  },
  {
   "cell_type": "code",
   "execution_count": 93,
   "metadata": {},
   "outputs": [],
   "source": [
    "# 컬럼 이름 변경 \n",
    "df = df.rename(columns = {df.columns[0]:'ngram',\n",
    "                          df.columns[1]:'total_count',\n",
    "                          df.columns[2]:'up_count',\n",
    "                          df.columns[3]:'down_count'})"
   ]
  },
  {
   "cell_type": "code",
   "execution_count": 94,
   "metadata": {},
   "outputs": [
    {
     "data": {
      "text/html": [
       "<div>\n",
       "<style scoped>\n",
       "    .dataframe tbody tr th:only-of-type {\n",
       "        vertical-align: middle;\n",
       "    }\n",
       "\n",
       "    .dataframe tbody tr th {\n",
       "        vertical-align: top;\n",
       "    }\n",
       "\n",
       "    .dataframe thead th {\n",
       "        text-align: right;\n",
       "    }\n",
       "</style>\n",
       "<table border=\"1\" class=\"dataframe\">\n",
       "  <thead>\n",
       "    <tr style=\"text-align: right;\">\n",
       "      <th></th>\n",
       "      <th>ngram</th>\n",
       "      <th>total_count</th>\n",
       "      <th>up_count</th>\n",
       "      <th>down_count</th>\n",
       "    </tr>\n",
       "  </thead>\n",
       "  <tbody>\n",
       "    <tr>\n",
       "      <th>54747</th>\n",
       "      <td>생로병사/NNG</td>\n",
       "      <td>15</td>\n",
       "      <td>11.0</td>\n",
       "      <td>4.0</td>\n",
       "    </tr>\n",
       "    <tr>\n",
       "      <th>54748</th>\n",
       "      <td>하락/NNG;거품/NNG</td>\n",
       "      <td>15</td>\n",
       "      <td>7.0</td>\n",
       "      <td>8.0</td>\n",
       "    </tr>\n",
       "    <tr>\n",
       "      <th>54749</th>\n",
       "      <td>화승/NNG</td>\n",
       "      <td>15</td>\n",
       "      <td>12.0</td>\n",
       "      <td>3.0</td>\n",
       "    </tr>\n",
       "    <tr>\n",
       "      <th>54750</th>\n",
       "      <td>명목/NNG;임금/NNG;상승/NNG</td>\n",
       "      <td>15</td>\n",
       "      <td>8.0</td>\n",
       "      <td>7.0</td>\n",
       "    </tr>\n",
       "    <tr>\n",
       "      <th>54751</th>\n",
       "      <td>국고채/NNG;장기물/NNG;약세/NNG</td>\n",
       "      <td>15</td>\n",
       "      <td>4.0</td>\n",
       "      <td>11.0</td>\n",
       "    </tr>\n",
       "  </tbody>\n",
       "</table>\n",
       "</div>"
      ],
      "text/plain": [
       "                        ngram  total_count  up_count  down_count\n",
       "54747                생로병사/NNG           15      11.0         4.0\n",
       "54748           하락/NNG;거품/NNG           15       7.0         8.0\n",
       "54749                  화승/NNG           15      12.0         3.0\n",
       "54750    명목/NNG;임금/NNG;상승/NNG           15       8.0         7.0\n",
       "54751  국고채/NNG;장기물/NNG;약세/NNG           15       4.0        11.0"
      ]
     },
     "execution_count": 94,
     "metadata": {},
     "output_type": "execute_result"
    }
   ],
   "source": [
    "df.tail()"
   ]
  },
  {
   "cell_type": "markdown",
   "metadata": {
    "collapsed": true
   },
   "source": [
    "    pos_total = 0\n",
    "    for i in range(len(df)):\n",
    "        if df['ngram_up'][i] is not None:\n",
    "            pos_total += df['ngram_up'][i]\n",
    "        else:\n",
    "            pass\n",
    "############## Nan때문에 연산이 안됨\n",
    "\n",
    "    new_df = df.fillna(value = 0) #nan을 0으로 만들고 새로운 변수에 저장"
   ]
  },
  {
   "cell_type": "code",
   "execution_count": 95,
   "metadata": {},
   "outputs": [],
   "source": [
    "new_df = df.fillna(value = 0)"
   ]
  },
  {
   "cell_type": "code",
   "execution_count": 96,
   "metadata": {},
   "outputs": [
    {
     "data": {
      "text/html": [
       "<div>\n",
       "<style scoped>\n",
       "    .dataframe tbody tr th:only-of-type {\n",
       "        vertical-align: middle;\n",
       "    }\n",
       "\n",
       "    .dataframe tbody tr th {\n",
       "        vertical-align: top;\n",
       "    }\n",
       "\n",
       "    .dataframe thead th {\n",
       "        text-align: right;\n",
       "    }\n",
       "</style>\n",
       "<table border=\"1\" class=\"dataframe\">\n",
       "  <thead>\n",
       "    <tr style=\"text-align: right;\">\n",
       "      <th></th>\n",
       "      <th>ngram</th>\n",
       "      <th>total_count</th>\n",
       "      <th>up_count</th>\n",
       "      <th>down_count</th>\n",
       "    </tr>\n",
       "  </thead>\n",
       "  <tbody>\n",
       "    <tr>\n",
       "      <th>0</th>\n",
       "      <td>하/VV</td>\n",
       "      <td>4223780</td>\n",
       "      <td>2020531.0</td>\n",
       "      <td>2203249.0</td>\n",
       "    </tr>\n",
       "    <tr>\n",
       "      <th>1</th>\n",
       "      <td>하/XSV</td>\n",
       "      <td>1928663</td>\n",
       "      <td>926450.0</td>\n",
       "      <td>1002213.0</td>\n",
       "    </tr>\n",
       "    <tr>\n",
       "      <th>2</th>\n",
       "      <td>금리/NNG</td>\n",
       "      <td>1700126</td>\n",
       "      <td>824828.0</td>\n",
       "      <td>875298.0</td>\n",
       "    </tr>\n",
       "    <tr>\n",
       "      <th>3</th>\n",
       "      <td>되/VV</td>\n",
       "      <td>1661033</td>\n",
       "      <td>810163.0</td>\n",
       "      <td>850870.0</td>\n",
       "    </tr>\n",
       "    <tr>\n",
       "      <th>4</th>\n",
       "      <td>보/VV</td>\n",
       "      <td>828869</td>\n",
       "      <td>400503.0</td>\n",
       "      <td>428366.0</td>\n",
       "    </tr>\n",
       "  </tbody>\n",
       "</table>\n",
       "</div>"
      ],
      "text/plain": [
       "    ngram  total_count   up_count  down_count\n",
       "0    하/VV      4223780  2020531.0   2203249.0\n",
       "1   하/XSV      1928663   926450.0   1002213.0\n",
       "2  금리/NNG      1700126   824828.0    875298.0\n",
       "3    되/VV      1661033   810163.0    850870.0\n",
       "4    보/VV       828869   400503.0    428366.0"
      ]
     },
     "execution_count": 96,
     "metadata": {},
     "output_type": "execute_result"
    }
   ],
   "source": [
    "new_df.head()"
   ]
  },
  {
   "cell_type": "code",
   "execution_count": 97,
   "metadata": {},
   "outputs": [],
   "source": [
    "#postive 총 합 연산\n",
    "pos_total = 0\n",
    "for i in range(len(new_df)):\n",
    "    pos_total += new_df['up_count'][i]"
   ]
  },
  {
   "cell_type": "code",
   "execution_count": 98,
   "metadata": {},
   "outputs": [
    {
     "data": {
      "text/plain": [
       "40754938.0"
      ]
     },
     "execution_count": 98,
     "metadata": {},
     "output_type": "execute_result"
    }
   ],
   "source": [
    "pos_total"
   ]
  },
  {
   "cell_type": "code",
   "execution_count": 99,
   "metadata": {},
   "outputs": [],
   "source": [
    "#negative 총 합 연산\n",
    "neg_total = 0\n",
    "for i in range(len(new_df)):\n",
    "    neg_total += new_df['down_count'][i]"
   ]
  },
  {
   "cell_type": "code",
   "execution_count": 100,
   "metadata": {},
   "outputs": [
    {
     "data": {
      "text/plain": [
       "43858889.0"
      ]
     },
     "execution_count": 100,
     "metadata": {},
     "output_type": "execute_result"
    }
   ],
   "source": [
    "neg_total"
   ]
  },
  {
   "cell_type": "markdown",
   "metadata": {},
   "source": [
    "## 극성 스코어 구하기"
   ]
  },
  {
   "cell_type": "code",
   "execution_count": 101,
   "metadata": {},
   "outputs": [
    {
     "data": {
      "text/plain": [
       "0.9869140364323843"
      ]
     },
     "execution_count": 101,
     "metadata": {},
     "output_type": "execute_result"
    }
   ],
   "source": [
    "polar = (new_df['up_count'][0]/pos_total)/(new_df['down_count'][0]/neg_total) #이런식으로\n",
    "polar"
   ]
  },
  {
   "cell_type": "code",
   "execution_count": 102,
   "metadata": {},
   "outputs": [
    {
     "name": "stderr",
     "output_type": "stream",
     "text": [
      "/usr/local/lib/python3.5/dist-packages/ipykernel_launcher.py:3: RuntimeWarning: divide by zero encountered in double_scalars\n",
      "  This is separate from the ipykernel package so we can avoid doing imports until\n"
     ]
    }
   ],
   "source": [
    "polar_list = []\n",
    "for i in range(len(new_df)):\n",
    "    polar_list.append((new_df['up_count'][i]/pos_total)/(new_df['down_count'][i]/neg_total))\n",
    "    "
   ]
  },
  {
   "cell_type": "code",
   "execution_count": 103,
   "metadata": {
    "scrolled": true
   },
   "outputs": [
    {
     "data": {
      "text/html": [
       "<div>\n",
       "<style scoped>\n",
       "    .dataframe tbody tr th:only-of-type {\n",
       "        vertical-align: middle;\n",
       "    }\n",
       "\n",
       "    .dataframe tbody tr th {\n",
       "        vertical-align: top;\n",
       "    }\n",
       "\n",
       "    .dataframe thead th {\n",
       "        text-align: right;\n",
       "    }\n",
       "</style>\n",
       "<table border=\"1\" class=\"dataframe\">\n",
       "  <thead>\n",
       "    <tr style=\"text-align: right;\">\n",
       "      <th></th>\n",
       "      <th>ngram</th>\n",
       "      <th>total_count</th>\n",
       "      <th>up_count</th>\n",
       "      <th>down_count</th>\n",
       "      <th>polar_score</th>\n",
       "    </tr>\n",
       "  </thead>\n",
       "  <tbody>\n",
       "    <tr>\n",
       "      <th>0</th>\n",
       "      <td>하/VV</td>\n",
       "      <td>4223780</td>\n",
       "      <td>2020531.0</td>\n",
       "      <td>2203249.0</td>\n",
       "      <td>0.986914</td>\n",
       "    </tr>\n",
       "    <tr>\n",
       "      <th>1</th>\n",
       "      <td>하/XSV</td>\n",
       "      <td>1928663</td>\n",
       "      <td>926450.0</td>\n",
       "      <td>1002213.0</td>\n",
       "      <td>0.994808</td>\n",
       "    </tr>\n",
       "    <tr>\n",
       "      <th>2</th>\n",
       "      <td>금리/NNG</td>\n",
       "      <td>1700126</td>\n",
       "      <td>824828.0</td>\n",
       "      <td>875298.0</td>\n",
       "      <td>1.014109</td>\n",
       "    </tr>\n",
       "    <tr>\n",
       "      <th>3</th>\n",
       "      <td>되/VV</td>\n",
       "      <td>1661033</td>\n",
       "      <td>810163.0</td>\n",
       "      <td>850870.0</td>\n",
       "      <td>1.024676</td>\n",
       "    </tr>\n",
       "    <tr>\n",
       "      <th>4</th>\n",
       "      <td>보/VV</td>\n",
       "      <td>828869</td>\n",
       "      <td>400503.0</td>\n",
       "      <td>428366.0</td>\n",
       "      <td>1.006163</td>\n",
       "    </tr>\n",
       "  </tbody>\n",
       "</table>\n",
       "</div>"
      ],
      "text/plain": [
       "    ngram  total_count   up_count  down_count  polar_score\n",
       "0    하/VV      4223780  2020531.0   2203249.0     0.986914\n",
       "1   하/XSV      1928663   926450.0   1002213.0     0.994808\n",
       "2  금리/NNG      1700126   824828.0    875298.0     1.014109\n",
       "3    되/VV      1661033   810163.0    850870.0     1.024676\n",
       "4    보/VV       828869   400503.0    428366.0     1.006163"
      ]
     },
     "execution_count": 103,
     "metadata": {},
     "output_type": "execute_result"
    }
   ],
   "source": [
    "new_df['polar_score'] = polar_list\n",
    "new_df.head()"
   ]
  },
  {
   "cell_type": "code",
   "execution_count": 104,
   "metadata": {},
   "outputs": [],
   "source": [
    "#1.3 ~ 0.76사이는 중립 \n",
    "#1.3이 넘으면 긍정\n",
    "#0.76미만은 부정"
   ]
  },
  {
   "cell_type": "code",
   "execution_count": 105,
   "metadata": {},
   "outputs": [],
   "source": [
    "POSorNEG=[]\n",
    "for i in range(len(polar_list)):\n",
    "    if polar_list[i] >1.3:\n",
    "        POSorNEG.append('Hawkish')\n",
    "    elif polar_list[i] <0.76:\n",
    "        POSorNEG.append('Dovish')\n",
    "    else:\n",
    "        POSorNEG.append('nothing')"
   ]
  },
  {
   "cell_type": "code",
   "execution_count": 106,
   "metadata": {},
   "outputs": [],
   "source": [
    "new_df['polarity']= POSorNEG"
   ]
  },
  {
   "cell_type": "code",
   "execution_count": 107,
   "metadata": {},
   "outputs": [
    {
     "data": {
      "text/html": [
       "<div>\n",
       "<style scoped>\n",
       "    .dataframe tbody tr th:only-of-type {\n",
       "        vertical-align: middle;\n",
       "    }\n",
       "\n",
       "    .dataframe tbody tr th {\n",
       "        vertical-align: top;\n",
       "    }\n",
       "\n",
       "    .dataframe thead th {\n",
       "        text-align: right;\n",
       "    }\n",
       "</style>\n",
       "<table border=\"1\" class=\"dataframe\">\n",
       "  <thead>\n",
       "    <tr style=\"text-align: right;\">\n",
       "      <th></th>\n",
       "      <th>ngram</th>\n",
       "      <th>total_count</th>\n",
       "      <th>up_count</th>\n",
       "      <th>down_count</th>\n",
       "      <th>polar_score</th>\n",
       "      <th>polarity</th>\n",
       "    </tr>\n",
       "  </thead>\n",
       "  <tbody>\n",
       "    <tr>\n",
       "      <th>0</th>\n",
       "      <td>하/VV</td>\n",
       "      <td>4223780</td>\n",
       "      <td>2020531.0</td>\n",
       "      <td>2203249.0</td>\n",
       "      <td>0.986914</td>\n",
       "      <td>nothing</td>\n",
       "    </tr>\n",
       "    <tr>\n",
       "      <th>1</th>\n",
       "      <td>하/XSV</td>\n",
       "      <td>1928663</td>\n",
       "      <td>926450.0</td>\n",
       "      <td>1002213.0</td>\n",
       "      <td>0.994808</td>\n",
       "      <td>nothing</td>\n",
       "    </tr>\n",
       "    <tr>\n",
       "      <th>2</th>\n",
       "      <td>금리/NNG</td>\n",
       "      <td>1700126</td>\n",
       "      <td>824828.0</td>\n",
       "      <td>875298.0</td>\n",
       "      <td>1.014109</td>\n",
       "      <td>nothing</td>\n",
       "    </tr>\n",
       "    <tr>\n",
       "      <th>3</th>\n",
       "      <td>되/VV</td>\n",
       "      <td>1661033</td>\n",
       "      <td>810163.0</td>\n",
       "      <td>850870.0</td>\n",
       "      <td>1.024676</td>\n",
       "      <td>nothing</td>\n",
       "    </tr>\n",
       "    <tr>\n",
       "      <th>4</th>\n",
       "      <td>보/VV</td>\n",
       "      <td>828869</td>\n",
       "      <td>400503.0</td>\n",
       "      <td>428366.0</td>\n",
       "      <td>1.006163</td>\n",
       "      <td>nothing</td>\n",
       "    </tr>\n",
       "  </tbody>\n",
       "</table>\n",
       "</div>"
      ],
      "text/plain": [
       "    ngram  total_count   up_count  down_count  polar_score polarity\n",
       "0    하/VV      4223780  2020531.0   2203249.0     0.986914  nothing\n",
       "1   하/XSV      1928663   926450.0   1002213.0     0.994808  nothing\n",
       "2  금리/NNG      1700126   824828.0    875298.0     1.014109  nothing\n",
       "3    되/VV      1661033   810163.0    850870.0     1.024676  nothing\n",
       "4    보/VV       828869   400503.0    428366.0     1.006163  nothing"
      ]
     },
     "execution_count": 107,
     "metadata": {},
     "output_type": "execute_result"
    }
   ],
   "source": [
    "new_df.head()"
   ]
  },
  {
   "cell_type": "code",
   "execution_count": 108,
   "metadata": {},
   "outputs": [
    {
     "data": {
      "text/html": [
       "<div>\n",
       "<style scoped>\n",
       "    .dataframe tbody tr th:only-of-type {\n",
       "        vertical-align: middle;\n",
       "    }\n",
       "\n",
       "    .dataframe tbody tr th {\n",
       "        vertical-align: top;\n",
       "    }\n",
       "\n",
       "    .dataframe thead th {\n",
       "        text-align: right;\n",
       "    }\n",
       "</style>\n",
       "<table border=\"1\" class=\"dataframe\">\n",
       "  <thead>\n",
       "    <tr style=\"text-align: right;\">\n",
       "      <th></th>\n",
       "      <th>ngram</th>\n",
       "      <th>total_count</th>\n",
       "      <th>up_count</th>\n",
       "      <th>down_count</th>\n",
       "      <th>polar_score</th>\n",
       "      <th>polarity</th>\n",
       "    </tr>\n",
       "  </thead>\n",
       "  <tbody>\n",
       "    <tr>\n",
       "      <th>54747</th>\n",
       "      <td>생로병사/NNG</td>\n",
       "      <td>15</td>\n",
       "      <td>11.0</td>\n",
       "      <td>4.0</td>\n",
       "      <td>2.959444</td>\n",
       "      <td>Hawkish</td>\n",
       "    </tr>\n",
       "    <tr>\n",
       "      <th>54748</th>\n",
       "      <td>하락/NNG;거품/NNG</td>\n",
       "      <td>15</td>\n",
       "      <td>7.0</td>\n",
       "      <td>8.0</td>\n",
       "      <td>0.941641</td>\n",
       "      <td>nothing</td>\n",
       "    </tr>\n",
       "    <tr>\n",
       "      <th>54749</th>\n",
       "      <td>화승/NNG</td>\n",
       "      <td>15</td>\n",
       "      <td>12.0</td>\n",
       "      <td>3.0</td>\n",
       "      <td>4.304645</td>\n",
       "      <td>Hawkish</td>\n",
       "    </tr>\n",
       "    <tr>\n",
       "      <th>54750</th>\n",
       "      <td>명목/NNG;임금/NNG;상승/NNG</td>\n",
       "      <td>15</td>\n",
       "      <td>8.0</td>\n",
       "      <td>7.0</td>\n",
       "      <td>1.229899</td>\n",
       "      <td>nothing</td>\n",
       "    </tr>\n",
       "    <tr>\n",
       "      <th>54751</th>\n",
       "      <td>국고채/NNG;장기물/NNG;약세/NNG</td>\n",
       "      <td>15</td>\n",
       "      <td>4.0</td>\n",
       "      <td>11.0</td>\n",
       "      <td>0.391331</td>\n",
       "      <td>Dovish</td>\n",
       "    </tr>\n",
       "  </tbody>\n",
       "</table>\n",
       "</div>"
      ],
      "text/plain": [
       "                        ngram  total_count  up_count  down_count  polar_score  \\\n",
       "54747                생로병사/NNG           15      11.0         4.0     2.959444   \n",
       "54748           하락/NNG;거품/NNG           15       7.0         8.0     0.941641   \n",
       "54749                  화승/NNG           15      12.0         3.0     4.304645   \n",
       "54750    명목/NNG;임금/NNG;상승/NNG           15       8.0         7.0     1.229899   \n",
       "54751  국고채/NNG;장기물/NNG;약세/NNG           15       4.0        11.0     0.391331   \n",
       "\n",
       "      polarity  \n",
       "54747  Hawkish  \n",
       "54748  nothing  \n",
       "54749  Hawkish  \n",
       "54750  nothing  \n",
       "54751   Dovish  "
      ]
     },
     "execution_count": 108,
     "metadata": {},
     "output_type": "execute_result"
    }
   ],
   "source": [
    "new_df.tail()"
   ]
  },
  {
   "cell_type": "code",
   "execution_count": 109,
   "metadata": {},
   "outputs": [],
   "source": [
    "#positive만 추리기\n",
    "pos_df = new_df[new_df['polarity']=='Hawkish']"
   ]
  },
  {
   "cell_type": "code",
   "execution_count": 110,
   "metadata": {},
   "outputs": [],
   "source": [
    "#negative만 추리기\n",
    "neg_df = new_df[new_df['polarity']=='Dovish']"
   ]
  },
  {
   "cell_type": "code",
   "execution_count": 111,
   "metadata": {},
   "outputs": [],
   "source": [
    "neg_df.to_csv(\"07_total_dict_neg_2.csv\",encoding = 'utf-8')"
   ]
  },
  {
   "cell_type": "code",
   "execution_count": 112,
   "metadata": {},
   "outputs": [],
   "source": [
    "pos_df.to_csv(\"07_total_dict_pos_2.csv\",encoding = 'utf-8')"
   ]
  },
  {
   "cell_type": "code",
   "execution_count": 113,
   "metadata": {},
   "outputs": [
    {
     "data": {
      "text/html": [
       "<div>\n",
       "<style scoped>\n",
       "    .dataframe tbody tr th:only-of-type {\n",
       "        vertical-align: middle;\n",
       "    }\n",
       "\n",
       "    .dataframe tbody tr th {\n",
       "        vertical-align: top;\n",
       "    }\n",
       "\n",
       "    .dataframe thead th {\n",
       "        text-align: right;\n",
       "    }\n",
       "</style>\n",
       "<table border=\"1\" class=\"dataframe\">\n",
       "  <thead>\n",
       "    <tr style=\"text-align: right;\">\n",
       "      <th></th>\n",
       "      <th>ngram</th>\n",
       "      <th>total_count</th>\n",
       "      <th>up_count</th>\n",
       "      <th>down_count</th>\n",
       "      <th>polar_score</th>\n",
       "      <th>polarity</th>\n",
       "    </tr>\n",
       "  </thead>\n",
       "  <tbody>\n",
       "    <tr>\n",
       "      <th>15</th>\n",
       "      <td>인상/NNG</td>\n",
       "      <td>460593</td>\n",
       "      <td>258982.0</td>\n",
       "      <td>201611.0</td>\n",
       "      <td>1.382397</td>\n",
       "      <td>Hawkish</td>\n",
       "    </tr>\n",
       "    <tr>\n",
       "      <th>84</th>\n",
       "      <td>인플레이션/NNG</td>\n",
       "      <td>143338</td>\n",
       "      <td>78757.0</td>\n",
       "      <td>64581.0</td>\n",
       "      <td>1.312387</td>\n",
       "      <td>Hawkish</td>\n",
       "    </tr>\n",
       "    <tr>\n",
       "      <th>289</th>\n",
       "      <td>콜/NNG</td>\n",
       "      <td>51010</td>\n",
       "      <td>32331.0</td>\n",
       "      <td>18679.0</td>\n",
       "      <td>1.862700</td>\n",
       "      <td>Hawkish</td>\n",
       "    </tr>\n",
       "    <tr>\n",
       "      <th>346</th>\n",
       "      <td>긴축/NNG</td>\n",
       "      <td>41373</td>\n",
       "      <td>25307.0</td>\n",
       "      <td>16066.0</td>\n",
       "      <td>1.695158</td>\n",
       "      <td>Hawkish</td>\n",
       "    </tr>\n",
       "    <tr>\n",
       "      <th>418</th>\n",
       "      <td>증가율/NNG</td>\n",
       "      <td>33963</td>\n",
       "      <td>18664.0</td>\n",
       "      <td>15299.0</td>\n",
       "      <td>1.312862</td>\n",
       "      <td>Hawkish</td>\n",
       "    </tr>\n",
       "  </tbody>\n",
       "</table>\n",
       "</div>"
      ],
      "text/plain": [
       "         ngram  total_count  up_count  down_count  polar_score polarity\n",
       "15      인상/NNG       460593  258982.0    201611.0     1.382397  Hawkish\n",
       "84   인플레이션/NNG       143338   78757.0     64581.0     1.312387  Hawkish\n",
       "289      콜/NNG        51010   32331.0     18679.0     1.862700  Hawkish\n",
       "346     긴축/NNG        41373   25307.0     16066.0     1.695158  Hawkish\n",
       "418    증가율/NNG        33963   18664.0     15299.0     1.312862  Hawkish"
      ]
     },
     "execution_count": 113,
     "metadata": {},
     "output_type": "execute_result"
    }
   ],
   "source": [
    "pos_df.head()"
   ]
  },
  {
   "cell_type": "code",
   "execution_count": 114,
   "metadata": {},
   "outputs": [
    {
     "data": {
      "text/plain": [
       "14897"
      ]
     },
     "execution_count": 114,
     "metadata": {},
     "output_type": "execute_result"
    }
   ],
   "source": [
    "len(pos_df)"
   ]
  },
  {
   "cell_type": "code",
   "execution_count": 115,
   "metadata": {},
   "outputs": [
    {
     "data": {
      "text/html": [
       "<div>\n",
       "<style scoped>\n",
       "    .dataframe tbody tr th:only-of-type {\n",
       "        vertical-align: middle;\n",
       "    }\n",
       "\n",
       "    .dataframe tbody tr th {\n",
       "        vertical-align: top;\n",
       "    }\n",
       "\n",
       "    .dataframe thead th {\n",
       "        text-align: right;\n",
       "    }\n",
       "</style>\n",
       "<table border=\"1\" class=\"dataframe\">\n",
       "  <thead>\n",
       "    <tr style=\"text-align: right;\">\n",
       "      <th></th>\n",
       "      <th>ngram</th>\n",
       "      <th>total_count</th>\n",
       "      <th>up_count</th>\n",
       "      <th>down_count</th>\n",
       "      <th>polar_score</th>\n",
       "      <th>polarity</th>\n",
       "    </tr>\n",
       "  </thead>\n",
       "  <tbody>\n",
       "    <tr>\n",
       "      <th>27</th>\n",
       "      <td>인하/NNG</td>\n",
       "      <td>273427</td>\n",
       "      <td>99587.0</td>\n",
       "      <td>173840.0</td>\n",
       "      <td>0.616496</td>\n",
       "      <td>Dovish</td>\n",
       "    </tr>\n",
       "    <tr>\n",
       "      <th>234</th>\n",
       "      <td>양적완화/NNG</td>\n",
       "      <td>61401</td>\n",
       "      <td>25143.0</td>\n",
       "      <td>36258.0</td>\n",
       "      <td>0.746261</td>\n",
       "      <td>Dovish</td>\n",
       "    </tr>\n",
       "    <tr>\n",
       "      <th>315</th>\n",
       "      <td>대책/NNG</td>\n",
       "      <td>47926</td>\n",
       "      <td>19477.0</td>\n",
       "      <td>28449.0</td>\n",
       "      <td>0.736771</td>\n",
       "      <td>Dovish</td>\n",
       "    </tr>\n",
       "    <tr>\n",
       "      <th>331</th>\n",
       "      <td>금융위기/NNG</td>\n",
       "      <td>43784</td>\n",
       "      <td>16880.0</td>\n",
       "      <td>26904.0</td>\n",
       "      <td>0.675201</td>\n",
       "      <td>Dovish</td>\n",
       "    </tr>\n",
       "    <tr>\n",
       "      <th>393</th>\n",
       "      <td>부양/NNG</td>\n",
       "      <td>36935</td>\n",
       "      <td>15021.0</td>\n",
       "      <td>21914.0</td>\n",
       "      <td>0.737657</td>\n",
       "      <td>Dovish</td>\n",
       "    </tr>\n",
       "  </tbody>\n",
       "</table>\n",
       "</div>"
      ],
      "text/plain": [
       "        ngram  total_count  up_count  down_count  polar_score polarity\n",
       "27     인하/NNG       273427   99587.0    173840.0     0.616496   Dovish\n",
       "234  양적완화/NNG        61401   25143.0     36258.0     0.746261   Dovish\n",
       "315    대책/NNG        47926   19477.0     28449.0     0.736771   Dovish\n",
       "331  금융위기/NNG        43784   16880.0     26904.0     0.675201   Dovish\n",
       "393    부양/NNG        36935   15021.0     21914.0     0.737657   Dovish"
      ]
     },
     "execution_count": 115,
     "metadata": {},
     "output_type": "execute_result"
    }
   ],
   "source": [
    "neg_df.head()"
   ]
  },
  {
   "cell_type": "code",
   "execution_count": 116,
   "metadata": {},
   "outputs": [
    {
     "data": {
      "text/plain": [
       "15941"
      ]
     },
     "execution_count": 116,
     "metadata": {},
     "output_type": "execute_result"
    }
   ],
   "source": [
    "len(neg_df)"
   ]
  }
 ],
 "metadata": {
  "kernelspec": {
   "display_name": "Python 3",
   "language": "python",
   "name": "python3"
  },
  "language_info": {
   "codemirror_mode": {
    "name": "ipython",
    "version": 3
   },
   "file_extension": ".py",
   "mimetype": "text/x-python",
   "name": "python",
   "nbconvert_exporter": "python",
   "pygments_lexer": "ipython3",
   "version": "3.7.4"
  }
 },
 "nbformat": 4,
 "nbformat_minor": 2
}
