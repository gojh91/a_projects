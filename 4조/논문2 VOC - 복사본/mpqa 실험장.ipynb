{
 "cells": [
  {
   "cell_type": "code",
   "execution_count": null,
   "metadata": {},
   "outputs": [],
   "source": [
    "import pandas as pd \n",
    "import nltk\n",
    "nltk.download('punkt')\n",
    "from nltk.tokenize import sent_tokenize\n",
    "from nltk.tokenize import word_tokenize\n",
    "from pprint import pprint\n",
    "import pymysql\n",
    "import pandas as pd"
   ]
  },
  {
   "cell_type": "code",
   "execution_count": null,
   "metadata": {},
   "outputs": [],
   "source": [
    "raw = pd.read_csv('to승지님께.csv', encoding='utf-8')"
   ]
  },
  {
   "cell_type": "code",
   "execution_count": null,
   "metadata": {},
   "outputs": [],
   "source": [
    "# data = raw.copy()"
   ]
  },
  {
   "cell_type": "code",
   "execution_count": null,
   "metadata": {},
   "outputs": [],
   "source": [
    "# test_df = data[:10000]"
   ]
  },
  {
   "cell_type": "code",
   "execution_count": null,
   "metadata": {},
   "outputs": [],
   "source": [
    "# test_df.head()"
   ]
  },
  {
   "cell_type": "code",
   "execution_count": null,
   "metadata": {
    "scrolled": true
   },
   "outputs": [],
   "source": [
    "db = pymysql.connect(\n",
    "    host='ec2-13-209-223-88.ap-northeast-2.compute.amazonaws.com',  # DATABASE_HOST\n",
    "    port=3306,\n",
    "    user='nlpuser',  # DATABASE_USERNAME\n",
    "    passwd='1234',  # DATABASE_PASSWORD\n",
    "    db='nlp',  # DATABASE_NAME\n",
    "    charset='utf8'\n",
    ")\n",
    "\n",
    "SQL = \"SELECT * FROM TotalDic\"\n",
    "MPQA = pd.read_sql(SQL, db)\n",
    "MPQA"
   ]
  },
  {
   "cell_type": "code",
   "execution_count": null,
   "metadata": {},
   "outputs": [],
   "source": [
    "MPQA = MPQA[MPQA['DicType2'] == 'MPQA']\n",
    "MPQA_list = MPQA[['Rule','Label']]\n",
    "POS_list = MPQA_list[MPQA_list['Label']=='POS']\n",
    "pos_list = POS_list['Rule']\n",
    "pos_list = list(pos_list)\n",
    "NEG_list = MPQA_list[MPQA_list['Label']=='NEG']\n",
    "neg_list = NEG_list['Rule']\n",
    "neg_list = list(neg_list)"
   ]
  },
  {
   "cell_type": "code",
   "execution_count": null,
   "metadata": {},
   "outputs": [],
   "source": []
  },
  {
   "cell_type": "code",
   "execution_count": null,
   "metadata": {},
   "outputs": [],
   "source": [
    "df_test = raw.copy()"
   ]
  },
  {
   "cell_type": "code",
   "execution_count": null,
   "metadata": {},
   "outputs": [],
   "source": [
    "# pos_list = ['boy']\n",
    "# neg_list = ['i']\n",
    "# neg_count = 0\n",
    "pos_token_list = []\n",
    "neg_token_list = []\n",
    "\n",
    "def tokenize(x):\n",
    "    return word_tokenize(x)\n",
    "\n",
    "def Pos_and_Neg(x):\n",
    "    pos_count = 0\n",
    "    neg_count = 0\n",
    "    a = None\n",
    "    for i in x:\n",
    "        if i in pos_list:\n",
    "            pos_count += 1\n",
    "        if i in neg_list:\n",
    "            neg_count += 1\n",
    "        if pos_count > neg_count:\n",
    "            a = 'POS'\n",
    "        elif neg_count > pos_count:\n",
    "            a = 'NEG'\n",
    "        else:\n",
    "            a = None\n",
    "    return a\n",
    "def PosNegCount(x):\n",
    "    pos_neg_ls = []\n",
    "    pos_count = 0\n",
    "    neg_count = 0\n",
    "    for i in x:\n",
    "        if i in pos_list:\n",
    "            pos_count += 1\n",
    "        if i in neg_list:\n",
    "            neg_count += 1\n",
    "            \n",
    "            \n",
    "    pos_neg_ls.append(pos_count)\n",
    "    pos_neg_ls.append(neg_count)\n",
    "    \n",
    "    \n",
    "    return pos_neg_ls\n",
    "\n",
    "df_test['Token'] = df_test['Sentence'].map(lambda x : tokenize(x))\n",
    "df_test['POS_NEG_Count'] = df_test['Token'].map(lambda x: PosNegCount(x))\n",
    "df_test['Label'] = df_test['Token'].map(lambda x: Pos_and_Neg(x))\n"
   ]
  },
  {
   "cell_type": "code",
   "execution_count": null,
   "metadata": {},
   "outputs": [],
   "source": [
    "df_test"
   ]
  },
  {
   "cell_type": "code",
   "execution_count": null,
   "metadata": {},
   "outputs": [],
   "source": []
  },
  {
   "cell_type": "code",
   "execution_count": null,
   "metadata": {},
   "outputs": [],
   "source": []
  }
 ],
 "metadata": {
  "kernelspec": {
   "display_name": "Python 3",
   "language": "python",
   "name": "python3"
  },
  "language_info": {
   "codemirror_mode": {
    "name": "ipython",
    "version": 3
   },
   "file_extension": ".py",
   "mimetype": "text/x-python",
   "name": "python",
   "nbconvert_exporter": "python",
   "pygments_lexer": "ipython3",
   "version": "3.7.3"
  }
 },
 "nbformat": 4,
 "nbformat_minor": 2
}
