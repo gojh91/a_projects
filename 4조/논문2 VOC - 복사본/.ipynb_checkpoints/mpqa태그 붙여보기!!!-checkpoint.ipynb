{
 "cells": [
  {
   "cell_type": "code",
   "execution_count": 8,
   "metadata": {},
   "outputs": [
    {
     "name": "stderr",
     "output_type": "stream",
     "text": [
      "[nltk_data] Downloading package punkt to\n",
      "[nltk_data]     C:\\Users\\seonmin\\AppData\\Roaming\\nltk_data...\n",
      "[nltk_data]   Package punkt is already up-to-date!\n",
      "[nltk_data] Downloading package averaged_perceptron_tagger to\n",
      "[nltk_data]     C:\\Users\\seonmin\\AppData\\Roaming\\nltk_data...\n",
      "[nltk_data]   Package averaged_perceptron_tagger is already up-to-\n",
      "[nltk_data]       date!\n"
     ]
    }
   ],
   "source": [
    "import nltk\n",
    "nltk.download('punkt')\n",
    "nltk.download('averaged_perceptron_tagger')\n",
    "\n",
    "from nltk.tokenize import word_tokenize"
   ]
  },
  {
   "cell_type": "code",
   "execution_count": 5,
   "metadata": {},
   "outputs": [],
   "source": [
    "a =\"Sometimes I feel silly writing a review. This normally occurs when I want to review a product that already has so many other reviews previously posted, and/or that come to similar conclusions. This is one of those reviews, and on both counts. But I still wish to write this review, because the Fuji X-T2 is THAT good.\""
   ]
  },
  {
   "cell_type": "code",
   "execution_count": 6,
   "metadata": {},
   "outputs": [],
   "source": [
    "token = word_tokenize(a)"
   ]
  },
  {
   "cell_type": "code",
   "execution_count": 7,
   "metadata": {
    "scrolled": true
   },
   "outputs": [
    {
     "data": {
      "text/plain": [
       "['Sometimes',\n",
       " 'I',\n",
       " 'feel',\n",
       " 'silly',\n",
       " 'writing',\n",
       " 'a',\n",
       " 'review',\n",
       " '.',\n",
       " 'This',\n",
       " 'normally',\n",
       " 'occurs',\n",
       " 'when',\n",
       " 'I',\n",
       " 'want',\n",
       " 'to',\n",
       " 'review',\n",
       " 'a',\n",
       " 'product',\n",
       " 'that',\n",
       " 'already',\n",
       " 'has',\n",
       " 'so',\n",
       " 'many',\n",
       " 'other',\n",
       " 'reviews',\n",
       " 'previously',\n",
       " 'posted',\n",
       " ',',\n",
       " 'and/or',\n",
       " 'that',\n",
       " 'come',\n",
       " 'to',\n",
       " 'similar',\n",
       " 'conclusions',\n",
       " '.',\n",
       " 'This',\n",
       " 'is',\n",
       " 'one',\n",
       " 'of',\n",
       " 'those',\n",
       " 'reviews',\n",
       " ',',\n",
       " 'and',\n",
       " 'on',\n",
       " 'both',\n",
       " 'counts',\n",
       " '.',\n",
       " 'But',\n",
       " 'I',\n",
       " 'still',\n",
       " 'wish',\n",
       " 'to',\n",
       " 'write',\n",
       " 'this',\n",
       " 'review',\n",
       " ',',\n",
       " 'because',\n",
       " 'the',\n",
       " 'Fuji',\n",
       " 'X-T2',\n",
       " 'is',\n",
       " 'THAT',\n",
       " 'good',\n",
       " '.']"
      ]
     },
     "execution_count": 7,
     "metadata": {},
     "output_type": "execute_result"
    }
   ],
   "source": [
    "token"
   ]
  },
  {
   "cell_type": "code",
   "execution_count": null,
   "metadata": {},
   "outputs": [],
   "source": [
    "POS_tag = "
   ]
  },
  {
   "cell_type": "code",
   "execution_count": 11,
   "metadata": {},
   "outputs": [],
   "source": [
    "partsOfSpeechTags = nltk.pos_tag(token)"
   ]
  },
  {
   "cell_type": "code",
   "execution_count": 12,
   "metadata": {
    "scrolled": true
   },
   "outputs": [
    {
     "data": {
      "text/plain": [
       "[('Sometimes', 'RB'),\n",
       " ('I', 'PRP'),\n",
       " ('feel', 'VBP'),\n",
       " ('silly', 'RB'),\n",
       " ('writing', 'VBG'),\n",
       " ('a', 'DT'),\n",
       " ('review', 'NN'),\n",
       " ('.', '.'),\n",
       " ('This', 'DT'),\n",
       " ('normally', 'RB'),\n",
       " ('occurs', 'VBZ'),\n",
       " ('when', 'WRB'),\n",
       " ('I', 'PRP'),\n",
       " ('want', 'VBP'),\n",
       " ('to', 'TO'),\n",
       " ('review', 'VB'),\n",
       " ('a', 'DT'),\n",
       " ('product', 'NN'),\n",
       " ('that', 'WDT'),\n",
       " ('already', 'RB'),\n",
       " ('has', 'VBZ'),\n",
       " ('so', 'RB'),\n",
       " ('many', 'JJ'),\n",
       " ('other', 'JJ'),\n",
       " ('reviews', 'NNS'),\n",
       " ('previously', 'RB'),\n",
       " ('posted', 'VBD'),\n",
       " (',', ','),\n",
       " ('and/or', 'VBZ'),\n",
       " ('that', 'IN'),\n",
       " ('come', 'VB'),\n",
       " ('to', 'TO'),\n",
       " ('similar', 'JJ'),\n",
       " ('conclusions', 'NNS'),\n",
       " ('.', '.'),\n",
       " ('This', 'DT'),\n",
       " ('is', 'VBZ'),\n",
       " ('one', 'CD'),\n",
       " ('of', 'IN'),\n",
       " ('those', 'DT'),\n",
       " ('reviews', 'NNS'),\n",
       " (',', ','),\n",
       " ('and', 'CC'),\n",
       " ('on', 'IN'),\n",
       " ('both', 'DT'),\n",
       " ('counts', 'NNS'),\n",
       " ('.', '.'),\n",
       " ('But', 'CC'),\n",
       " ('I', 'PRP'),\n",
       " ('still', 'RB'),\n",
       " ('wish', 'VB'),\n",
       " ('to', 'TO'),\n",
       " ('write', 'VB'),\n",
       " ('this', 'DT'),\n",
       " ('review', 'NN'),\n",
       " (',', ','),\n",
       " ('because', 'IN'),\n",
       " ('the', 'DT'),\n",
       " ('Fuji', 'NNP'),\n",
       " ('X-T2', 'NN'),\n",
       " ('is', 'VBZ'),\n",
       " ('THAT', 'DT'),\n",
       " ('good', 'JJ'),\n",
       " ('.', '.')]"
      ]
     },
     "execution_count": 12,
     "metadata": {},
     "output_type": "execute_result"
    }
   ],
   "source": [
    "partsOfSpeechTags "
   ]
  },
  {
   "cell_type": "code",
   "execution_count": null,
   "metadata": {},
   "outputs": [],
   "source": [
    "a_dict = {}\n",
    "\n",
    "for token in partsOfSpeechTags:\n",
    "    if token[0] in pos_list:\n",
    "        a_dict.append(token)"
   ]
  },
  {
   "cell_type": "code",
   "execution_count": null,
   "metadata": {},
   "outputs": [],
   "source": []
  },
  {
   "cell_type": "code",
   "execution_count": null,
   "metadata": {},
   "outputs": [],
   "source": []
  },
  {
   "cell_type": "code",
   "execution_count": null,
   "metadata": {},
   "outputs": [],
   "source": []
  }
 ],
 "metadata": {
  "kernelspec": {
   "display_name": "Python 3",
   "language": "python",
   "name": "python3"
  },
  "language_info": {
   "codemirror_mode": {
    "name": "ipython",
    "version": 3
   },
   "file_extension": ".py",
   "mimetype": "text/x-python",
   "name": "python",
   "nbconvert_exporter": "python",
   "pygments_lexer": "ipython3",
   "version": "3.7.3"
  }
 },
 "nbformat": 4,
 "nbformat_minor": 2
}
