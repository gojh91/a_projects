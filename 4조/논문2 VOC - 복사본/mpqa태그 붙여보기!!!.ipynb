{
 "cells": [
  {
   "cell_type": "code",
   "execution_count": 8,
   "metadata": {},
   "outputs": [
    {
     "name": "stderr",
     "output_type": "stream",
     "text": [
      "[nltk_data] Downloading package punkt to\n",
      "[nltk_data]     C:\\Users\\seonmin\\AppData\\Roaming\\nltk_data...\n",
      "[nltk_data]   Package punkt is already up-to-date!\n",
      "[nltk_data] Downloading package averaged_perceptron_tagger to\n",
      "[nltk_data]     C:\\Users\\seonmin\\AppData\\Roaming\\nltk_data...\n",
      "[nltk_data]   Package averaged_perceptron_tagger is already up-to-\n",
      "[nltk_data]       date!\n"
     ]
    }
   ],
   "source": [
    "import nltk\n",
    "nltk.download('punkt')\n",
    "nltk.download('averaged_perceptron_tagger')\n",
    "\n",
    "from nltk.tokenize import word_tokenize"
   ]
  },
  {
   "cell_type": "code",
   "execution_count": 5,
   "metadata": {},
   "outputs": [],
   "source": [
    "a =\"Sometimes I feel silly writing a review. This normally occurs when I want to review a product that already has so many other reviews previously posted, and/or that come to similar conclusions. This is one of those reviews, and on both counts. But I still wish to write this review, because the Fuji X-T2 is THAT good.\""
   ]
  },
  {
   "cell_type": "code",
   "execution_count": 6,
   "metadata": {},
   "outputs": [],
   "source": [
    "token = word_tokenize(a)"
   ]
  },
  {
   "cell_type": "code",
   "execution_count": 7,
   "metadata": {
    "scrolled": true
   },
   "outputs": [
    {
     "data": {
      "text/plain": [
       "['Sometimes',\n",
       " 'I',\n",
       " 'feel',\n",
       " 'silly',\n",
       " 'writing',\n",
       " 'a',\n",
       " 'review',\n",
       " '.',\n",
       " 'This',\n",
       " 'normally',\n",
       " 'occurs',\n",
       " 'when',\n",
       " 'I',\n",
       " 'want',\n",
       " 'to',\n",
       " 'review',\n",
       " 'a',\n",
       " 'product',\n",
       " 'that',\n",
       " 'already',\n",
       " 'has',\n",
       " 'so',\n",
       " 'many',\n",
       " 'other',\n",
       " 'reviews',\n",
       " 'previously',\n",
       " 'posted',\n",
       " ',',\n",
       " 'and/or',\n",
       " 'that',\n",
       " 'come',\n",
       " 'to',\n",
       " 'similar',\n",
       " 'conclusions',\n",
       " '.',\n",
       " 'This',\n",
       " 'is',\n",
       " 'one',\n",
       " 'of',\n",
       " 'those',\n",
       " 'reviews',\n",
       " ',',\n",
       " 'and',\n",
       " 'on',\n",
       " 'both',\n",
       " 'counts',\n",
       " '.',\n",
       " 'But',\n",
       " 'I',\n",
       " 'still',\n",
       " 'wish',\n",
       " 'to',\n",
       " 'write',\n",
       " 'this',\n",
       " 'review',\n",
       " ',',\n",
       " 'because',\n",
       " 'the',\n",
       " 'Fuji',\n",
       " 'X-T2',\n",
       " 'is',\n",
       " 'THAT',\n",
       " 'good',\n",
       " '.']"
      ]
     },
     "execution_count": 7,
     "metadata": {},
     "output_type": "execute_result"
    }
   ],
   "source": [
    "token"
   ]
  },
  {
   "cell_type": "code",
   "execution_count": null,
   "metadata": {},
   "outputs": [],
   "source": [
    "POS_tag = "
   ]
  },
  {
   "cell_type": "code",
   "execution_count": 11,
   "metadata": {},
   "outputs": [],
   "source": [
    "partsOfSpeechTags = nltk.pos_tag(token)"
   ]
  },
  {
   "cell_type": "code",
   "execution_count": 12,
   "metadata": {
    "scrolled": true
   },
   "outputs": [
    {
     "data": {
      "text/plain": [
       "[('Sometimes', 'RB'),\n",
       " ('I', 'PRP'),\n",
       " ('feel', 'VBP'),\n",
       " ('silly', 'RB'),\n",
       " ('writing', 'VBG'),\n",
       " ('a', 'DT'),\n",
       " ('review', 'NN'),\n",
       " ('.', '.'),\n",
       " ('This', 'DT'),\n",
       " ('normally', 'RB'),\n",
       " ('occurs', 'VBZ'),\n",
       " ('when', 'WRB'),\n",
       " ('I', 'PRP'),\n",
       " ('want', 'VBP'),\n",
       " ('to', 'TO'),\n",
       " ('review', 'VB'),\n",
       " ('a', 'DT'),\n",
       " ('product', 'NN'),\n",
       " ('that', 'WDT'),\n",
       " ('already', 'RB'),\n",
       " ('has', 'VBZ'),\n",
       " ('so', 'RB'),\n",
       " ('many', 'JJ'),\n",
       " ('other', 'JJ'),\n",
       " ('reviews', 'NNS'),\n",
       " ('previously', 'RB'),\n",
       " ('posted', 'VBD'),\n",
       " (',', ','),\n",
       " ('and/or', 'VBZ'),\n",
       " ('that', 'IN'),\n",
       " ('come', 'VB'),\n",
       " ('to', 'TO'),\n",
       " ('similar', 'JJ'),\n",
       " ('conclusions', 'NNS'),\n",
       " ('.', '.'),\n",
       " ('This', 'DT'),\n",
       " ('is', 'VBZ'),\n",
       " ('one', 'CD'),\n",
       " ('of', 'IN'),\n",
       " ('those', 'DT'),\n",
       " ('reviews', 'NNS'),\n",
       " (',', ','),\n",
       " ('and', 'CC'),\n",
       " ('on', 'IN'),\n",
       " ('both', 'DT'),\n",
       " ('counts', 'NNS'),\n",
       " ('.', '.'),\n",
       " ('But', 'CC'),\n",
       " ('I', 'PRP'),\n",
       " ('still', 'RB'),\n",
       " ('wish', 'VB'),\n",
       " ('to', 'TO'),\n",
       " ('write', 'VB'),\n",
       " ('this', 'DT'),\n",
       " ('review', 'NN'),\n",
       " (',', ','),\n",
       " ('because', 'IN'),\n",
       " ('the', 'DT'),\n",
       " ('Fuji', 'NNP'),\n",
       " ('X-T2', 'NN'),\n",
       " ('is', 'VBZ'),\n",
       " ('THAT', 'DT'),\n",
       " ('good', 'JJ'),\n",
       " ('.', '.')]"
      ]
     },
     "execution_count": 12,
     "metadata": {},
     "output_type": "execute_result"
    }
   ],
   "source": [
    "partsOfSpeechTags "
   ]
  },
  {
   "cell_type": "code",
   "execution_count": null,
   "metadata": {},
   "outputs": [],
   "source": [
    "a_dict = {}\n",
    "\n",
    "for token in partsOfSpeechTags:\n",
    "    if token[0] in pos_list:\n",
    "        a_dict.append(token)"
   ]
  },
  {
   "cell_type": "code",
   "execution_count": null,
   "metadata": {},
   "outputs": [],
   "source": []
  },
  {
   "cell_type": "code",
   "execution_count": null,
   "metadata": {},
   "outputs": [],
   "source": []
  },
  {
   "cell_type": "markdown",
   "metadata": {},
   "source": [
    "## KW "
   ]
  },
  {
   "cell_type": "markdown",
   "metadata": {},
   "source": [
    "## 크롤링해서 동의어 가져오기"
   ]
  },
  {
   "cell_type": "code",
   "execution_count": null,
   "metadata": {},
   "outputs": [],
   "source": [
    "like\n",
    "likewise\n",
    "same as\n",
    "as well as\n",
    "also\n",
    "too\n",
    "likewise\n",
    "also\n",
    "both\n",
    "comparatively\n",
    "in the same way\n",
    "in addition\n",
    "just as\n",
    "like\n",
    "most important\n",
    "similarly"
   ]
  },
  {
   "cell_type": "code",
   "execution_count": null,
   "metadata": {},
   "outputs": [],
   "source": [
    "https://www.thesaurus.com/browse/just%20as\n",
    "https://www.thesaurus.com/browse/in%20the%20same%20way\n",
    "    \n"
   ]
  },
  {
   "cell_type": "code",
   "execution_count": null,
   "metadata": {},
   "outputs": [],
   "source": [
    "//s.amazon-adsystem.com/iu3?cm3ppd=1&d=dtb-pub&csif=t&dl=rbd_brt_dm"
   ]
  },
  {
   "cell_type": "code",
   "execution_count": 13,
   "metadata": {},
   "outputs": [],
   "source": [
    "from bs4 import BeautifulSoup\n",
    "import requests\n"
   ]
  },
  {
   "cell_type": "code",
   "execution_count": 14,
   "metadata": {},
   "outputs": [
    {
     "data": {
      "text/plain": [
       "<Response [200]>"
      ]
     },
     "execution_count": 14,
     "metadata": {},
     "output_type": "execute_result"
    }
   ],
   "source": [
    "url = 'https://www.thesaurus.com/browse/just%20as'\n",
    "\n",
    "resp = requests.get(url)\n",
    "resp"
   ]
  },
  {
   "cell_type": "code",
   "execution_count": 16,
   "metadata": {
    "collapsed": true
   },
   "outputs": [
    {
     "data": {
      "text/plain": [
       "<!DOCTYPE html>\n",
       "\n",
       "<html lang=\"en\" prefix=\"og: http://ogp.me/ns#\">\n",
       "<head>\n",
       "<script>\n",
       "!function(n,e){var t,o,i,c=[],f={passive:!0,capture:!0},r=new Date,a=\"pointerup\",u=\"pointercancel\";function p(n,c){t||(t=c,o=n,i=new Date,w(e),s())}function s(){o>=0&&o<i-r&&(c.forEach(function(n){n(o,t)}),c=[])}function l(t){if(t.cancelable){var o=(t.timeStamp>1e12?new Date:performance.now())-t.timeStamp;\"pointerdown\"==t.type?function(t,o){function i(){p(t,o),r()}function c(){r()}function r(){e(a,i,f),e(u,c,f)}n(a,i,f),n(u,c,f)}(o,t):p(o,t)}}function w(n){[\"click\",\"mousedown\",\"keydown\",\"touchstart\",\"pointerdown\"].forEach(function(e){n(e,l,f)})}w(n),self.perfMetrics=self.perfMetrics||{},self.perfMetrics.onFirstInputDelay=function(n){c.push(n),s()}}(addEventListener,removeEventListener);\n",
       "perfMetrics.onFirstInputDelay(function(delay, evt) {\n",
       "    window.dataLayer = window.dataLayer || [];\n",
       "    dataLayer.push({\n",
       "        event: 'FID',\n",
       "        action: evt.type,\n",
       "        value: delay\n",
       "    });\n",
       "});\n",
       "</script>\n",
       "<meta charset=\"utf-8\"/>\n",
       "<meta content=\"Synonyms for just as at Thesaurus.com with free online thesaurus, antonyms, and definitions. Find descriptive alternatives for just as. \" name=\"description\"/>\n",
       "<link href=\"https://www.thesaurus.com/browse/just%20as\" rel=\"canonical\"/>\n",
       "<link as=\"font\" crossorigin=\"anonymous\" href=\"https://www.thesaurus.com/assets/dictionary-font-9de9fddb878c851e651ae585499b2501.woff\" rel=\"preload\" type=\"font/woff\"/>\n",
       "<meta content=\"Synonyms of just as | Thesaurus.com\" property=\"og:title\"/>\n",
       "<meta content=\"Synonyms for just as from Thesaurus.com, the world’s leading online source for synonyms, antonyms, and more.\" property=\"og:description\"/>\n",
       "<meta content=\"https://www.thesaurus.com/assets/thesaurus_social_logo-4b42f0643b92eaf85fc0e4e78aa84a8d.png\" property=\"og:image\"/>\n",
       "<meta content=\"www.thesaurus.com\" property=\"og:site_name\"/>\n",
       "<meta content=\"summary\" property=\"twitter:card\"/>\n",
       "<meta content=\"@Dictionarycom\" property=\"twitter:site\"/>\n",
       "<meta content=\"118269238218175\" property=\"fb:app_id\"/><meta content=\"100000304287730,109125464873\" property=\"fb:admins\"/>\n",
       "<meta content=\"DF5542D7723770377E9ABFF59AC1DC97\" name=\"msvalidate.01\"/>\n",
       "<link href=\"https://www.thesaurus.com/assets/favicon-54545f5303fccb956af394ac10f1655d.png\" rel=\"icon\" type=\"image/png\"/>\n",
       "<title>Just as Synonyms, Just as Antonyms | Thesaurus.com</title>\n",
       "<link href=\"https://ads.pubmatic.com\" rel=\"preconnect\"/>\n",
       "<link href=\"https://www.googletagservices.com\" rel=\"preconnect\"/>\n",
       "<link href=\"https://c.amazon-adsystem.com\" rel=\"preconnect\"/>\n",
       "<link href=\"https://www.googletagmanager.com\" rel=\"preconnect\"/>\n",
       "<link href=\"https://www.google-analytics.com\" rel=\"preconnect\"/>\n",
       "<script defer=\"\" src=\"https://www.thesaurus.com/assets/client-91c3f726.js\"></script><script defer=\"\" src=\"https://www.thesaurus.com/assets/react-9e9e92ed.js\"></script><script defer=\"\" src=\"https://www.thesaurus.com/assets/vendor~253ae210-fcdb5a33.js\"></script><script defer=\"\" src=\"https://www.thesaurus.com/assets/vendor~7d359b94-2712a4a1.js\"></script><script defer=\"\" src=\"https://www.thesaurus.com/assets/vendor~b9cf3951-54c230bb.js\"></script><script defer=\"\" src=\"https://www.thesaurus.com/assets/vendor~d939e436-f31f679f.js\"></script>\n",
       "<!-- Ad integration with callback begins here, must be in head, expects page type to get appropriate configs -->\n",
       "<script src=\"https://ads.pubmatic.com/AdServer/js/pwt/103207/1176/pwt.js\" type=\"text/javascript\"></script>\n",
       "<script type=\"text/javascript\">\n",
       "      window.performance.mark('adStackStart');\n",
       "      var page = 'tcom-serp';\n",
       "      var notifyId;\n",
       "      window.dataLayer = window.dataLayer || [];\n",
       "      notifyId = window.OWT.registerExternalBidders();\n",
       "      window.performance.mark('gptLoadStart');\n",
       "    </script>\n",
       "<script async=\"async\" onload=\"(function() {\n",
       "        window.performance.mark('gptLoadEnd');\n",
       "        window.performance.measure('gptLoad', 'gptLoadStart', 'gptLoadEnd');\n",
       "        var timing = window.performance.getEntriesByName('gptLoad')[0].duration;\n",
       "        window.dataLayer.push({\n",
       "          event: 'gptLoad',\n",
       "          page: page,\n",
       "          timing: timing\n",
       "        });\n",
       "      })()\" src=\"https://www.googletagservices.com/tag/js/gpt.js\">\n",
       "</script>\n",
       "<script type=\"text/javascript\">\n",
       "      adboiler: {\n",
       "          \n",
       "          var page = 'tcom-serp';\n",
       "          var isEU = false;\n",
       "          /**---------- Page level ad targeting configs ----------*/\n",
       "          var pageTargeting = {\"tx1\":\"results\",\"tx2\":\"serp\",\"ptype\":\"content\",\"ld\":\"0\",\"spe\":\"n\",\"kw\":\"\",\"loc\":\"US\",\"rpv\":\"33\",\"evince\":\"ad\",\"mup\":\"1176\"};\n",
       "          pageTargeting.dow = new Date().getDay().toString();\n",
       "          var slotConfigs = [{\"placement\":\"thesaurus_serp_atf_728x90\",\"code\":\"/23219321/iac.dict.thesrs.dw/dic/serp_0_n\",\"ad_uuid\":\"1\",\"sizes\":[[728,90],[970,90],[970,250]],\"targeting\":{\"pos\":\"top\",\"pos2\":\"1\"},\"rtf\":true},{\"placement\":\"thesaurus_serp_atf_300x250\",\"code\":\"/23219321/iac.dict.thesrs.dw/dic/serp_0_n\",\"ad_uuid\":\"2\",\"sizes\":[[300,250],[300,600]],\"targeting\":{\"pos\":\"top\",\"pos2\":\"2\"},\"rtf\":true},{\"placement\":\"tcom_serp_dkt_atf_728x90_3\",\"code\":\"/23219321/iac.dict.thesrs.dw/dic/serp_0_n\",\"ad_uuid\":\"3\",\"sizes\":[[728,90]],\"targeting\":{\"pos\":\"mid\",\"pos2\":\"3\"},\"rtf\":true},{\"placement\":\"thesaurus_serp_728x90_p6\",\"code\":\"/23219321/iac.dict.thesrs.dw/dic/serp_0_n\",\"ad_uuid\":\"6\",\"sizes\":[[728,90]],\"targeting\":{\"pos\":\"bot\",\"pos2\":\"6\"},\"rtf\":true}];\n",
       "          var lazySlotConfigs = [{\"placement\":\"thesaurus_serp_btf_300x252\",\"code\":\"/23219321/iac.dict.thesrs.dw/dic/serp_0_n\",\"ad_uuid\":\"4\",\"sizes\":[[300,250],[300,600]],\"targeting\":{\"pos\":\"bot\",\"pos2\":\"4\"},\"lazy\":true,\"sticky\":true,\"rtf\":false},{\"placement\":\"thesaurus_serp_728x90_p5\",\"code\":\"/23219321/iac.dict.thesrs.dw/dic/serp_0_n\",\"ad_uuid\":\"5\",\"sizes\":[[728,90]],\"targeting\":{\"pos\":\"mid\",\"pos2\":\"5\"},\"lazy\":true,\"rtf\":false}];\n",
       "          /**---------- Targeting runtime setup ----------*/\n",
       "          pageTargeting.ref = window.document.referrer.search(\n",
       "            \"dictionary.com|thesaurus.com|reference.com\"\n",
       "          ) > -1 ? \"organic\" : \"direct\";\n",
       "          pageTargeting.lang = window.navigator.userLanguage || window.navigator.language;\n",
       "          pageTargeting.pv = typeof SCCookie !== \"undefined\" ? SCCookie.getPageViewCount() + \"\" : \"\";\n",
       "          /**---------- Pubmatic wrapper and GPT Tag with Callback begins here ----------*/\n",
       "          var apstagSlots = [{\"slotID\":\"thesaurus_serp_atf_728x90\",\"sizes\":[[728,90],[970,90],[970,250]]},{\"slotID\":\"thesaurus_serp_atf_300x250\",\"sizes\":[[300,250],[300,600]]},{\"slotID\":\"tcom_serp_dkt_atf_728x90_3\",\"sizes\":[[728,90]]},{\"slotID\":\"thesaurus_serp_728x90_p6\",\"sizes\":[[728,90]]}];\n",
       "          var googletag = googletag || {};\n",
       "          googletag.cmd = googletag.cmd || [];\n",
       "          var adSlots = adSlots || {\n",
       "            slots: {},\n",
       "            lazySlots: {}\n",
       "          };\n",
       "          var setupDFP = function() {\n",
       "            console.log(\"Setup DFP\");\n",
       "            /**---------- Set page level targeting for DFP ----------*/\n",
       "            (function setPageLevelTargeting(googletag) {\n",
       "  /*\n",
       "    Both Bidders\n",
       "    Set targeting params pertaining to all slots on page.\n",
       "  */\n",
       "  googletag = googletag || window.googletag;\n",
       "  Object.keys(pageTargeting).forEach(function (pageTarget) {\n",
       "    if (Object.prototype.hasOwnProperty.call(pageTargeting, pageTarget)) {\n",
       "      (function (key, value) {\n",
       "        googletag.cmd.push(function () {\n",
       "          googletag.pubads().setTargeting(key, value);\n",
       "        });\n",
       "      })(pageTarget, pageTargeting[pageTarget]);\n",
       "    }\n",
       "  });\n",
       "})(googletag);\n",
       "            /**---------- Set ad slot level targeting for DFP ----------*/\n",
       "            if (typeof slotConfigs === \"object\") {\n",
       "              (function setAdSlotTargeting(googletag) {\n",
       "  /*\n",
       "    Both Bidders\n",
       "    1. Define initial (static) slots for DPT.\n",
       "    2. Add listeners for events relevant to analytics.\n",
       "    3. Set targeting params pertaining to individual slots. \n",
       "  */\n",
       "  var adSlotRenderPeriods = {};\n",
       "  googletag = googletag || window.googletag;\n",
       "  slotConfigs.forEach(function (slot) {\n",
       "    googletag.cmd.push(function () {\n",
       "      adSlots.slots[slot.placement] = googletag.defineSlot(slot.code, slot.sizes, slot.placement).addService(googletag.pubads());\n",
       "      googletag.pubads().addEventListener('slotRenderEnded', function (event) {\n",
       "        if (event.slot === adSlots.slots[slot.placement]) {\n",
       "          adSlotRenderPeriods[slot.placement] = Date.now();\n",
       "        }\n",
       "      });\n",
       "      googletag.pubads().addEventListener('slotOnload', function (event) {\n",
       "        if (event.slot === adSlots.slots[slot.placement]) {\n",
       "          window.dataLayer.push({\n",
       "            event: 'gptSlotRenderPeriod',\n",
       "            page: page,\n",
       "            slotId: slot.placement,\n",
       "            code: slot.code,\n",
       "            position: slot.targeting.pos,\n",
       "            position2: slot.targeting.pos2,\n",
       "            time: Date.now() - adSlotRenderPeriods[slot.placement]\n",
       "          });\n",
       "        }\n",
       "      });\n",
       "      googletag.pubads().addEventListener('impressionViewable', function (event) {\n",
       "        if (event.slot === adSlots.slots[slot.placement]) {\n",
       "          window.dataLayer.push({\n",
       "            event: 'gptImpressionViewable',\n",
       "            page: page,\n",
       "            slotId: slot.placement,\n",
       "            code: slot.code,\n",
       "            position: slot.targeting.pos,\n",
       "            position2: slot.targeting.pos2\n",
       "          });\n",
       "        }\n",
       "      });\n",
       "      Object.keys(slot.targeting).forEach(function (target) {\n",
       "        if (Object.prototype.hasOwnProperty.call(slot.targeting, target)) {\n",
       "          adSlots.slots[slot.placement].setTargeting(target, slot.targeting[target]);\n",
       "        }\n",
       "      });\n",
       "      adSlots.slots[slot.placement].setTargeting('adrefresh', 'n');\n",
       "    });\n",
       "  });\n",
       "})(googletag);\n",
       "            }\n",
       "            /**---------- Push gpt ad slots to DFP ----------*/\n",
       "            (function pushAdSlots(googletag) {\n",
       "  googletag = googletag || window.googletag;\n",
       "  googletag.cmd.push(function () {\n",
       "    googletag.pubads().enableSingleRequest();\n",
       "    googletag.pubads().disableInitialLoad();\n",
       "    googletag.enableServices();\n",
       "    window.dfpReady = true;\n",
       "  });\n",
       "})(googletag);\n",
       "          }\n",
       "          var allSlotConfigs = (slotConfigs || []).concat(lazySlotConfigs);\n",
       "          /**---------- Rtf integration ----------*/\n",
       "    var rtfValues;\n",
       "    var rtfConfig = {\"adlerGeo\":\"ROWLO\",\"detectedDevice\":\"Desktop\",\"rtfApiEndpoint\":\"https://irene.thesaurus.com/v1\",\"site\":\"tcom\"};\n",
       "    function setRtfInstrumentationKV(rtfSlotConfigs, status, error) {\n",
       "  rtfSlotConfigs.forEach(function (slotConfig) {\n",
       "    slotConfig.targeting.adler_status = status;\n",
       "\n",
       "    if (error) {\n",
       "      slotConfig.targeting.adler_error = error;\n",
       "    }\n",
       "  });\n",
       "};\n",
       "    function getRtfParams(rtfSlotConfigs) {\n",
       "  var r = {};\n",
       "  var geo = rtfConfig.adlerGeo || '';\n",
       "\n",
       "  if (geo === '') {\n",
       "    setRtfInstrumentationKV(rtfSlotConfigs, 'nogeo', 'nogeo');\n",
       "  }\n",
       "\n",
       "  rtfSlotConfigs.forEach(function (slotConfig) {\n",
       "    r[slotConfig.ad_uuid] = {\n",
       "      site: rtfConfig.site,\n",
       "      geo: geo,\n",
       "      platform: rtfConfig.detectedDevice,\n",
       "      sizes: slotConfig.sizes,\n",
       "      position: slotConfig.targeting.pos\n",
       "    };\n",
       "  });\n",
       "  return r;\n",
       "};\n",
       "    function rtfFallback(rtfSlotConfigs, shouldSetupDFP, event) {\n",
       "  setRtfInstrumentationKV(rtfSlotConfigs, event.type);\n",
       "\n",
       "  if (shouldSetupDFP) {\n",
       "    setupDFP();\n",
       "  }\n",
       "};\n",
       "    function injectRtfValues(rtfSlotConfigs) {\n",
       "  if (rtfValues) {\n",
       "    rtfSlotConfigs.forEach(function (slotConfig) {\n",
       "      if (!rtfValues[slotConfig.ad_uuid]) {\n",
       "        slotConfig.targeting.adler_status = 'nofloor';\n",
       "      } else {\n",
       "        slotConfig.targeting.adler = rtfValues[slotConfig.ad_uuid].adler;\n",
       "        slotConfig.targeting.adler_a = rtfValues[slotConfig.ad_uuid].adler_a;\n",
       "        slotConfig.targeting.adler_b = rtfValues[slotConfig.ad_uuid].adler_b;\n",
       "        slotConfig.targeting.adler_status = 'ok';\n",
       "      }\n",
       "    });\n",
       "  }\n",
       "};\n",
       "    function setRtfValues(rtfAjaxCall, rtfSlotConfigs) {\n",
       "  try {\n",
       "    rtfValues = JSON.parse(rtfAjaxCall.responseText);\n",
       "  } catch (err) {\n",
       "    setRtfInstrumentationKV(rtfSlotConfigs, 'parse', err.message);\n",
       "  }\n",
       "\n",
       "  injectRtfValues(rtfSlotConfigs);\n",
       "};\n",
       "    function rtfCallback(rtfAjaxCall, rtfSlotConfigs, shouldSetupDFP) {\n",
       "  setRtfValues(rtfAjaxCall, rtfSlotConfigs);\n",
       "\n",
       "  if (shouldSetupDFP) {\n",
       "    setupDFP();\n",
       "  }\n",
       "};\n",
       "    function callRTF(allSlotConfigs, shouldSetupDFP) {\n",
       "  var rtfReq = new XMLHttpRequest();\n",
       "  var rtfSlotConfigs = [];\n",
       "  allSlotConfigs.forEach(function (slotConfig) {\n",
       "    if (slotConfig.rtf) {\n",
       "      rtfSlotConfigs.push(slotConfig);\n",
       "    }\n",
       "  });\n",
       "  rtfReq.addEventListener('load', rtfCallback.bind(null, rtfReq, rtfSlotConfigs, shouldSetupDFP));\n",
       "  rtfReq.addEventListener('timeout', rtfFallback.bind(null, rtfSlotConfigs, shouldSetupDFP));\n",
       "  rtfReq.addEventListener('error', rtfFallback.bind(null, rtfSlotConfigs, shouldSetupDFP));\n",
       "  rtfReq.open('POST', rtfConfig.rtfApiEndpoint, true);\n",
       "  rtfReq.timeout = 1000;\n",
       "  rtfReq.send(JSON.stringify(getRtfParams(rtfSlotConfigs)));\n",
       "};\n",
       "    callRTF(allSlotConfigs, true);\n",
       "    /**---------- End of Rtf integration ----------*/\n",
       "            /**---- A9 ----*/\n",
       "            (function getA9(a9, a, p, s, t, A, g) {\n",
       "  if (a[a9]) return;\n",
       "\n",
       "  function q(c, r) {\n",
       "    a[a9]._Q.push([c, r]);\n",
       "  }\n",
       "\n",
       "  a[a9] = {\n",
       "    init: function init() {\n",
       "      for (var _len = arguments.length, args = new Array(_len), _key = 0; _key < _len; _key++) {\n",
       "        args[_key] = arguments[_key];\n",
       "      }\n",
       "\n",
       "      q('i', args);\n",
       "    },\n",
       "    fetchBids: function fetchBids() {\n",
       "      for (var _len2 = arguments.length, args = new Array(_len2), _key2 = 0; _key2 < _len2; _key2++) {\n",
       "        args[_key2] = arguments[_key2];\n",
       "      }\n",
       "\n",
       "      q('f', args);\n",
       "    },\n",
       "    setDisplayBids: function setDisplayBids() {},\n",
       "    _Q: []\n",
       "  };\n",
       "  A = p.createElement(s);\n",
       "  A.async = !0;\n",
       "  A.src = t;\n",
       "  g = p.getElementsByTagName(s)[0];\n",
       "  g.parentNode.insertBefore(A, g);\n",
       "})(\"apstag\", window, document, \"script\", \"https://c.amazon-adsystem.com/aax2/apstag.js\");\n",
       "            /**----- Initialize apstag (A9) -----*/\n",
       "            apstag.init({\n",
       "              pubID: '3067',\n",
       "              adServer: 'googletag',\n",
       "              bidTimeout: 1000\n",
       "            });\n",
       "            var setGPTPersonalization = function setGPTPersonalization(personalized, slotsToRefresh, googletag) {\n",
       "  googletag = googletag || window.googletag;\n",
       "  googletag.cmd.push(function () {\n",
       "    if (!window.dfpReady) {\n",
       "      console.log('Awaiting DFP setup.');\n",
       "      setTimeout(setGPTPersonalization, 100, personalized);\n",
       "    } else {\n",
       "      console.log('Doing personalization/refresh');\n",
       "\n",
       "      if (personalized) {\n",
       "        googletag.pubads().setRequestNonPersonalizedAds(0);\n",
       "      } else {\n",
       "        googletag.pubads().setRequestNonPersonalizedAds(1);\n",
       "      }\n",
       "\n",
       "      googletag.pubads().refresh();\n",
       "      window.performance.mark('adStackEnd');\n",
       "      window.performance.measure('adStack', 'adStackStart', 'adStackEnd');\n",
       "      window.performance.clearMarks();\n",
       "      window.performance.clearMeasures();\n",
       "    }\n",
       "  });\n",
       "};\n",
       "            var apstagFetchBidsCallback = function apstagFetchBidsCallback() {\n",
       "  /*\n",
       "  Callback method that triggers the first DFP request for googletag's\n",
       "  disableInitialLoad integration after bids have been set\n",
       "  */\n",
       "  googletag = googletag || window.googletag;\n",
       "  googletag.cmd.push(function () {\n",
       "    apstag.setDisplayBids();\n",
       "    window.OWT.notifyExternalBiddingComplete(notifyId);\n",
       "    var slotsToRefresh = Object.keys(adSlots.slots).map(function (key) {\n",
       "      return adSlots.slots[key];\n",
       "    });\n",
       "    /*\n",
       "      Determine IAB consent if necessary, and trigger GPT ad refresh\n",
       "      if consent is provided.\n",
       "    */\n",
       "\n",
       "    if (isEU) {\n",
       "      try {\n",
       "        if (typeof __cmp === 'function') {\n",
       "          __cmp('getVendorConsents', {}, function (c) {\n",
       "            var consent = false;\n",
       "\n",
       "            if (Array.isArray(c.purposeConsents)) {\n",
       "              consent = c.purposeConsents.includes('3:true');\n",
       "            } else if (typeof c.purposeConsents === 'object') {\n",
       "              consent = c.purposeConsents[3];\n",
       "            }\n",
       "\n",
       "            if (consent !== false && consent !== true) consent = false; // request personalized ads\n",
       "\n",
       "            setGPTPersonalization(consent, slotsToRefresh);\n",
       "          });\n",
       "        } else {\n",
       "          setGPTPersonalization(false, slotsToRefresh);\n",
       "        }\n",
       "      } catch (error) {\n",
       "        console.error('personalization: ', error);\n",
       "        setGPTPersonalization(false, slotsToRefresh);\n",
       "      }\n",
       "    } else {\n",
       "      setGPTPersonalization(true, slotsToRefresh);\n",
       "    }\n",
       "  });\n",
       "};\n",
       "            try {\n",
       "              apstag.fetchBids({\n",
       "                slots: apstagSlots\n",
       "              }, apstagFetchBidsCallback);\n",
       "            } catch (e) {\n",
       "              apstagFetchBidsCallback();\n",
       "            }\n",
       "          }\n",
       "      </script>\n",
       "<!-- Pubmatic wrapper and GPT Tag ends here -->\n",
       "<!-- Google Analytics GTM dataLayer starts here -->\n",
       "<script type=\"text/javascript\">\n",
       "        window.dataLayer = window.dataLayer || [];\n",
       "        dataLayer.push({\n",
       "          event: 'pageview',\n",
       "          device: 'Desktop',\n",
       "          pageName: 'the',\n",
       "          LDid: '0',\n",
       "          sessionId: null,\n",
       "          browserId: null,\n",
       "        });\n",
       "      </script>\n",
       "<script>\n",
       "      (function(w, d, s, l, i) {\n",
       "        w[l] = w[l] || [];\n",
       "        w[l].push({ 'gtm.start': new Date().getTime(), event: 'gtm.js' });\n",
       "        var f = d.getElementsByTagName(s)[0],\n",
       "          j = d.createElement(s),\n",
       "          dl = l != 'dataLayer' ? '&l=' + l : '';\n",
       "        j.async = true;\n",
       "        j.src = '//www.googletagmanager.com/gtm.js?id=' + i + dl;\n",
       "        f.parentNode.insertBefore(j, f);\n",
       "      })(window, document, 'script', 'dataLayer', 'GTM-PVMWP3');\n",
       "      </script>\n",
       "<!-- Google Analytics GTM dataLayer ends here -->\n",
       "<style>@-webkit-keyframes animation-jdx9m6{from{-webkit-transform:translate(-30vw);-ms-transform:translate(-30vw);transform:translate(-30vw);width:30vw;}50%{width:30vw;}70%{width:50vw;}80%{-webkit-transform:translate(50vw);-ms-transform:translate(50vw);transform:translate(50vw);}95%{-webkit-transform:translate(120vw);-ms-transform:translate(120vw);transform:translate(120vw);width:90%;}to{-webkit-transform:translate(140vw);-ms-transform:translate(140vw);transform:translate(140vw);}}@keyframes animation-jdx9m6{from{-webkit-transform:translate(-30vw);-ms-transform:translate(-30vw);transform:translate(-30vw);width:30vw;}50%{width:30vw;}70%{width:50vw;}80%{-webkit-transform:translate(50vw);-ms-transform:translate(50vw);transform:translate(50vw);}95%{-webkit-transform:translate(120vw);-ms-transform:translate(120vw);transform:translate(120vw);width:90%;}to{-webkit-transform:translate(140vw);-ms-transform:translate(140vw);transform:translate(140vw);}}@-webkit-keyframes animation-1q8eu9e{from{-webkit-transform:rotate(0deg);-ms-transform:rotate(0deg);transform:rotate(0deg);}to{-webkit-transform:rotate(360deg);-ms-transform:rotate(360deg);transform:rotate(360deg);}}@keyframes animation-1q8eu9e{from{-webkit-transform:rotate(0deg);-ms-transform:rotate(0deg);transform:rotate(0deg);}to{-webkit-transform:rotate(360deg);-ms-transform:rotate(360deg);transform:rotate(360deg);}}html{line-height:1.15;-ms-text-size-adjust:100%;-webkit-text-size-adjust:100%;}body{margin:0;}article,aside,footer,header,nav,section{display:block;}h1{font-size:2em;margin:0.67em 0;}figcaption,figure,main{display:block;}figure{margin:1em 40px;}hr{box-sizing:content-box;height:0;overflow:visible;}pre{font-family:monospace,monospace;font-size:1em;}a{background-color:transparent;-webkit-text-decoration-skip:objects;}abbr[title]{border-bottom:none;-webkit-text-decoration:underline;text-decoration:underline;-webkit-text-decoration:underline dotted;text-decoration:underline dotted;}b,strong{font-weight:inherit;}b,strong{font-weight:bolder;}code,kbd,samp{font-family:monospace,monospace;font-size:1em;}dfn{font-style:italic;}mark{background-color:#ff0;color:#000;}small{font-size:80%;}sub,sup{font-size:75%;line-height:0;position:relative;vertical-align:baseline;}sub{bottom:-0.25em;}sup{top:-0.5em;}audio,video{display:inline-block;}audio:not([controls]){display:none;height:0;}img{border-style:none;}svg:not(:root){overflow:hidden;}button,input,optgroup,select,textarea{font-family:sans-serif;font-size:100%;line-height:1.15;margin:0;}button,input{overflow:visible;}button,select{text-transform:none;}button,html [type=\"button\"],[type=\"reset\"],[type=\"submit\"]{-webkit-appearance:button;}button::-moz-focus-inner,[type=\"button\"]::-moz-focus-inner,[type=\"reset\"]::-moz-focus-inner,[type=\"submit\"]::-moz-focus-inner{border-style:none;padding:0;}button:-moz-focusring,[type=\"button\"]:-moz-focusring,[type=\"reset\"]:-moz-focusring,[type=\"submit\"]:-moz-focusring{outline:1px dotted ButtonText;}fieldset{padding:0.35em 0.75em 0.625em;}legend{box-sizing:border-box;color:inherit;display:table;max-width:100%;padding:0;white-space:normal;}progress{display:inline-block;vertical-align:baseline;}textarea{overflow:auto;}[type=\"checkbox\"],[type=\"radio\"]{box-sizing:border-box;padding:0;}[type=\"number\"]::-webkit-inner-spin-button,[type=\"number\"]::-webkit-outer-spin-button{height:auto;}[type=\"search\"]{-webkit-appearance:textfield;outline-offset:-2px;}[type=\"search\"]::-webkit-search-cancel-button,[type=\"search\"]::-webkit-search-decoration{-webkit-appearance:none;}::-webkit-file-upload-button{-webkit-appearance:button;font:inherit;}details,menu{display:block;}summary{display:list-item;}canvas{display:inline-block;}template{display:none;}[hidden]{display:none;}@font-face{font-family:'dictionary-fonticon';src:url(https://www.thesaurus.com/assets/dictionary-font-9959b25b2e0d4e28e2d211aaaddec24e.eot) format('embedded-opentype'),url(https://www.thesaurus.com/assets/dictionary-font-9de9fddb878c851e651ae585499b2501.woff) format('woff'),url(https://www.thesaurus.com/assets/dictionary-font-f08646039a0e538baf17b51738f3f22f.ttf) format('truetype'),url(https://www.thesaurus.com/assets/dictionary-font-47397bcb5352a0b490c2162f3b72dc33.svg#dictionary-font) format('svg');}ul,ol,dl{margin:0 auto;padding:0;}button,input,optgroup,select,textarea{font-family:inherit;}body{margin:0;font:14px/17px Arial,Helvetica,sans-serif;height:100%;}@media only screen and (max-width:px){body{overflow-x:hidden;}}body .ad-overflow{overflow:hidden;}.css-1j0eho5{background-color:#f3f3f3;display:-webkit-box;display:-webkit-flex;display:-ms-flexbox;display:flex;-webkit-flex-direction:column;-ms-flex-direction:column;flex-direction:column;-webkit-box-pack:justify;-webkit-justify-content:space-between;-ms-flex-pack:justify;justify-content:space-between;min-height:100vh;-webkit-filter:inherit;filter:inherit;position:relative;}.css-7a875u{-webkit-box-flex:1;-webkit-flex-grow:1;-ms-flex-positive:1;flex-grow:1;-webkit-flex-shrink:0;-ms-flex-negative:0;flex-shrink:0;-webkit-transition:-webkit-transform 0.4s ease;-webkit-transition:transform 0.4s ease;transition:transform 0.4s ease;}.css-ywz12x{z-index:10001;}.css-1atz4kp-Navigation{height:40px;overflow:hidden;}.css-1hp4ihf-Container{background:#f5a623;display:inline-block;float:left;}.css-p5rnoq-Overlay{position:absolute;display:none;top:0;left:0;height:100%;width:100%;background-color:rgba(0,0,0,0.6);z-index:4;}.css-1gb0qe-Nav{position:absolute;top:0;left:-300px;width:300px;height:100%;background-color:#f5a623;}.css-17g2mt7-List{list-style-type:none;padding:15px 15px 7px;margin:0;}.css-m3rjfu-Item{font-size:16px;font-style:italic;font-weight:bold;line-height:normal;font-family:Arial;border-top:1px solid #fccd6e;font-stretch:normal;-webkit-letter-spacing:normal;-moz-letter-spacing:normal;-ms-letter-spacing:normal;letter-spacing:normal;color:#ffffff;-webkit-font-smoothing:antialiased;}.css-m3rjfu-Item:first-of-type{border-top:0;}.css-m3rjfu-Item:first-of-type > a{padding-top:0;}.css-wuicji-Link{display:block;color:#f5f5f5;padding:18px 0;-webkit-text-decoration:none;text-decoration:none;}.css-wuicji-Link:hover{color:#fccd6e;-webkit-text-decoration:none;text-decoration:none;cursor:pointer;}.css-ioerk6-NestedList{font-family:Arial;font-size:16px;font-weight:normal;line-height:normal;font-style:normal;font-stretch:normal;-webkit-letter-spacing:normal;-moz-letter-spacing:normal;-ms-letter-spacing:normal;letter-spacing:normal;color:#ffffff;list-style-type:none;padding:0 15px 7px;-webkit-font-smoothing:antialiased;}.css-ioerk6-NestedList > li > a{padding:8px 0 14px;font-style:normal;-webkit-text-decoration:none;text-decoration:none;}.css-drw9r6-HamburgerButton{margin-left:0;font-family:dictionary-fonticon;color:inherit;width:40px;height:40px;cursor:pointer;padding:0;border:none;outline:none;position:relative;display:inline-block;-webkit-font-smoothing:antialiased;background-color:#fff;font-size:24px;line-height:1;z-index:5;}.css-drw9r6-HamburgerButton::before{content:'';}.css-1hyo8qo-TabContainer{height:40px;margin:0;padding:0;}.css-upgnes-TabInactive{z-index:3;border-right:none;float:left;list-style-type:none;background-color:#f5f5f5;text-align:center;}.css-upgnes-TabInactive:hover{background-color:#e2e2e2;}.css-12pg1no-Link{cursor:pointer;display:inline-block;padding:12px 26px;font:16px Helvetica,sans-serif;line-height:18px;font-style:italic;font-weight:bold;-webkit-text-decoration:none;text-decoration:none;color:#666;}@media (max-width:400px){.css-12pg1no-Link{padding:11px 13px;font-size:14px;}}@media (max-width:318px){.css-12pg1no-Link{font-size:12px;}}.css-1lk7v7n-TabActive{z-index:3;border-right:none;float:left;list-style-type:none;background-color:#f5f5f5;text-align:center;background-color:#f5a623;}.css-1lk7v7n-TabActive:last-child{border-right:1px solid #aaa;}.css-8x77lp-Link{cursor:pointer;display:inline-block;padding:12px 26px;font:16px Helvetica,sans-serif;line-height:18px;font-style:italic;font-weight:bold;-webkit-text-decoration:none;text-decoration:none;color:#666;color:#fff;}@media (max-width:400px){.css-8x77lp-Link{padding:11px 13px;font-size:14px;}}@media (max-width:318px){.css-8x77lp-Link{font-size:12px;}}.css-1o19q92-StyledApps{float:right;padding:1px 14px 1px 22px;margin:8px 0;border-right:1px solid #e2e2e2;line-height:22px;color:#555;font-size:11px;-webkit-text-decoration:none;text-decoration:none;font-weight:400;font-family:Open Sans,sans-serif;-webkit-transition:all 0.15s ease-in-out;transition:all 0.15s ease-in-out;}.css-1o19q92-StyledApps > span{float:left;width:22px;height:22px;margin-right:8px;font-size:22px;-webkit-text-decoration:none;text-decoration:none;font-family:dictionary-fonticon;}.css-1o19q92-StyledApps:hover{color:#6cb746;}.css-1y1om3k-Android::before{content:'';}.css-5yyf7-Apple::before{content:'';}.css-1jced3u-SearchContainer{background:#f5a623;display:-webkit-box;display:-webkit-flex;display:-ms-flexbox;display:flex;-webkit-box-pack:left;-webkit-justify-content:left;-ms-flex-pack:left;justify-content:left;left:100px;}.css-nc8m4u-SearchRow{padding:15px 15px 18px;height:auto;display:-webkit-box;display:-webkit-flex;display:-ms-flexbox;display:flex;-webkit-flex-wrap:wrap;-ms-flex-wrap:wrap;flex-wrap:wrap;}@media (min-width:1200px){.css-nc8m4u-SearchRow{width:1170px;margin-right:auto;margin-left:auto;}}@media (min-width:992px){.css-nc8m4u-SearchRow{width:970px;margin-right:auto;margin-left:auto;}}.css-8en0us-Logo{margin:0 20px 0 0;width:176px;height:40px;}.css-18hd8o5-SearchWrapper{padding:8px 2px;background-color:#f8f8f8;display:inline-block;float:left;box-sizing:border-box;position:relative;}.css-1nodpsb-StyledForm{display:inline-block;}.css-6houri-FilterNavContainer{float:left;cursor:pointer;}.css-1qsgpoi{font-family:'dictionary-fonticon';speak:none;font-style:normal;font-weight:normal;font-variant:normal;text-transform:none;float:right;padding:1px 3px;color:#555;font-size:25px;line-height:28px;}.css-1qsgpoi:after{content:'\\e613';}.css-pvpj9z-FilterItem{float:right;min-width:92px;display:block;padding-left:8px;color:#555;font:14px Verdana;line-height:30px;}.css-1hsp8l3-HiddenLabel{border:0;-webkit-clip:rect(0 0 0 0);clip:rect(0 0 0 0);height:1px;margin:-1px;overflow:hidden;padding:0;position:absolute;width:1px;}.css-f5s54a-SearchInputColored{float:left;display:block;width:292px;height:30px;padding:0 8px;margin-right:1px;border:1px solid #e2e2e2;min-height:1px;line-height:18px;font-size:18px;color:#666;-webkit-transition:border-color,box-shadow 0.2s,0.2s ease-in-out,ease-in-out;transition:border-color,box-shadow 0.2s,0.2s ease-in-out,ease-in-out;}.css-f5s54a-SearchInputColored:hover,.css-f5s54a-SearchInputColored:focus{border-color:#f5a623;outline:0;box-shadow:inset 0 1px 1px rgba(0,0,0,0.075),0 0 8px rgba(191,99,78,0.6);}@media (min-width:1200px){.css-f5s54a-SearchInputColored{width:422px;}}.css-afwbme-SearchButtonColored{font-family:'dictionary-fonticon';speak:none;font-style:normal;font-weight:normal;font-variant:normal;text-transform:none;width:50px;height:30px;cursor:pointer;padding:0;border:0;outline:0;background-color:transparent;float:left;display:inline-block;padding:2px 8px;background:#f8f8f8;color:#3f729b;font-size:24px;color:#f5a623;}.css-afwbme-SearchButtonColored:before{content:'\\e614';}.css-1jzsm78{margin:38px 0 0 -2px;width:100%;padding:0;background:#fff;z-index:2;cursor:pointer;list-style-type:none;box-shadow:0 2px 3px rgba(50,50,50,0.4);position:absolute;max-height:0px;-webkit-transition:max-height 100ms ease;transition:max-height 100ms ease;overflow:hidden;}.css-sew1z2-ListWrapper{border-top:1px solid #e2e2e2;padding:10px 8px;}.css-sew1z2-ListWrapper:hover{background:#f5f5f5;}.css-iry8e{display:block;-webkit-text-decoration:none;text-decoration:none;color:#555;font:14px Verdana,sans-serif;}.css-13o7eu2{display:block;}.css-1ebf8b3{display:block;margin:0 auto;padding:0;}@media (min-width:1225px){.css-1ebf8b3{width:1200px;}}.css-3g48ci{margin:20px 0;z-index:auto;}.css-fgpbia{min-height:90px;display:-webkit-box;display:-webkit-flex;display:-ms-flexbox;display:flex;-webkit-box-pack:center;-webkit-justify-content:center;-ms-flex-pack:center;justify-content:center;-webkit-align-items:center;-webkit-box-align:center;-ms-flex-align:center;align-items:center;}.css-1lcrovw{display:-webkit-box;display:-webkit-flex;display:-ms-flexbox;display:flex;position:relative;min-height:1px;padding:0 15px 15px 15px;}@media only screen and (max-width:500px){.css-1lcrovw{padding-left:0;padding-right:0;}}@media (max-width:768px){.css-1lcrovw{display:block;}}@media only screen and (max-width:768px){.css-95c5ng{margin:0 10px;}}.css-79elbk{position:relative;}.css-10zqgn2{display:-webkit-box;display:-webkit-flex;display:-ms-flexbox;display:flex;-webkit-flex-flow:row wrap;-ms-flex-flow:row wrap;flex-flow:row wrap;-webkit-align-items:flex-end;-webkit-box-align:flex-end;-ms-flex-align:flex-end;align-items:flex-end;margin-bottom:10px;}.css-pzrl1{-webkit-order:1;-ms-flex-order:1;order:1;font-weight:bold;line-height:1.15;margin:0 10px 0 0;color:#1a1a1a;word-break:break-word;font-size:40px;}@media (min-width:500px){.css-pzrl1{font-size:calc( 40px + (50 - 40) * ( (100vw - 500px) / (768 - 500) ) );}}@media (min-width:768px){.css-pzrl1{font-size:50px;}}.css-1jh47cl{-webkit-order:3;-ms-flex-order:3;order:3;margin:5px 0 10px;color:#3a76c3;font-size:14px;-webkit-text-decoration:none;text-decoration:none;}.css-1jh47cl:focus,.css-1jh47cl:hover,.css-1jh47cl:visited,.css-1jh47cl:link,.css-1jh47cl:active{-webkit-text-decoration:none;text-decoration:none;}.css-1nq2eka{position:relative;overflow:hidden;height:30px;}.css-172saqb{position:absolute;left:0px;top:0;white-space:nowrap;-webkit-transition:left 0s;transition:left 0s;}.css-aq2zan{position:relative;display:inline-block;line-height:17px;background-color:#ffffff;margin:0 4px 0 0;}@media (max-width:500px){.css-aq2zan{margin:0 8px 0 0;}}.css-aq2zan::before{content:'';position:absolute;width:0;height:0;top:0;left:0;}.css-1twju98{cursor:pointer;display:inline-block;padding:7px 10px 6px 16px;-webkit-text-decoration:none;text-decoration:none;color:#1a1a1a;}.css-1twju98:hover strong{color:#4a4a4a;}.css-u7frk4{font-size:12px;line-height:13px;color:#979797;margin-right:4px;}@media (max-width:768px){.css-u7frk4{font-size:16px;}}.css-k7u7pu{position:relative;display:inline-block;line-height:17px;background-color:#e1e1e1;margin:0 4px 0 0;}@media (max-width:500px){.css-k7u7pu{margin:0 8px 0 0;}}.css-k7u7pu::before{content:'';position:absolute;width:0;height:0;top:0;left:0;}.css-wmquag{cursor:pointer;display:inline-block;padding:7px 10px 6px 16px;-webkit-text-decoration:none;text-decoration:none;color:#979797;}.css-wmquag:hover strong{color:#4a4a4a;}.css-1wb9ami{width:100px;position:absolute;bottom:0;pointer-events:none;right:0;background:linear-gradient( to left,rgba(245,244,244,1) 0%,rgba(245,244,244,0) 100% );text-align:right;}.css-1x750yr{display:inline-block;font-size:0;line-height:30px;width:30px;color:#1a1a1a;outline:none;border:none;padding:0;margin:0;pointer-events:all;background:transparent;text-align:right;}.css-1x750yr:hover{cursor:pointer;}.css-1x750yr::before{content:'';width:0;height:0;border-top:5px solid transparent;border-bottom:5px solid transparent;border-left:6px solid #1a1a1a;}.css-1kc5m8x{padding:15px 20px 20px;background-color:#ffffff;margin:0 0 20px;}.css-ko4obs{color:#4a4a4a;font-size:14px;margin-top:0;}.css-1lc0dpe{width:100%;list-style-type:none;word-wrap:break-word;-webkit-hyphens:auto;-moz-hyphens:auto;-ms-hyphens:auto;hyphens:auto;}@media (min-width:1200px){.css-1lc0dpe{-webkit-column-count:5;column-count:5;}}@media (max-width:1200px) and (min-width:1024px){.css-1lc0dpe{-webkit-column-count:4;column-count:4;}}@media (max-width:1024px) and (min-width:380px){.css-1lc0dpe{-webkit-column-count:3;column-count:3;}}@media (max-width:380px){.css-1lc0dpe{-webkit-column-count:2;column-count:2;}}.css-133coio{line-height:14px;}.css-zu4egz{-webkit-transition:background-color 0.4s,color 0.25s;transition:background-color 0.4s,color 0.25s;-webkit-text-decoration:none;text-decoration:none;padding:2px;padding:6px;background-color:#fdedd3;color:#1a1a1a;font-size:16px;font-weight:inherit;margin-bottom:4px;display:inline-block;}@media (max-width:500px){.css-zu4egz{font-size:18px;}}@media (max-width:500px){.css-zu4egz{margin-bottom:8px;}}.css-zu4egz:hover{-webkit-text-decoration:underline;text-decoration:underline;cursor:pointer;}.css-1b769zd{height:30px;width:143px;margin:20px 0 0 auto;}.css-iytrha{font-size:12px;}.css-iytrha:before{margin-right:7px;position:relative;bottom:-1px;display:inline-block;content:'';background-color:#f5a623;width:10px;height:10px;}.css-qwq3ka{color:#4a4a4a;position:relative;top:-12px;}.css-1qygofn{display:-webkit-box;display:-webkit-flex;display:-ms-flexbox;display:flex;-webkit-flex-flow:row nowrap;-ms-flex-flow:row nowrap;flex-flow:row nowrap;-webkit-box-pack:space-evenly;-webkit-justify-content:space-evenly;-ms-flex-pack:space-evenly;justify-content:space-evenly;margin-top:45px;margin-bottom:20px;}@media only screen and (max-width:601px){.css-1qygofn{-webkit-flex-direction:column;-ms-flex-direction:column;flex-direction:column;}}.css-rats3j{padding:35px 45px;background-color:#ffffff;}.css-wp1t9x{font-size:16px;text-transform:uppercase;-webkit-letter-spacing:0;-moz-letter-spacing:0;-ms-letter-spacing:0;letter-spacing:0;font-weight:400;position:relative;bottom:-12px;margin-top:40px;color:#979797;}.css-10cokgy{display:block;margin:20px 0;}.css-oxlj02{display:inline-block;word-break:break-all;word-wrap:break-word;-webkit-hyphens:auto;-moz-hyphens:auto;-ms-hyphens:auto;hyphens:auto;line-height:56px;font-weight:bold;color:#4a4a4a;margin:0 15px 8px 0;font-size:40px;}@media (min-width:500px){.css-oxlj02{font-size:calc( 40px + (50 - 40) * ( (100vw - 500px) / (768 - 500) ) );}}@media (min-width:768px){.css-oxlj02{font-size:50px;}}.css-1unrqcp{color:inherit;-webkit-text-decoration:none;text-decoration:none;}.css-6qtdy1{color:#979797;font-size:16px;line-height:17px;margin-bottom:15px;margin-top:5px;-webkit-letter-spacing:0;-moz-letter-spacing:0;-ms-letter-spacing:0;letter-spacing:0;}@media (max-width:600px){.css-6qtdy1{display:block;}}.css-1xupnfh{color:#979797;font-style:italic;margin-right:5px;}.css-1873l02{color:#4a4a4a;}.css-k9iupi{width:100%;list-style-type:none;word-wrap:break-word;-webkit-hyphens:auto;-moz-hyphens:auto;-ms-hyphens:auto;hyphens:auto;}@media (min-width:1200px){.css-k9iupi{-webkit-column-count:4;column-count:4;}}@media (max-width:1200px) and (min-width:1024px){.css-k9iupi{-webkit-column-count:4;column-count:4;}}@media (max-width:1024px) and (min-width:380px){.css-k9iupi{-webkit-column-count:3;column-count:3;}}@media (max-width:380px){.css-k9iupi{-webkit-column-count:2;column-count:2;}}.css-1uelkud{-webkit-transition:background-color 0.4s,color 0.25s;transition:background-color 0.4s,color 0.25s;-webkit-text-decoration:none;text-decoration:none;padding:2px;padding:6px;background-color:#ffffff;color:#1a1a1a;font-size:16px;font-weight:normal;margin-bottom:4px;display:inline-block;}@media (max-width:500px){.css-1uelkud{font-size:18px;}}@media (max-width:500px){.css-1uelkud{margin-bottom:8px;}}.css-1uelkud:hover{-webkit-text-decoration:underline;text-decoration:underline;cursor:pointer;}.css-118mqyx{margin:0 auto;min-height:90px;text-align:center;}.css-jj611e{display:-webkit-box;display:-webkit-flex;display:-ms-flexbox;display:flex;-webkit-flex:0 0 300px;-ms-flex:0 0 300px;flex:0 0 300px;-webkit-flex-direction:column;-ms-flex-direction:column;flex-direction:column;width:300px;min-height:1px;position:relative;margin-left:20px;}@media (max-width:768px){.css-jj611e{margin:20px auto auto auto;display:block;max-width:300px;}}.css-1yw3csq{margin:20px 0;z-index:auto;margin-top:0;}.css-fmek98{min-height:250px;display:-webkit-box;display:-webkit-flex;display:-ms-flexbox;display:flex;-webkit-box-pack:center;-webkit-justify-content:center;-ms-flex-pack:center;justify-content:center;-webkit-align-items:center;-webkit-box-align:center;-ms-flex-align:center;align-items:center;}.css-1nm0qi8{padding:0 20px;}@media (max-width:500px){.css-1nm0qi8{padding:15px;}}.css-1nm0qi8 a{-webkit-text-decoration:none;text-decoration:none;}.css-1nm0qi8 a:hover{color:#3a76c3;}.css-1nm0qi8 p:hover{color:#3a76c3;}.css-829tqn-EditorialComponent{background-color:transparent;}@media only screen and (min-width:769px){.css-829tqn-EditorialComponent{padding:px;}}.css-m78s4-EditorialTitle{margin:0 auto 8px;display:inline-block;font-weight:normal;-webkit-text-decoration:none;text-decoration:none;text-transform:uppercase;}.css-3o7mmi-EditorialTitleLink{color:#4a4a4a;font-size:14px;margin-bottom:0px;}.css-3o7mmi-EditorialTitleLink:hover{-webkit-text-decoration:underline;text-decoration:underline;}.css-7j5dir-EditorialCardContainer{list-style:none;display:-webkit-box;display:-webkit-flex;display:-ms-flexbox;display:flex;-webkit-flex-wrap:wrap;-ms-flex-wrap:wrap;flex-wrap:wrap;-webkit-box-pack:justify;-webkit-justify-content:space-between;-ms-flex-pack:justify;justify-content:space-between;}.css-7j5dir-EditorialCardContainer > li{-webkit-flex-basis:100%;-ms-flex-preferred-size:100%;flex-basis:100%;}@media only screen and (max-width:768px){.css-7j5dir-EditorialCardContainer > li{-webkit-flex-basis:100%;-ms-flex-preferred-size:100%;flex-basis:100%;}}.css-2lj3gn-Card{margin-bottom:8px;max-width:360px;}.css-2lj3gn-Card:last-child{margin-right:0;}.css-10pymq-CardItemLink{-webkit-text-decoration:none;text-decoration:none;color:#4a4a4a;}.css-11ffqd7-CardItem{display:-webkit-box;display:-webkit-flex;display:-ms-flexbox;display:flex;-webkit-align-items:center;-webkit-box-align:center;-ms-flex-align:center;align-items:center;}.css-1s10bac-CardItemImage{-webkit-box-flex:0;-webkit-flex-grow:0;-ms-flex-positive:0;flex-grow:0;-webkit-flex-shrink:0;-ms-flex-negative:0;flex-shrink:0;height:64px;width:64px;float:left;}.css-tgxsze-CardItemTitle{font-size:14px;color:#4a4a4a;-webkit-letter-spacing:0;-moz-letter-spacing:0;-ms-letter-spacing:0;letter-spacing:0;line-height:18px;margin-left:8px;word-wrap:break-word;-webkit-hyphens:auto;-moz-hyphens:auto;-ms-hyphens:auto;hyphens:auto;}@media only screen and (max-width:769px){.css-tgxsze-CardItemTitle{font-size:16px;}}.css-tgxsze-CardItemTitle:hover{-webkit-text-decoration:underline;text-decoration:underline;}.css-yjy7kb{margin:0 auto;min-height:250px;text-align:center;}.css-vtn2l4{padding-bottom:20px;}.css-110ybod-WotdContainer{width:300px;height:300px;cursor:pointer;-webkit-text-decoration:none;text-decoration:none;}@media only screen and (max-width:768px){.css-110ybod-WotdContainer{padding:20px 0px;}}.css-110ybod-WotdContainer:hover{-webkit-text-decoration:none;text-decoration:none;}.css-1hf127b-WotdBorderedCircle{display:-webkit-box;display:-webkit-flex;display:-ms-flexbox;display:flex;-webkit-flex-flow:column nowrap;-ms-flex-flow:column nowrap;flex-flow:column nowrap;-webkit-box-pack:center;-webkit-justify-content:center;-ms-flex-pack:center;justify-content:center;-webkit-align-items:center;-webkit-box-align:center;-ms-flex-align:center;align-items:center;width:288px;height:288px;border-radius:50%;background-color:transparent;border:12px solid #ffffff;box-sizing:border-box;color:black;word-break:break-word;text-align:center;-webkit-hyphens:auto;-moz-hyphens:auto;-ms-hyphens:auto;hyphens:auto;}.css-12droi1-WotdTitle{-webkit-order:1;-ms-flex-order:1;order:1;color:#4a4a4a;font-family:arial;font-size:14px;margin:0;}.css-klr4kg-WotdWord{color:#4a4a4a;-webkit-order:2;-ms-flex-order:2;order:2;font-family:arial;font-weight:900;margin:2px 0;line-height:36px;font-size:2em;}.css-1tw7usw-WotdDetails{-webkit-order:3;-ms-flex-order:3;order:3;color:#4a4a4a;font-family:arial;margin:0 0 12px 0;line-height:1;text-align:initial;}.css-68nz7a-BlockSpan{display:inline;margin:0;}.css-68nz7a-BlockSpan .italic{font-style:italic;}.css-68nz7a-BlockSpan .bold{font-weight:bold;}.css-1of61ad-BlockSpan-Pipe{display:inline;margin:0;display:inline;}.css-1of61ad-BlockSpan-Pipe .italic{font-style:italic;}.css-1of61ad-BlockSpan-Pipe .bold{font-weight:bold;}.css-kznuui-BlockSpan-Pronunciation{display:inline;margin:0;font-size:16px;}.css-kznuui-BlockSpan-Pronunciation .italic{font-style:italic;}.css-kznuui-BlockSpan-Pronunciation .bold{font-weight:bold;}.css-73moer-AudioButton{border:none;margin-left:5px;font-family:'dictionary-fonticon';font-size:19px;color:#979797;}.css-73moer-AudioButton::before{content:'\\e803';position:relative;top:3px;}.css-lj4v6t-SeeMoreLink{-webkit-order:4;-ms-flex-order:4;order:4;color:#f5a623;font-family:arial;font-size:12px;-webkit-text-decoration:none;text-decoration:none;}.css-lj4v6t-SeeMoreLink:hover{-webkit-text-decoration:underline;text-decoration:underline;}.css-5fvmx8-StyledFooter{background-color:#444;height:185px;}@media only screen and (max-width:769px){.css-5fvmx8-StyledFooter{height:300px;}}.css-1xeb4yw-FooterContainer{width:70%;margin:0 auto;color:#bbb;font-weight:100;font-family:'Helvetica';font-size:14px;line-height:40px;}@media only screen and (max-width:769px){.css-1xeb4yw-FooterContainer{width:100%;line-height:30px;text-align:center;}}.css-19grk89-AZFooterContainer{line-height:normal;padding-bottom:22px;}.css-1owogex-ListContainter{margin:0;list-style:none;padding-top:20px;padding-left:0px;display:-webkit-box;display:-webkit-flex;display:-ms-flexbox;display:flex;-webkit-flex-flow:row wrap;-ms-flex-flow:row wrap;flex-flow:row wrap;-webkit-text-decoration:none;text-decoration:none;position:relative;text-align:left;}@media only screen and (max-width:769px){.css-1owogex-ListContainter{padding-left:18px;}}.css-cxsskz-ListTitle{padding-right:16px;color:#999999;}@media only screen and (min-width:769px){.css-cxsskz-ListTitle{float:left;}}.css-n1j42s-ListItem{float:left;padding-right:6px;}@media only screen and (max-width:769px){.css-n1j42s-ListItem{float:right;padding-right:18px;margin-bottom:8px;-webkit-column-fill:balance;column-fill:balance;}}.css-fpt4lm-ListItemLink{color:#cccccc;-webkit-text-decoration:none;text-decoration:none;}.css-f063v9-ListItem{float:left;padding-right:16px;}@media only screen and (max-width:769px){.css-f063v9-ListItem{float:right;padding-right:18px;margin-bottom:8px;-webkit-column-fill:balance;column-fill:balance;}}.css-197if4n-FooterNavigation{display:inline;margin:0;padding:0px;}@media only screen and (min-width:769px){.css-197if4n-FooterNavigation{float:right;}}.css-184f2y4-FooterNavigationElement{display:inline;position:relative;}.css-ehlzpo-FooterLink{color:#bbb;-webkit-text-decoration:none;text-decoration:none;padding-left:35px;}.css-ehlzpo-FooterLink:hover{color:#fff;-webkit-text-decoration:underline;text-decoration:underline;}@media only screen and (max-width:769px){.css-ehlzpo-FooterLink{padding:5px;display:inline-block;text-align:center;}}</style>\n",
       "</head>\n",
       "<body>\n",
       "<!-- Google Analytics GTM iframe starts here -->\n",
       "<noscript>\n",
       "<iframe height=\"0\" src=\"//www.googletagmanager.com/ns.html?id=GTM-PVMWP3\" style=\"display:none;visibility:hidden\" width=\"0\"></iframe>\n",
       "</noscript>\n",
       "<!-- Google Analytics GTM iframe ends here -->\n",
       "<div id=\"loadingContainer\"><div id=\"loading\"></div><div id=\"root\"><div data-reactroot=\"\"><div class=\"app-base css-1j0eho5 eavft170\"><div class=\"base-page-wrapper css-7a875u eavft172\"><div class=\"css-ywz12x ex22c72\"><header><nav aria-label=\"Site Navigation\"><div class=\"css-1atz4kp-Navigation e1nknobk0\"><div class=\"css-1hp4ihf-Container e1mpvuks0\"><div class=\"hamburger-overlay css-p5rnoq-Overlay e1mpvuks1\"></div><nav aria-label=\"Hamburger Menu\" class=\"css-1gb0qe-Nav e1mpvuks3\"><ul class=\"css-17g2mt7-List e1mpvuks5\"><li class=\"css-m3rjfu-Item e1mpvuks4\"><a class=\"css-wuicji-Link e1mpvuks2\" data-linkid=\"c1drjk\" href=\"https://www.thesaurus.com\" id=\"hamburgerMenuThesauruscom\">Thesaurus.com</a><ul class=\"css-ioerk6-NestedList e1mpvuks6\"><li><a class=\"css-wuicji-Link e1mpvuks2\" data-linkid=\"1498ik\" href=\"https://www.dictionary.com/wordoftheday/\" id=\"hamburgerMenuWotd\">Word of the Day</a></li><li><a class=\"css-wuicji-Link e1mpvuks2\" data-linkid=\"636f6c\" href=\"https://www.dictionary.com/fun/crosswordsolver\" id=\"hamburgerMenuGames\">Crossword Solver</a></li><li><a class=\"css-wuicji-Link e1mpvuks2\" data-linkid=\"t6ehki\" href=\"https://www.dictionary.com/e/\" id=\"hamburgerMenuBlog\">Everything After Z</a></li></ul></li><li class=\"css-m3rjfu-Item e1mpvuks4\"><a class=\"css-wuicji-Link e1mpvuks2\" data-linkid=\"lxabec\" href=\"https://www.dictionary.com\" id=\"hamburgerMenuDictionarycom\">Dictionary.com</a></li></ul></nav><button aria-label=\"Toggle Menu\" class=\"css-drw9r6-HamburgerButton e1mpvuks7\" id=\"hamburgerButton-click\"></button></div><ul class=\"css-1hyo8qo-TabContainer e1nknobk1\"><li class=\"css-upgnes-TabInactive ejn7swr2\"><a class=\"css-12pg1no-Link ejn7swr0\" data-linkid=\"tqks0v\" href=\"https://www.Dictionary.com\" id=\"dictionary-nav-tab\">Dictionary.com</a></li><li class=\"css-1lk7v7n-TabActive ejn7swr1\"><a class=\"header-tab-active css-8x77lp-Link ejn7swr0\" data-linkid=\"qxnxzj\" href=\"https://www.Thesaurus.com\" id=\"thesaurus-nav-tab\" role=\"link\">Thesaurus.com</a></li></ul><a class=\"css-1o19q92-StyledApps ebzzift0\" data-linkid=\"dbvvdc\" font-family=\"dictionary-fonticon\" href=\"https://www.dictionary.com/e/apps/\"><span class=\"css-1y1om3k-Android ebzzift1\"></span><span class=\"css-5yyf7-Apple ebzzift2\"></span>Try Our Apps</a></div></nav><div class=\"css-1jced3u-SearchContainer e1nfx3j01\"><div class=\"css-nc8m4u-SearchRow e1nfx3j02\"><a data-linkid=\"yg487x\" href=\"https://www.thesaurus.com\"><img alt=\"Thesaurus.com\" class=\"css-8en0us-Logo e1nfx3j00\" src=\"https://www.thesaurus.com/assets/Thesaurus_Logo_white-e52239ea6d6b353291a395b18c0e11e9.svg\"/></a><div class=\"css-18hd8o5-SearchWrapper e18h4a051\"><form action=\"#\" class=\"css-1nodpsb-StyledForm e18h4a053\"><div class=\"css-6houri-FilterNavContainer ev3lshj0\"><span class=\"css-1qsgpoi e2cjyp00\" id=\"search-dropdown-icon\"></span><span class=\"css-pvpj9z-FilterItem ev3lshj1\" id=\"active-synonyms\">synonyms</span></div><label class=\"css-1hsp8l3-HiddenLabel e1t7bu8t0\" for=\"q\">Search</label><input autocapitalize=\"off\" autocomplete=\"off\" autocorrect=\"off\" class=\"search-input css-f5s54a-SearchInputColored e18h4a054\" id=\"searchbar_input\" name=\"override_query\" title=\"Search\" type=\"search\" value=\"just as\"/><button aria-label=\"Search\" class=\"css-afwbme-SearchButtonColored e18h4a052\" id=\"search-submit\" type=\"submit\"></button><ul class=\"css-1jzsm78 ep2tsc50\" style=\"max-height:0\"><li class=\"css-sew1z2-ListWrapper e18h4a050\" id=\"definitions-filter\"><a class=\"css-iry8e ebjrtl60\" data-linkid=\"59wn52\">definitions</a></li></ul></form></div></div></div></header></div><div class=\"css-13o7eu2 ex22c70\"><div id=\"initial-load-content\"><main class=\"css-1ebf8b3 eavft173\"><aside class=\"css-1xdhyk6 em66cyi0\"><aside class=\"css-3g48ci em66cyi1\"><aside class=\"css-fgpbia e1wyd5nb0\" id=\"thesaurus_serp_atf_728x90\"><script>if (window.googletag) {googletag.cmd.push(function() { googletag.display('thesaurus_serp_atf_728x90'); });} else {console.error('googletag not defined, thesaurus_serp_atf_728x90');}</script></aside></aside></aside><section class=\"MainContentContainer css-1lcrovw e1h3b0ep0\"><section class=\"css-95c5ng e1v16r9g0\"><div class=\"css-79elbk en1b8750\"><div class=\"css-10zqgn2 ek7obj50\"><h1 class=\"css-pzrl1 ek7obj53\">just as</h1><a class=\"css-1jh47cl ek7obj52\" data-linkid=\"k7mlp0\" href=\"https://www.dictionary.com/browse/just-as\">SEE DEFINITION OF <em>just as</em></a></div><div class=\"css-79elbk e9i53te9\"><div class=\"postab-container css-1nq2eka e9i53te1\"><ul class=\"css-172saqb e9i53te2\"><li class=\"active-postab css-aq2zan e9i53te0\"><a class=\"css-1twju98 e9i53te7\"><em class=\"css-u7frk4 e9i53te8\">as in</em><strong>as</strong></a></li><li class=\"css-k7u7pu e9i53te0\"><a class=\"css-wmquag e9i53te7\"><em class=\"css-u7frk4 e9i53te8\">as in</em><strong>as</strong></a></li><li class=\"css-k7u7pu e9i53te0\"><a class=\"css-wmquag e9i53te7\"><em class=\"css-u7frk4 e9i53te8\">as in</em><strong>when</strong></a></li><li class=\"css-k7u7pu e9i53te0\"><a class=\"css-wmquag e9i53te7\"><em class=\"css-u7frk4 e9i53te8\">as in</em><strong>as if</strong></a></li><li class=\"css-k7u7pu e9i53te0\"><a class=\"css-wmquag e9i53te7\"><em class=\"css-u7frk4 e9i53te8\">as in</em><strong>as though</strong></a></li><li class=\"css-k7u7pu e9i53te0\"><a class=\"css-wmquag e9i53te7\"><em class=\"css-u7frk4 e9i53te8\">as in</em><strong>according to</strong></a></li></ul></div><div class=\"css-1wb9ami e9i53te4\"><button class=\"css-1x750yr e9i53te6\" href=\"#\"></button></div></div></div><div class=\"css-1kc5m8x e1qo4u830\"><section class=\"css-0 e1991neq0\"><p class=\"css-ko4obs e1qhuuqg0\">Synonyms for <em>just as</em></p><ul class=\"css-1lc0dpe et6tpn80\"><li><span class=\"css-133coio etbu2a32\"><a class=\"css-zu4egz etbu2a31\" data-linkid=\"nn1ov4\" href=\"/browse/at%20the%20time%20that\">at the time that</a></span></li><li><span class=\"css-133coio etbu2a32\"><a class=\"css-zu4egz etbu2a31\" data-linkid=\"nn1ov4\" href=\"/browse/during%20the%20time%20that\">during the time that</a></span></li><li><span class=\"css-133coio etbu2a32\"><a class=\"css-zu4egz etbu2a31\" data-linkid=\"nn1ov4\" href=\"/browse/in%20the%20act%20of\">in the act of</a></span></li><li><span class=\"css-133coio etbu2a32\"><a class=\"css-zu4egz etbu2a31\" data-linkid=\"nn1ov4\" href=\"/browse/in%20the%20process%20of\">in the process of</a></span></li><li><span class=\"css-133coio etbu2a32\"><a class=\"css-zu4egz etbu2a31\" data-linkid=\"nn1ov4\" href=\"/browse/on%20the%20point%20of\">on the point of</a></span></li></ul><div class=\"css-1b769zd e1ofkxl60\"><div class=\"css-iytrha e1ofkxl61\" color=\"#f5a623\">MOST RELEVANT</div></div></section></div><div class=\"css-qwq3ka e1nz5my50\">Roget's 21st Century Thesaurus, Third Edition Copyright © 2013 by the\n",
       "          Philip Lief Group.</div><section class=\"css-1qygofn eohssm40\"><div></div></section><h2 class=\"css-wp1t9x e1x7e0fw1\">MORE RELATED WORDS FOR <!-- -->JUST AS</h2><section><div class=\"css-10cokgy e1x7e0fw0\"><div class=\"css-0 e1m1tvmx0\"><h3 class=\"css-oxlj02 e1m1tvmx4\"><a class=\"css-1unrqcp e1m1tvmx5\" data-linkid=\"nn1ov4\" href=\"/browse/according%20to\">according to</a></h3><span class=\"css-6qtdy1 e1m1tvmx6\"><span class=\"css-1xupnfh e1m1tvmx7\">preposition</span><span class=\"css-1873l02 e1m1tvmx8\">in accordance with</span></span></div><div class=\"css-rats3j e1qo4u831\"><section class=\"css-0 e1991neq0\"><ul class=\"css-k9iupi et6tpn80\"><li><span class=\"css-133coio etbu2a32\"><a class=\"css-1uelkud etbu2a31\" data-linkid=\"nn1ov4\" href=\"/browse/as%20reported%20by\">as reported by</a></span></li><li><span class=\"css-133coio etbu2a32\"><a class=\"css-1uelkud etbu2a31\" data-linkid=\"nn1ov4\" href=\"/browse/as%20stated%20in\">as stated in</a></span></li><li><span class=\"css-133coio etbu2a32\"><a class=\"css-1uelkud etbu2a31\" data-linkid=\"nn1ov4\" href=\"/browse/conforming%20to\">conforming to</a></span></li><li><span class=\"css-133coio etbu2a32\"><a class=\"css-1uelkud etbu2a31\" data-linkid=\"nn1ov4\" href=\"/browse/in%20agreement%20with\">in agreement with</a></span></li><li><span class=\"css-133coio etbu2a32\"><a class=\"css-1uelkud etbu2a31\" data-linkid=\"nn1ov4\" href=\"/browse/in%20consonance%20with\">in consonance with</a></span></li><li><span class=\"css-133coio etbu2a32\"><a class=\"css-1uelkud etbu2a31\" data-linkid=\"nn1ov4\" href=\"/browse/in%20keeping%20with\">in keeping with</a></span></li><li><span class=\"css-133coio etbu2a32\"><a class=\"css-1uelkud etbu2a31\" data-linkid=\"nn1ov4\" href=\"/browse/in%20line%20with\">in line with</a></span></li><li><span class=\"css-133coio etbu2a32\"><a class=\"css-1uelkud etbu2a31\" data-linkid=\"nn1ov4\" href=\"/browse/just%20as\">just as</a></span></li><li><span class=\"css-133coio etbu2a32\"><a class=\"css-1uelkud etbu2a31\" data-linkid=\"nn1ov4\" href=\"/browse/pursuant%20to\">pursuant to</a></span></li><li><span class=\"css-133coio etbu2a32\"><a class=\"css-1uelkud etbu2a31\" data-linkid=\"nn1ov4\" href=\"/browse/to%20the%20degree%20that\">to the degree that</a></span></li></ul></section></div><aside class=\"css-1xdhyk6 em66cyi0\"><aside class=\"css-3g48ci em66cyi1\"><aside class=\"css-fgpbia e1wyd5nb0\" id=\"tcom_serp_dkt_atf_728x90_3\"><script>if (window.googletag) {googletag.cmd.push(function() { googletag.display('tcom_serp_dkt_atf_728x90_3'); });} else {console.error('googletag not defined, tcom_serp_dkt_atf_728x90_3');}</script></aside></aside></aside></div><div class=\"css-10cokgy e1x7e0fw0\"><div class=\"css-0 e1m1tvmx0\"><h3 class=\"css-oxlj02 e1m1tvmx4\"><a class=\"css-1unrqcp e1m1tvmx5\" data-linkid=\"nn1ov4\" href=\"/browse/as\">as</a></h3><span class=\"css-6qtdy1 e1m1tvmx6\"><span class=\"css-1xupnfh e1m1tvmx7\">conjunction</span><span class=\"css-1873l02 e1m1tvmx8\">in the way that; to a degree</span></span></div><div class=\"css-rats3j e1qo4u831\"><section class=\"css-0 e1991neq0\"><ul class=\"css-k9iupi et6tpn80\"><li><span class=\"css-133coio etbu2a32\"><a class=\"css-1uelkud etbu2a31\" data-linkid=\"nn1ov4\" href=\"/browse/acting%20as\">acting as</a></span></li><li><span class=\"css-133coio etbu2a32\"><a class=\"css-1uelkud etbu2a31\" data-linkid=\"nn1ov4\" href=\"/browse/being\">being</a></span></li><li><span class=\"css-133coio etbu2a32\"><a class=\"css-1uelkud etbu2a31\" data-linkid=\"nn1ov4\" href=\"/browse/by%20its%20nature\">by its nature</a></span></li><li><span class=\"css-133coio etbu2a32\"><a class=\"css-1uelkud etbu2a31\" data-linkid=\"nn1ov4\" href=\"/browse/comparatively\">comparatively</a></span></li><li><span class=\"css-133coio etbu2a32\"><a class=\"css-1uelkud etbu2a31\" data-linkid=\"nn1ov4\" href=\"/browse/equally\">equally</a></span></li><li><span class=\"css-133coio etbu2a32\"><a class=\"css-1uelkud etbu2a31\" data-linkid=\"nn1ov4\" href=\"/browse/essentially\">essentially</a></span></li><li><span class=\"css-133coio etbu2a32\"><a class=\"css-1uelkud etbu2a31\" data-linkid=\"nn1ov4\" href=\"/browse/for%20instance\">for instance</a></span></li><li><span class=\"css-133coio etbu2a32\"><a class=\"css-1uelkud etbu2a31\" data-linkid=\"nn1ov4\" href=\"/browse/functioning%20as\">functioning as</a></span></li><li><span class=\"css-133coio etbu2a32\"><a class=\"css-1uelkud etbu2a31\" data-linkid=\"nn1ov4\" href=\"/browse/in%20the%20manner%20that\">in the manner that</a></span></li><li><span class=\"css-133coio etbu2a32\"><a class=\"css-1uelkud etbu2a31\" data-linkid=\"nn1ov4\" href=\"/browse/in%20the%20same%20manner%20with\">in the same manner with</a></span></li><li><span class=\"css-133coio etbu2a32\"><a class=\"css-1uelkud etbu2a31\" data-linkid=\"nn1ov4\" href=\"/browse/just%20as\">just as</a></span></li><li><span class=\"css-133coio etbu2a32\"><a class=\"css-1uelkud etbu2a31\" data-linkid=\"nn1ov4\" href=\"/browse/just%20for\">just for</a></span></li><li><span class=\"css-133coio etbu2a32\"><a class=\"css-1uelkud etbu2a31\" data-linkid=\"nn1ov4\" href=\"/browse/like\">like</a></span></li><li><span class=\"css-133coio etbu2a32\"><a class=\"css-1uelkud etbu2a31\" data-linkid=\"nn1ov4\" href=\"/browse/serving%20as\">serving as</a></span></li><li><span class=\"css-133coio etbu2a32\"><a class=\"css-1uelkud etbu2a31\" data-linkid=\"nn1ov4\" href=\"/browse/similarly\">similarly</a></span></li><li><span class=\"css-133coio etbu2a32\"><a class=\"css-1uelkud etbu2a31\" data-linkid=\"nn1ov4\" href=\"/browse/such%20as\">such as</a></span></li></ul></section></div></div><div class=\"css-10cokgy e1x7e0fw0\"><div class=\"css-0 e1m1tvmx0\"><h3 class=\"css-oxlj02 e1m1tvmx4\"><a class=\"css-1unrqcp e1m1tvmx5\" data-linkid=\"nn1ov4\" href=\"/browse/as%20if\">as if</a></h3><span class=\"css-6qtdy1 e1m1tvmx6\"><span class=\"css-1xupnfh e1m1tvmx7\">conjunction</span><span class=\"css-1873l02 e1m1tvmx8\">as though</span></span></div><div class=\"css-rats3j e1qo4u831\"><section class=\"css-0 e1991neq0\"><ul class=\"css-k9iupi et6tpn80\"><li><span class=\"css-133coio etbu2a32\"><a class=\"css-1uelkud etbu2a31\" data-linkid=\"nn1ov4\" href=\"/browse/as%20it%20were\">as it were</a></span></li><li><span class=\"css-133coio etbu2a32\"><a class=\"css-1uelkud etbu2a31\" data-linkid=\"nn1ov4\" href=\"/browse/as%20it%20would%20be\">as it would be</a></span></li><li><span class=\"css-133coio etbu2a32\"><a class=\"css-1uelkud etbu2a31\" data-linkid=\"nn1ov4\" href=\"/browse/as%20might%20be\">as might be</a></span></li><li><span class=\"css-133coio etbu2a32\"><a class=\"css-1uelkud etbu2a31\" data-linkid=\"nn1ov4\" href=\"/browse/in%20such%20a%20way%20that\">in such a way that</a></span></li><li><span class=\"css-133coio etbu2a32\"><a class=\"css-1uelkud etbu2a31\" data-linkid=\"nn1ov4\" href=\"/browse/just%20as\">just as</a></span></li><li><span class=\"css-133coio etbu2a32\"><a class=\"css-1uelkud etbu2a31\" data-linkid=\"nn1ov4\" href=\"/browse/just%20as%20if\">just as if</a></span></li><li><span class=\"css-133coio etbu2a32\"><a class=\"css-1uelkud etbu2a31\" data-linkid=\"nn1ov4\" href=\"/browse/just%20as%20though\">just as though</a></span></li><li><span class=\"css-133coio etbu2a32\"><a class=\"css-1uelkud etbu2a31\" data-linkid=\"nn1ov4\" href=\"/browse/so%20to%20speak\">so to speak</a></span></li></ul></section></div></div></section><section><div class=\"css-10cokgy e1x7e0fw0\"><aside class=\"css-1xdhyk6 em66cyi0\"><aside class=\"css-3g48ci em66cyi1\"><aside class=\"css-118mqyx erjrm7p0\"><div id=\"thesaurus_serp_728x90_p5\"></div></aside></aside></aside><div class=\"css-0 e1m1tvmx0\"><h3 class=\"css-oxlj02 e1m1tvmx4\"><a class=\"css-1unrqcp e1m1tvmx5\" data-linkid=\"nn1ov4\" href=\"/browse/as%20though\">as though</a></h3><span class=\"css-6qtdy1 e1m1tvmx6\"><span class=\"css-1xupnfh e1m1tvmx7\">conjunction</span><span class=\"css-1873l02 e1m1tvmx8\">as if</span></span></div><div class=\"css-rats3j e1qo4u831\"><section class=\"css-0 e1991neq0\"><ul class=\"css-k9iupi et6tpn80\"><li><span class=\"css-133coio etbu2a32\"><a class=\"css-1uelkud etbu2a31\" data-linkid=\"nn1ov4\" href=\"/browse/as%20it%20were\">as it were</a></span></li><li><span class=\"css-133coio etbu2a32\"><a class=\"css-1uelkud etbu2a31\" data-linkid=\"nn1ov4\" href=\"/browse/as%20it%20would%20be\">as it would be</a></span></li><li><span class=\"css-133coio etbu2a32\"><a class=\"css-1uelkud etbu2a31\" data-linkid=\"nn1ov4\" href=\"/browse/as%20might%20be\">as might be</a></span></li><li><span class=\"css-133coio etbu2a32\"><a class=\"css-1uelkud etbu2a31\" data-linkid=\"nn1ov4\" href=\"/browse/in%20such%20a%20way%20that\">in such a way that</a></span></li><li><span class=\"css-133coio etbu2a32\"><a class=\"css-1uelkud etbu2a31\" data-linkid=\"nn1ov4\" href=\"/browse/just%20as\">just as</a></span></li><li><span class=\"css-133coio etbu2a32\"><a class=\"css-1uelkud etbu2a31\" data-linkid=\"nn1ov4\" href=\"/browse/just%20as%20if\">just as if</a></span></li><li><span class=\"css-133coio etbu2a32\"><a class=\"css-1uelkud etbu2a31\" data-linkid=\"nn1ov4\" href=\"/browse/just%20as%20though\">just as though</a></span></li><li><span class=\"css-133coio etbu2a32\"><a class=\"css-1uelkud etbu2a31\" data-linkid=\"nn1ov4\" href=\"/browse/so%20to%20speak\">so to speak</a></span></li></ul></section></div></div><div class=\"css-10cokgy e1x7e0fw0\"><div class=\"css-0 e1m1tvmx0\"><h3 class=\"css-oxlj02 e1m1tvmx4\"><a class=\"css-1unrqcp e1m1tvmx5\" data-linkid=\"nn1ov4\" href=\"/browse/when\">when</a></h3><span class=\"css-6qtdy1 e1m1tvmx6\"><span class=\"css-1xupnfh e1m1tvmx7\">conjunction</span><span class=\"css-1873l02 e1m1tvmx8\">though</span></span></div><div class=\"css-rats3j e1qo4u831\"><section class=\"css-0 e1991neq0\"><ul class=\"css-k9iupi et6tpn80\"><li><span class=\"css-133coio etbu2a32\"><a class=\"css-1uelkud etbu2a31\" data-linkid=\"nn1ov4\" href=\"/browse/albeit\">albeit</a></span></li><li><span class=\"css-133coio etbu2a32\"><a class=\"css-1uelkud etbu2a31\" data-linkid=\"nn1ov4\" href=\"/browse/although\">although</a></span></li><li><span class=\"css-133coio etbu2a32\"><a class=\"css-1uelkud etbu2a31\" data-linkid=\"nn1ov4\" href=\"/browse/at\">at</a></span></li><li><span class=\"css-133coio etbu2a32\"><a class=\"css-1uelkud etbu2a31\" data-linkid=\"nn1ov4\" href=\"/browse/at%20the%20same%20time\">at the same time</a></span></li><li><span class=\"css-133coio etbu2a32\"><a class=\"css-1uelkud etbu2a31\" data-linkid=\"nn1ov4\" href=\"/browse/during\">during</a></span></li><li><span class=\"css-133coio etbu2a32\"><a class=\"css-1uelkud etbu2a31\" data-linkid=\"nn1ov4\" href=\"/browse/howbeit\">howbeit</a></span></li><li><span class=\"css-133coio etbu2a32\"><a class=\"css-1uelkud etbu2a31\" data-linkid=\"nn1ov4\" href=\"/browse/immediately%20upon\">immediately upon</a></span></li><li><span class=\"css-133coio etbu2a32\"><a class=\"css-1uelkud etbu2a31\" data-linkid=\"nn1ov4\" href=\"/browse/just%20after\">just after</a></span></li><li><span class=\"css-133coio etbu2a32\"><a class=\"css-1uelkud etbu2a31\" data-linkid=\"nn1ov4\" href=\"/browse/just%20as\">just as</a></span></li><li><span class=\"css-133coio etbu2a32\"><a class=\"css-1uelkud etbu2a31\" data-linkid=\"nn1ov4\" href=\"/browse/meanwhile\">meanwhile</a></span></li><li><span class=\"css-133coio etbu2a32\"><a class=\"css-1uelkud etbu2a31\" data-linkid=\"nn1ov4\" href=\"/browse/much%20as\">much as</a></span></li><li><span class=\"css-133coio etbu2a32\"><a class=\"css-1uelkud etbu2a31\" data-linkid=\"nn1ov4\" href=\"/browse/whereas\">whereas</a></span></li><li><span class=\"css-133coio etbu2a32\"><a class=\"css-1uelkud etbu2a31\" data-linkid=\"nn1ov4\" href=\"/browse/while\">while</a></span></li></ul></section></div></div></section><section></section><section></section><div class=\"css-qwq3ka e1nz5my50\">Roget's 21st Century Thesaurus, Third Edition Copyright © 2013 by the\n",
       "          Philip Lief Group.</div></section><aside class=\"css-jj611e evk9ulx0\"><aside class=\"css-1xdhyk6 em66cyi0\"><aside class=\"css-1yw3csq em66cyi1\"><aside class=\"css-fmek98 e1wyd5nb0\" id=\"thesaurus_serp_atf_300x250\"><script>if (window.googletag) {googletag.cmd.push(function() { googletag.display('thesaurus_serp_atf_300x250'); });} else {console.error('googletag not defined, thesaurus_serp_atf_300x250');}</script></aside></aside></aside><section class=\"editorials-container css-1nm0qi8 ek69tv50\"><aside class=\"css-829tqn-EditorialComponent e1bbcgok0\"><div class=\"css-m78s4-EditorialTitle e1bbcgok2\"><a class=\"css-3o7mmi-EditorialTitleLink e1bbcgok3\" data-linkid=\"2azoy5\" href=\"https://www.dictionary.com/e/\">OTHERS ARE READING</a></div><ul class=\"css-7j5dir-EditorialCardContainer e1bbcgok1\"><li class=\"css-2lj3gn-Card e1ifcv6o0\"><a class=\"css-10pymq-CardItemLink e1ifcv6o2\" data-linkid=\"b00rn2\" href=\"https://www.dictionary.com/e/s/zodiac-emoji/\" id=\"editorialContent0\"><div class=\"css-11ffqd7-CardItem e1ifcv6o1\"><img alt=\"What’s Your Sign? The 12 Emoji Of The Zodiac\" class=\"css-1s10bac-CardItemImage e1ifcv6o4\" data-linkid=\"b00rn2\" src=\"https://www.dictionary.com/e/wp-content/uploads/2019/07/1000x700-zodiac-emoji-1-150x150.jpg\"/><p class=\"css-tgxsze-CardItemTitle e1ifcv6o3\" data-linkid=\"b00rn2\">What’s Your Sign? The 12 Emoji Of The Zodiac</p></div></a></li><li class=\"css-2lj3gn-Card e1ifcv6o0\"><a class=\"css-10pymq-CardItemLink e1ifcv6o2\" data-linkid=\"ytn3fh\" href=\"https://www.dictionary.com/e/words-from-second-democratic-debate-2019/\" id=\"editorialContent1\"><div class=\"css-11ffqd7-CardItem e1ifcv6o1\"><img alt=\"Malpractice, Malarkey, And Other Words From The Second Democratic Debate\" class=\"css-1s10bac-CardItemImage e1ifcv6o4\" data-linkid=\"ytn3fh\" src=\"https://www.dictionary.com/e/wp-content/uploads/2019/07/1000x700-demdebate-150x150.jpg\"/><p class=\"css-tgxsze-CardItemTitle e1ifcv6o3\" data-linkid=\"ytn3fh\">Malpractice, Malarkey, And Other Words From The Second Democratic Debate</p></div></a></li></ul></aside></section><aside class=\"css-1xdhyk6 em66cyi0\"><aside class=\"css-3g48ci em66cyi1\"><aside class=\"css-yjy7kb erjrm7p0\"><div id=\"thesaurus_serp_btf_300x252\"></div></aside></aside></aside><div class=\"css-vtn2l4 evk9ulx1\" data-linkid=\"rpilnc\"><a class=\"wotd-container css-110ybod-WotdContainer e1reors10\" href=\"https://www.dictionary.com/e/word-of-the-day/\"><div class=\"wotd-content-block css-1hf127b-WotdBorderedCircle e1reors11\"><p class=\"css-12droi1-WotdTitle e1reors12\">WORD OF THE DAY</p><span class=\"wotd-word css-klr4kg-WotdWord e1reors13\">manqué</span><span class=\"wotd-details css-1tw7usw-WotdDetails e1reors14\"><span class=\"css-68nz7a-BlockSpan e1reors15\"><em><span class=\"luna-pos\">adjective</span></em></span><span class=\"css-1of61ad-BlockSpan-Pipe e1reors16\"> | </span><span class=\"css-kznuui-BlockSpan-Pronunciation e1reors17\">[mahng-<span class=\"bold\">key</span>]</span><span class=\"audio-wrapper\"><span class=\"wotd-audio-btn prevent-click-tracking css-73moer-AudioButton e1reors18\" data-ci-target=\"audio\"></span><audio class=\"wotd-audio\"><source src=\"https://static.sfdict.com/audio/M01/M0119800.mp3\"/></audio></span></span><span class=\"css-lj4v6t-SeeMoreLink e1reors19\">SEE DEFINITION</span></div></a></div><section class=\"editorials-container css-1nm0qi8 ek69tv50\"><aside class=\"css-829tqn-EditorialComponent e1bbcgok0\"><ul class=\"css-7j5dir-EditorialCardContainer e1bbcgok1\"><li class=\"css-2lj3gn-Card e1ifcv6o0\"><a class=\"css-10pymq-CardItemLink e1ifcv6o2\" data-linkid=\"gdjn7o\" href=\"https://www.dictionary.com/e/empathy-vs-sympathy/\" id=\"editorialContent0\"><div class=\"css-11ffqd7-CardItem e1ifcv6o1\"><img alt=\"Empathy vs. Sympathy: Which Word To Use And When\" class=\"css-1s10bac-CardItemImage e1ifcv6o4\" data-linkid=\"gdjn7o\" src=\"https://www.dictionary.com/e/wp-content/uploads/2016/02/1000x700-empathy-vs-sympathy-150x150.jpg\"/><p class=\"css-tgxsze-CardItemTitle e1ifcv6o3\" data-linkid=\"gdjn7o\">Empathy vs. Sympathy: Which Word To Use And When</p></div></a></li><li class=\"css-2lj3gn-Card e1ifcv6o0\"><a class=\"css-10pymq-CardItemLink e1ifcv6o2\" data-linkid=\"mxi818\" href=\"https://www.dictionary.com/e/s/dictionary-coms-top-10-emoji-hidden-meanings/\" id=\"editorialContent1\"><div class=\"css-11ffqd7-CardItem e1ifcv6o1\"><img alt=\"Do You Know The Hidden Meanings Of These Popular Emoji?\" class=\"css-1s10bac-CardItemImage e1ifcv6o4\" data-linkid=\"mxi818\" src=\"https://www.dictionary.com/e/wp-content/uploads/2017/08/tittle_titivation_eggplant_1000x700-150x150.jpg\"/><p class=\"css-tgxsze-CardItemTitle e1ifcv6o3\" data-linkid=\"mxi818\">Do You Know The Hidden Meanings Of These Popular Emoji?</p></div></a></li></ul></aside></section></aside></section><div class=\"ad-overflow\"><aside class=\"css-1xdhyk6 em66cyi0\"><aside class=\"css-3g48ci em66cyi1\"><aside class=\"css-118mqyx erjrm7p0\"><div id=\"thesaurus_serp_728x90_p6\"></div></aside></aside></aside></div></main></div></div></div><footer class=\"page-footer css-5fvmx8-StyledFooter esk3ouk0\"><div class=\"css-1xeb4yw-FooterContainer esk3ouk1\"><div class=\"css-19grk89-AZFooterContainer esk3ouk5\"><ul class=\"footer-az-list css-1owogex-ListContainter emmj7sa0\"><li class=\"css-cxsskz-ListTitle emmj7sa1\">Browse the <!-- -->Thesaurus<!-- -->:</li><li class=\"css-n1j42s-ListItem emmj7sa2\"><a class=\"css-fpt4lm-ListItemLink emmj7sa3\" href=\"/list/0/1\" id=\"azFooter0\">#</a></li><li class=\"css-n1j42s-ListItem emmj7sa2\"><a class=\"css-fpt4lm-ListItemLink emmj7sa3\" href=\"/list/a\" id=\"azFooterA\">A</a></li><li class=\"css-n1j42s-ListItem emmj7sa2\"><a class=\"css-fpt4lm-ListItemLink emmj7sa3\" href=\"/list/b\" id=\"azFooterB\">B</a></li><li class=\"css-n1j42s-ListItem emmj7sa2\"><a class=\"css-fpt4lm-ListItemLink emmj7sa3\" href=\"/list/c\" id=\"azFooterC\">C</a></li><li class=\"css-n1j42s-ListItem emmj7sa2\"><a class=\"css-fpt4lm-ListItemLink emmj7sa3\" href=\"/list/d\" id=\"azFooterD\">D</a></li><li class=\"css-n1j42s-ListItem emmj7sa2\"><a class=\"css-fpt4lm-ListItemLink emmj7sa3\" href=\"/list/e\" id=\"azFooterE\">E</a></li><li class=\"css-n1j42s-ListItem emmj7sa2\"><a class=\"css-fpt4lm-ListItemLink emmj7sa3\" href=\"/list/f\" id=\"azFooterF\">F</a></li><li class=\"css-n1j42s-ListItem emmj7sa2\"><a class=\"css-fpt4lm-ListItemLink emmj7sa3\" href=\"/list/g\" id=\"azFooterG\">G</a></li><li class=\"css-n1j42s-ListItem emmj7sa2\"><a class=\"css-fpt4lm-ListItemLink emmj7sa3\" href=\"/list/h\" id=\"azFooterH\">H</a></li><li class=\"css-n1j42s-ListItem emmj7sa2\"><a class=\"css-fpt4lm-ListItemLink emmj7sa3\" href=\"/list/i\" id=\"azFooterI\">I</a></li><li class=\"css-n1j42s-ListItem emmj7sa2\"><a class=\"css-fpt4lm-ListItemLink emmj7sa3\" href=\"/list/j\" id=\"azFooterJ\">J</a></li><li class=\"css-n1j42s-ListItem emmj7sa2\"><a class=\"css-fpt4lm-ListItemLink emmj7sa3\" href=\"/list/k\" id=\"azFooterK\">K</a></li><li class=\"css-n1j42s-ListItem emmj7sa2\"><a class=\"css-fpt4lm-ListItemLink emmj7sa3\" href=\"/list/l\" id=\"azFooterL\">L</a></li><li class=\"css-n1j42s-ListItem emmj7sa2\"><a class=\"css-fpt4lm-ListItemLink emmj7sa3\" href=\"/list/m\" id=\"azFooterM\">M</a></li><li class=\"css-n1j42s-ListItem emmj7sa2\"><a class=\"css-fpt4lm-ListItemLink emmj7sa3\" href=\"/list/n\" id=\"azFooterN\">N</a></li><li class=\"css-n1j42s-ListItem emmj7sa2\"><a class=\"css-fpt4lm-ListItemLink emmj7sa3\" href=\"/list/o\" id=\"azFooterO\">O</a></li><li class=\"css-n1j42s-ListItem emmj7sa2\"><a class=\"css-fpt4lm-ListItemLink emmj7sa3\" href=\"/list/p\" id=\"azFooterP\">P</a></li><li class=\"css-n1j42s-ListItem emmj7sa2\"><a class=\"css-fpt4lm-ListItemLink emmj7sa3\" href=\"/list/q\" id=\"azFooterQ\">Q</a></li><li class=\"css-n1j42s-ListItem emmj7sa2\"><a class=\"css-fpt4lm-ListItemLink emmj7sa3\" href=\"/list/r\" id=\"azFooterR\">R</a></li><li class=\"css-n1j42s-ListItem emmj7sa2\"><a class=\"css-fpt4lm-ListItemLink emmj7sa3\" href=\"/list/s\" id=\"azFooterS\">S</a></li><li class=\"css-n1j42s-ListItem emmj7sa2\"><a class=\"css-fpt4lm-ListItemLink emmj7sa3\" href=\"/list/t\" id=\"azFooterT\">T</a></li><li class=\"css-n1j42s-ListItem emmj7sa2\"><a class=\"css-fpt4lm-ListItemLink emmj7sa3\" href=\"/list/u\" id=\"azFooterU\">U</a></li><li class=\"css-n1j42s-ListItem emmj7sa2\"><a class=\"css-fpt4lm-ListItemLink emmj7sa3\" href=\"/list/v\" id=\"azFooterV\">V</a></li><li class=\"css-n1j42s-ListItem emmj7sa2\"><a class=\"css-fpt4lm-ListItemLink emmj7sa3\" href=\"/list/w\" id=\"azFooterW\">W</a></li><li class=\"css-n1j42s-ListItem emmj7sa2\"><a class=\"css-fpt4lm-ListItemLink emmj7sa3\" href=\"/list/x\" id=\"azFooterX\">X</a></li><li class=\"css-n1j42s-ListItem emmj7sa2\"><a class=\"css-fpt4lm-ListItemLink emmj7sa3\" href=\"/list/y\" id=\"azFooterY\">Y</a></li><li class=\"css-n1j42s-ListItem emmj7sa2\"><a class=\"css-fpt4lm-ListItemLink emmj7sa3\" href=\"/list/z\" id=\"azFooterZ\">Z</a></li></ul><ul class=\"footer-category-list css-1owogex-ListContainter emmj7sa0\"><li class=\"css-cxsskz-ListTitle emmj7sa1\">Browse by Category:</li><li class=\"css-f063v9-ListItem emmj7sa2\"><a class=\"css-fpt4lm-ListItemLink emmj7sa3\" href=\"https://www.dictionary.com/e/list/slang/\" id=\"atwFooterSlang\">Slang</a></li><li class=\"css-f063v9-ListItem emmj7sa2\"><a class=\"css-fpt4lm-ListItemLink emmj7sa3\" href=\"https://www.dictionary.com/e/list/emoji/\" id=\"atwFooterEmoji\">Emoji</a></li><li class=\"css-f063v9-ListItem emmj7sa2\"><a class=\"css-fpt4lm-ListItemLink emmj7sa3\" href=\"https://www.dictionary.com/e/list/acronyms/\" id=\"atwFooterAcronyms\">Acronyms</a></li><li class=\"css-f063v9-ListItem emmj7sa2\"><a class=\"css-fpt4lm-ListItemLink emmj7sa3\" href=\"https://www.dictionary.com/e/list/pop-culture/\" id=\"atwFooterPopCulture\">Pop Culture</a></li><li class=\"css-f063v9-ListItem emmj7sa2\"><a class=\"css-fpt4lm-ListItemLink emmj7sa3\" href=\"https://www.dictionary.com/e/list/word-facts/\" id=\"atwFooterMore\">More</a></li></ul></div><ul class=\"footer-about-list css-197if4n-FooterNavigation esk3ouk2\"><li class=\"css-184f2y4-FooterNavigationElement esk3ouk3\"><a class=\"css-ehlzpo-FooterLink esk3ouk4\" data-linkid=\"gy27eg\" href=\"https://www.dictionary.com/e/about/\" id=\"about-click\">About</a></li><li class=\"css-184f2y4-FooterNavigationElement esk3ouk3\"><a class=\"css-ehlzpo-FooterLink esk3ouk4\" data-linkid=\"\" href=\"https://www.dictionary.com/e/careers/\" id=\"careers-click\">Careers</a></li><li class=\"css-184f2y4-FooterNavigationElement esk3ouk3\"><a class=\"css-ehlzpo-FooterLink esk3ouk4\" data-linkid=\"\" href=\"https://www.dictionary.com/e/contact/\" id=\"contactUs-click\">Contact Us</a></li><li class=\"css-184f2y4-FooterNavigationElement esk3ouk3\"><a class=\"css-ehlzpo-FooterLink esk3ouk4\" data-linkid=\"gy27eg\" href=\"https://www.dictionary.com/e/terms/\" id=\"termAndPrivacy-click\">Cookies, Terms, &amp; Privacy</a></li></ul><div>© 2019 Dictionary.com, LLC</div></div></footer><div></div></div></div></div></div>\n",
       "<script>window.ANALYTICS = {\"siteName\":\"thes\",\"trackURL\":\"https:\\u002F\\u002Ftrack.thesaurus.com\\u002Fmain.gif\",\"dictionarySpanIdUrl\":\"https:\\u002F\\u002Fspanids.dictionary.com\\u002F\",\"pageName\":\"the\",\"ab\":\"0\",\"platform\":\"Desktop\"};</script>\n",
       "<script>window.ENV_VARS = {\"dev\":false,\"test\":false,\"prod\":true,\"TRACKING_URL\":\"https:\\u002F\\u002Ftrack.thesaurus.com\\u002Fmain.gif\",\"TCOM_URL\":\"www.thesaurus.com\",\"DCOM_URL\":\"www.dictionary.com\",\"DICTIONARY_SPANID_URL\":\"https:\\u002F\\u002Fspanids.dictionary.com\\u002F\",\"SERVER_CONTENT_TIMEOUT_DESKTOP\":0,\"CLIENT_CONTENT_TIMEOUT_DESKTOP\":0,\"SERVER_CONTENT_TIMEOUT_MOBILE\":1000,\"CLIENT_CONTENT_TIMEOUT_MOBILE\":1000,\"CLIENT_TRANSITION_MASK_DESKTOP\":false,\"CLIENT_TRANSITION_MASK_MOBILE\":true,\"EDITOR_EXPERIMENT_PERCENTAGE\":\"5\",\"REFRESH_ADS_ON_POS_TAB_CLICK\":\"true\",\"PROTOCOL\":\"https\",\"UPGRADE_INSECURE_REQUESTS\":true,\"ALTERNATE_PAGINATION_TERMS\":[],\"LDID\":\"0\",\"TEST_AD_TYPE_TOGGLE\":false,\"TUNA_API_ENDPOINT\":\"https:\\u002F\\u002Ftuna.thesaurus.com\",\"SPELL_SUGGESTIONS_API_ENDPOINT\":\"https:\\u002F\\u002Fapi-portal.dictionary.com\\u002FspellSuggestions\",\"EDITORIAL_API_ENDPOINT\":\"https:\\u002F\\u002Feditorial-content-feed.dictionary.com\\u002Ftcomserp\",\"WOTD_API_ENDPOINT\":\"https:\\u002F\\u002Frestcdn.dictionary.com\\u002Fv2\\u002Fwordoftheday.json\",\"PUBLIC_ASSETS_URL\":\"https:\\u002F\\u002Fwww.thesaurus.com\\u002Fassets\",\"PARSELY_EXPLORE_API_ENDPOINT\":\"https:\\u002F\\u002Fwww.dictionary.com\\u002Feditorial-feed\\u002Fv1\\u002Fparsely\\u002Fexplore\",\"ONETRUST_URL\":\"https:\\u002F\\u002Fcdn.cookielaw.org\\u002Fconsent\\u002F9b29a490-7bee-4b66-9eeb-ee3284ab07db.js\",\"SERVER_LOGGING_LEVEL\":\"error\",\"CLIENT_LOGGING_LEVEL\":\"error\",\"API_REQUEST_LOGGING_LEVEL\":\"info\",\"ALLOW_DISABLED_ADS\":\"false\",\"RTF_FEATURE_ENABLED\":\"true\",\"MUP_FEATURE_ENABLED\":\"true\",\"ONETRUST_FEATURE_ENABLED\":\"true\",\"FIRST_PRICE_BIDDING\":\"false\",\"ADBLOCKER_MESSAGING_ENABLED\":\"true\",\"MUP_FPB_API_ENDPOINT\":\"https:\\u002F\\u002Firene.thesaurus.com\\u002Fmup-fpb\\u002Fv1\"};</script>\n",
       "<script>window.INITIAL_STATE = {\"routerReducer\":{\"location\":null},\"searchData\":{\"isFetchingTunaApi\":false,\"isFetchingSpellSuggestion\":false,\"isFetchingRelatedWordsApi\":false,\"searchTerm\":\"just%20as\",\"tunaApiData\":{\"entry\":\"just as\",\"type\":\"as-in\",\"slugLuna\":\"just-as\",\"slug\":\"just%20as\",\"pronunciation\":null,\"posTabs\":[{\"isInformal\":null,\"isVulgar\":\"0\",\"definition\":\"while, when\",\"pos\":\"conj.\",\"synonyms\":[{\"similarity\":\"10\",\"isInformal\":\"0\",\"isVulgar\":null,\"term\":\"at the time that\",\"targetTerm\":\"at the time that\",\"targetSlug\":\"at%20the%20time%20that\"},{\"similarity\":\"10\",\"isInformal\":\"0\",\"isVulgar\":null,\"term\":\"during the time that\",\"targetTerm\":\"during the time that\",\"targetSlug\":\"during%20the%20time%20that\"},{\"similarity\":\"10\",\"isInformal\":\"0\",\"isVulgar\":null,\"term\":\"in the act of\",\"targetTerm\":\"in the act of\",\"targetSlug\":\"in%20the%20act%20of\"},{\"similarity\":\"10\",\"isInformal\":\"0\",\"isVulgar\":null,\"term\":\"in the process of\",\"targetTerm\":\"in the process of\",\"targetSlug\":\"in%20the%20process%20of\"},{\"similarity\":\"10\",\"isInformal\":\"0\",\"isVulgar\":null,\"term\":\"on the point of\",\"targetTerm\":\"on the point of\",\"targetSlug\":\"on%20the%20point%20of\"}],\"antonyms\":[],\"targetId\":\"1191\",\"targetTerm\":\"as\"},{\"isInformal\":null,\"isVulgar\":\"0\",\"definition\":\"in the way that; to a degree\",\"pos\":\"conj.\",\"synonyms\":[{\"similarity\":\"50\",\"isInformal\":\"0\",\"isVulgar\":null,\"term\":\"being\",\"targetTerm\":\"being\",\"targetSlug\":\"being\"},{\"similarity\":\"50\",\"isInformal\":\"0\",\"isVulgar\":null,\"term\":\"equally\",\"targetTerm\":\"equally\",\"targetSlug\":\"equally\"},{\"similarity\":\"50\",\"isInformal\":\"0\",\"isVulgar\":null,\"term\":\"like\",\"targetTerm\":\"like\",\"targetSlug\":\"like\"},{\"similarity\":\"10\",\"isInformal\":\"0\",\"isVulgar\":null,\"term\":\"comparatively\",\"targetTerm\":\"comparatively\",\"targetSlug\":\"comparatively\"},{\"similarity\":\"10\",\"isInformal\":\"0\",\"isVulgar\":null,\"term\":\"essentially\",\"targetTerm\":\"essentially\",\"targetSlug\":\"essentially\"},{\"similarity\":\"10\",\"isInformal\":\"0\",\"isVulgar\":null,\"term\":\"similarly\",\"targetTerm\":\"similarly\",\"targetSlug\":\"similarly\"},{\"similarity\":\"10\",\"isInformal\":\"0\",\"isVulgar\":null,\"term\":\"acting as\",\"targetTerm\":\"acting as\",\"targetSlug\":\"acting%20as\"},{\"similarity\":\"10\",\"isInformal\":\"0\",\"isVulgar\":null,\"term\":\"by its nature\",\"targetTerm\":\"by its nature\",\"targetSlug\":\"by%20its%20nature\"},{\"similarity\":\"10\",\"isInformal\":\"0\",\"isVulgar\":null,\"term\":\"for instance\",\"targetTerm\":\"for instance\",\"targetSlug\":\"for%20instance\"},{\"similarity\":\"10\",\"isInformal\":\"0\",\"isVulgar\":null,\"term\":\"functioning as\",\"targetTerm\":\"functioning as\",\"targetSlug\":\"functioning%20as\"},{\"similarity\":\"10\",\"isInformal\":\"0\",\"isVulgar\":null,\"term\":\"in the manner that\",\"targetTerm\":\"in the manner that\",\"targetSlug\":\"in%20the%20manner%20that\"},{\"similarity\":\"10\",\"isInformal\":\"0\",\"isVulgar\":null,\"term\":\"in the same manner with\",\"targetTerm\":\"in the same manner with\",\"targetSlug\":\"in%20the%20same%20manner%20with\"},{\"similarity\":\"10\",\"isInformal\":\"0\",\"isVulgar\":null,\"term\":\"just for\",\"targetTerm\":\"just for\",\"targetSlug\":\"just%20for\"},{\"similarity\":\"10\",\"isInformal\":\"0\",\"isVulgar\":null,\"term\":\"serving as\",\"targetTerm\":\"serving as\",\"targetSlug\":\"serving%20as\"},{\"similarity\":\"10\",\"isInformal\":\"0\",\"isVulgar\":null,\"term\":\"such as\",\"targetTerm\":\"such as\",\"targetSlug\":\"such%20as\"}],\"antonyms\":[],\"targetId\":\"1192\",\"targetTerm\":\"as\"},{\"isInformal\":null,\"isVulgar\":\"0\",\"definition\":\"though\",\"pos\":\"conj.\",\"synonyms\":[{\"similarity\":\"10\",\"isInformal\":\"0\",\"isVulgar\":null,\"term\":\"albeit\",\"targetTerm\":\"albeit\",\"targetSlug\":\"albeit\"},{\"similarity\":\"10\",\"isInformal\":\"0\",\"isVulgar\":null,\"term\":\"although\",\"targetTerm\":\"although\",\"targetSlug\":\"although\"},{\"similarity\":\"10\",\"isInformal\":\"0\",\"isVulgar\":null,\"term\":\"at\",\"targetTerm\":\"at\",\"targetSlug\":\"at\"},{\"similarity\":\"10\",\"isInformal\":\"0\",\"isVulgar\":null,\"term\":\"during\",\"targetTerm\":\"during\",\"targetSlug\":\"during\"},{\"similarity\":\"10\",\"isInformal\":\"0\",\"isVulgar\":null,\"term\":\"meanwhile\",\"targetTerm\":\"meanwhile\",\"targetSlug\":\"meanwhile\"},{\"similarity\":\"10\",\"isInformal\":\"0\",\"isVulgar\":null,\"term\":\"whereas\",\"targetTerm\":\"whereas\",\"targetSlug\":\"whereas\"},{\"similarity\":\"10\",\"isInformal\":\"0\",\"isVulgar\":null,\"term\":\"while\",\"targetTerm\":\"while\",\"targetSlug\":\"while\"},{\"similarity\":\"10\",\"isInformal\":\"0\",\"isVulgar\":null,\"term\":\"at the same time\",\"targetTerm\":\"at the same time\",\"targetSlug\":\"at%20the%20same%20time\"},{\"similarity\":\"10\",\"isInformal\":\"0\",\"isVulgar\":null,\"term\":\"howbeit\",\"targetTerm\":\"howbeit\",\"targetSlug\":\"howbeit\"},{\"similarity\":\"10\",\"isInformal\":\"0\",\"isVulgar\":null,\"term\":\"immediately upon\",\"targetTerm\":\"immediately upon\",\"targetSlug\":\"immediately%20upon\"},{\"similarity\":\"10\",\"isInformal\":\"0\",\"isVulgar\":null,\"term\":\"just after\",\"targetTerm\":\"just after\",\"targetSlug\":\"just%20after\"},{\"similarity\":\"10\",\"isInformal\":\"0\",\"isVulgar\":null,\"term\":\"much as\",\"targetTerm\":\"much as\",\"targetSlug\":\"much%20as\"}],\"antonyms\":[],\"targetId\":\"19814\",\"targetTerm\":\"when\"},{\"isInformal\":null,\"isVulgar\":\"0\",\"definition\":\"as though\",\"pos\":\"conj.\",\"synonyms\":[{\"similarity\":\"10\",\"isInformal\":\"0\",\"isVulgar\":null,\"term\":\"as it were\",\"targetTerm\":\"as it were\",\"targetSlug\":\"as%20it%20were\"},{\"similarity\":\"10\",\"isInformal\":\"0\",\"isVulgar\":null,\"term\":\"as it would be\",\"targetTerm\":\"as it would be\",\"targetSlug\":\"as%20it%20would%20be\"},{\"similarity\":\"10\",\"isInformal\":\"0\",\"isVulgar\":null,\"term\":\"as might be\",\"targetTerm\":\"as might be\",\"targetSlug\":\"as%20might%20be\"},{\"similarity\":\"10\",\"isInformal\":\"0\",\"isVulgar\":null,\"term\":\"in such a way that\",\"targetTerm\":\"in such a way that\",\"targetSlug\":\"in%20such%20a%20way%20that\"},{\"similarity\":\"10\",\"isInformal\":\"0\",\"isVulgar\":null,\"term\":\"just as if\",\"targetTerm\":\"just as if\",\"targetSlug\":\"just%20as%20if\"},{\"similarity\":\"10\",\"isInformal\":\"0\",\"isVulgar\":null,\"term\":\"just as though\",\"targetTerm\":\"just as though\",\"targetSlug\":\"just%20as%20though\"},{\"similarity\":\"10\",\"isInformal\":\"0\",\"isVulgar\":null,\"term\":\"so to speak\",\"targetTerm\":\"so to speak\",\"targetSlug\":\"so%20to%20speak\"}],\"antonyms\":[],\"targetId\":\"20257\",\"targetTerm\":\"as if\"},{\"isInformal\":null,\"isVulgar\":\"0\",\"definition\":\"as if\",\"pos\":\"conj.\",\"synonyms\":[{\"similarity\":\"10\",\"isInformal\":\"0\",\"isVulgar\":null,\"term\":\"as it were\",\"targetTerm\":\"as it were\",\"targetSlug\":\"as%20it%20were\"},{\"similarity\":\"10\",\"isInformal\":\"0\",\"isVulgar\":null,\"term\":\"as it would be\",\"targetTerm\":\"as it would be\",\"targetSlug\":\"as%20it%20would%20be\"},{\"similarity\":\"10\",\"isInformal\":\"0\",\"isVulgar\":null,\"term\":\"as might be\",\"targetTerm\":\"as might be\",\"targetSlug\":\"as%20might%20be\"},{\"similarity\":\"10\",\"isInformal\":\"0\",\"isVulgar\":null,\"term\":\"in such a way that\",\"targetTerm\":\"in such a way that\",\"targetSlug\":\"in%20such%20a%20way%20that\"},{\"similarity\":\"10\",\"isInformal\":\"0\",\"isVulgar\":null,\"term\":\"just as if\",\"targetTerm\":\"just as if\",\"targetSlug\":\"just%20as%20if\"},{\"similarity\":\"10\",\"isInformal\":\"0\",\"isVulgar\":null,\"term\":\"just as though\",\"targetTerm\":\"just as though\",\"targetSlug\":\"just%20as%20though\"},{\"similarity\":\"10\",\"isInformal\":\"0\",\"isVulgar\":null,\"term\":\"so to speak\",\"targetTerm\":\"so to speak\",\"targetSlug\":\"so%20to%20speak\"}],\"antonyms\":[],\"targetId\":\"20264\",\"targetTerm\":\"as though\"},{\"isInformal\":null,\"isVulgar\":\"0\",\"definition\":\"in accordance with\",\"pos\":\"prep.\",\"synonyms\":[{\"similarity\":\"10\",\"isInformal\":\"0\",\"isVulgar\":null,\"term\":\"as reported by\",\"targetTerm\":\"as reported by\",\"targetSlug\":\"as%20reported%20by\"},{\"similarity\":\"10\",\"isInformal\":\"0\",\"isVulgar\":null,\"term\":\"as stated in\",\"targetTerm\":\"as stated in\",\"targetSlug\":\"as%20stated%20in\"},{\"similarity\":\"10\",\"isInformal\":\"0\",\"isVulgar\":null,\"term\":\"conforming to\",\"targetTerm\":\"conforming to\",\"targetSlug\":\"conforming%20to\"},{\"similarity\":\"10\",\"isInformal\":\"0\",\"isVulgar\":null,\"term\":\"in agreement with\",\"targetTerm\":\"in agreement with\",\"targetSlug\":\"in%20agreement%20with\"},{\"similarity\":\"10\",\"isInformal\":\"0\",\"isVulgar\":null,\"term\":\"in consonance with\",\"targetTerm\":\"in consonance with\",\"targetSlug\":\"in%20consonance%20with\"},{\"similarity\":\"10\",\"isInformal\":\"0\",\"isVulgar\":null,\"term\":\"in keeping with\",\"targetTerm\":\"in keeping with\",\"targetSlug\":\"in%20keeping%20with\"},{\"similarity\":\"10\",\"isInformal\":\"0\",\"isVulgar\":null,\"term\":\"in line with\",\"targetTerm\":\"in line with\",\"targetSlug\":\"in%20line%20with\"},{\"similarity\":\"10\",\"isInformal\":\"0\",\"isVulgar\":null,\"term\":\"pursuant to\",\"targetTerm\":\"pursuant to\",\"targetSlug\":\"pursuant%20to\"},{\"similarity\":\"10\",\"isInformal\":\"0\",\"isVulgar\":null,\"term\":\"to the degree that\",\"targetTerm\":\"to the degree that\",\"targetSlug\":\"to%20the%20degree%20that\"}],\"antonyms\":[],\"targetId\":\"20152\",\"targetTerm\":\"according to\"}],\"synonyms\":[],\"antonyms\":[],\"etymology\":[],\"exampleSentences\":[]},\"relatedWordsApiData\":{\"data\":[{\"_id\":\"5c9e5e802e7841c8bd7ad1ed\",\"entry\":\"just as\",\"targetTerm\":\"according to\",\"targetSlug\":\"according%20to\",\"pos\":\"preposition\",\"definition\":\"in accordance with\",\"synonyms\":[{\"similarity\":\"10\",\"isInformal\":\"0\",\"isVulgar\":null,\"term\":\"as reported by\",\"targetTerm\":\"as reported by\",\"targetSlug\":\"as%20reported%20by\"},{\"similarity\":\"10\",\"isInformal\":\"0\",\"isVulgar\":null,\"term\":\"as stated in\",\"targetTerm\":\"as stated in\",\"targetSlug\":\"as%20stated%20in\"},{\"similarity\":\"10\",\"isInformal\":\"0\",\"isVulgar\":null,\"term\":\"conforming to\",\"targetTerm\":\"conforming to\",\"targetSlug\":\"conforming%20to\"},{\"similarity\":\"10\",\"isInformal\":\"0\",\"isVulgar\":null,\"term\":\"in agreement with\",\"targetTerm\":\"in agreement with\",\"targetSlug\":\"in%20agreement%20with\"},{\"similarity\":\"10\",\"isInformal\":\"0\",\"isVulgar\":null,\"term\":\"in consonance with\",\"targetTerm\":\"in consonance with\",\"targetSlug\":\"in%20consonance%20with\"},{\"similarity\":\"10\",\"isInformal\":\"0\",\"isVulgar\":null,\"term\":\"in keeping with\",\"targetTerm\":\"in keeping with\",\"targetSlug\":\"in%20keeping%20with\"},{\"similarity\":\"10\",\"isInformal\":\"0\",\"isVulgar\":null,\"term\":\"in line with\",\"targetTerm\":\"in line with\",\"targetSlug\":\"in%20line%20with\"},{\"similarity\":\"10\",\"isInformal\":\"0\",\"isVulgar\":null,\"term\":\"just as\",\"targetTerm\":\"just as\",\"targetSlug\":\"just%20as\"},{\"similarity\":\"10\",\"isInformal\":\"0\",\"isVulgar\":null,\"term\":\"pursuant to\",\"targetTerm\":\"pursuant to\",\"targetSlug\":\"pursuant%20to\"},{\"similarity\":\"10\",\"isInformal\":\"0\",\"isVulgar\":null,\"term\":\"to the degree that\",\"targetTerm\":\"to the degree that\",\"targetSlug\":\"to%20the%20degree%20that\"}],\"antonyms\":[]},{\"_id\":\"5c9e5e802e7841c8bd7ad1ef\",\"entry\":\"just as\",\"targetTerm\":\"as\",\"targetSlug\":\"as\",\"pos\":\"conjunction\",\"definition\":\"in the way that; to a degree\",\"synonyms\":[{\"similarity\":\"10\",\"isInformal\":\"0\",\"isVulgar\":null,\"term\":\"acting as\",\"targetTerm\":\"acting as\",\"targetSlug\":\"acting%20as\"},{\"similarity\":\"50\",\"isInformal\":\"0\",\"isVulgar\":null,\"term\":\"being\",\"targetTerm\":\"being\",\"targetSlug\":\"being\"},{\"similarity\":\"10\",\"isInformal\":\"0\",\"isVulgar\":null,\"term\":\"by its nature\",\"targetTerm\":\"by its nature\",\"targetSlug\":\"by%20its%20nature\"},{\"similarity\":\"10\",\"isInformal\":\"0\",\"isVulgar\":null,\"term\":\"comparatively\",\"targetTerm\":\"comparatively\",\"targetSlug\":\"comparatively\"},{\"similarity\":\"50\",\"isInformal\":\"0\",\"isVulgar\":null,\"term\":\"equally\",\"targetTerm\":\"equally\",\"targetSlug\":\"equally\"},{\"similarity\":\"10\",\"isInformal\":\"0\",\"isVulgar\":null,\"term\":\"essentially\",\"targetTerm\":\"essentially\",\"targetSlug\":\"essentially\"},{\"similarity\":\"10\",\"isInformal\":\"0\",\"isVulgar\":null,\"term\":\"for instance\",\"targetTerm\":\"for instance\",\"targetSlug\":\"for%20instance\"},{\"similarity\":\"10\",\"isInformal\":\"0\",\"isVulgar\":null,\"term\":\"functioning as\",\"targetTerm\":\"functioning as\",\"targetSlug\":\"functioning%20as\"},{\"similarity\":\"10\",\"isInformal\":\"0\",\"isVulgar\":null,\"term\":\"in the manner that\",\"targetTerm\":\"in the manner that\",\"targetSlug\":\"in%20the%20manner%20that\"},{\"similarity\":\"10\",\"isInformal\":\"0\",\"isVulgar\":null,\"term\":\"in the same manner with\",\"targetTerm\":\"in the same manner with\",\"targetSlug\":\"in%20the%20same%20manner%20with\"},{\"similarity\":\"10\",\"isInformal\":\"0\",\"isVulgar\":null,\"term\":\"just as\",\"targetTerm\":\"just as\",\"targetSlug\":\"just%20as\"},{\"similarity\":\"10\",\"isInformal\":\"0\",\"isVulgar\":null,\"term\":\"just for\",\"targetTerm\":\"just for\",\"targetSlug\":\"just%20for\"},{\"similarity\":\"50\",\"isInformal\":\"0\",\"isVulgar\":null,\"term\":\"like\",\"targetTerm\":\"like\",\"targetSlug\":\"like\"},{\"similarity\":\"10\",\"isInformal\":\"0\",\"isVulgar\":null,\"term\":\"serving as\",\"targetTerm\":\"serving as\",\"targetSlug\":\"serving%20as\"},{\"similarity\":\"10\",\"isInformal\":\"0\",\"isVulgar\":null,\"term\":\"similarly\",\"targetTerm\":\"similarly\",\"targetSlug\":\"similarly\"},{\"similarity\":\"10\",\"isInformal\":\"0\",\"isVulgar\":null,\"term\":\"such as\",\"targetTerm\":\"such as\",\"targetSlug\":\"such%20as\"}],\"antonyms\":[]},{\"_id\":\"5c9e5e802e7841c8bd7ad1f2\",\"entry\":\"just as\",\"targetTerm\":\"as if\",\"targetSlug\":\"as%20if\",\"pos\":\"conjunction\",\"definition\":\"as though\",\"synonyms\":[{\"similarity\":\"10\",\"isInformal\":\"0\",\"isVulgar\":null,\"term\":\"as it were\",\"targetTerm\":\"as it were\",\"targetSlug\":\"as%20it%20were\"},{\"similarity\":\"10\",\"isInformal\":\"0\",\"isVulgar\":null,\"term\":\"as it would be\",\"targetTerm\":\"as it would be\",\"targetSlug\":\"as%20it%20would%20be\"},{\"similarity\":\"10\",\"isInformal\":\"0\",\"isVulgar\":null,\"term\":\"as might be\",\"targetTerm\":\"as might be\",\"targetSlug\":\"as%20might%20be\"},{\"similarity\":\"10\",\"isInformal\":\"0\",\"isVulgar\":null,\"term\":\"in such a way that\",\"targetTerm\":\"in such a way that\",\"targetSlug\":\"in%20such%20a%20way%20that\"},{\"similarity\":\"10\",\"isInformal\":\"0\",\"isVulgar\":null,\"term\":\"just as\",\"targetTerm\":\"just as\",\"targetSlug\":\"just%20as\"},{\"similarity\":\"10\",\"isInformal\":\"0\",\"isVulgar\":null,\"term\":\"just as if\",\"targetTerm\":\"just as if\",\"targetSlug\":\"just%20as%20if\"},{\"similarity\":\"10\",\"isInformal\":\"0\",\"isVulgar\":null,\"term\":\"just as though\",\"targetTerm\":\"just as though\",\"targetSlug\":\"just%20as%20though\"},{\"similarity\":\"10\",\"isInformal\":\"0\",\"isVulgar\":null,\"term\":\"so to speak\",\"targetTerm\":\"so to speak\",\"targetSlug\":\"so%20to%20speak\"}],\"antonyms\":[]},{\"_id\":\"5c9e5e802e7841c8bd7ad1f4\",\"entry\":\"just as\",\"targetTerm\":\"as though\",\"targetSlug\":\"as%20though\",\"pos\":\"conjunction\",\"definition\":\"as if\",\"synonyms\":[{\"similarity\":\"10\",\"isInformal\":\"0\",\"isVulgar\":null,\"term\":\"as it were\",\"targetTerm\":\"as it were\",\"targetSlug\":\"as%20it%20were\"},{\"similarity\":\"10\",\"isInformal\":\"0\",\"isVulgar\":null,\"term\":\"as it would be\",\"targetTerm\":\"as it would be\",\"targetSlug\":\"as%20it%20would%20be\"},{\"similarity\":\"10\",\"isInformal\":\"0\",\"isVulgar\":null,\"term\":\"as might be\",\"targetTerm\":\"as might be\",\"targetSlug\":\"as%20might%20be\"},{\"similarity\":\"10\",\"isInformal\":\"0\",\"isVulgar\":null,\"term\":\"in such a way that\",\"targetTerm\":\"in such a way that\",\"targetSlug\":\"in%20such%20a%20way%20that\"},{\"similarity\":\"10\",\"isInformal\":\"0\",\"isVulgar\":null,\"term\":\"just as\",\"targetTerm\":\"just as\",\"targetSlug\":\"just%20as\"},{\"similarity\":\"10\",\"isInformal\":\"0\",\"isVulgar\":null,\"term\":\"just as if\",\"targetTerm\":\"just as if\",\"targetSlug\":\"just%20as%20if\"},{\"similarity\":\"10\",\"isInformal\":\"0\",\"isVulgar\":null,\"term\":\"just as though\",\"targetTerm\":\"just as though\",\"targetSlug\":\"just%20as%20though\"},{\"similarity\":\"10\",\"isInformal\":\"0\",\"isVulgar\":null,\"term\":\"so to speak\",\"targetTerm\":\"so to speak\",\"targetSlug\":\"so%20to%20speak\"}],\"antonyms\":[]},{\"_id\":\"5c9e5e802e7841c8bd7ad1eb\",\"entry\":\"just as\",\"targetTerm\":\"when\",\"targetSlug\":\"when\",\"pos\":\"conjunction\",\"definition\":\"though\",\"synonyms\":[{\"similarity\":\"10\",\"isInformal\":\"0\",\"isVulgar\":null,\"term\":\"albeit\",\"targetTerm\":\"albeit\",\"targetSlug\":\"albeit\"},{\"similarity\":\"10\",\"isInformal\":\"0\",\"isVulgar\":null,\"term\":\"although\",\"targetTerm\":\"although\",\"targetSlug\":\"although\"},{\"similarity\":\"10\",\"isInformal\":\"0\",\"isVulgar\":null,\"term\":\"at\",\"targetTerm\":\"at\",\"targetSlug\":\"at\"},{\"similarity\":\"10\",\"isInformal\":\"0\",\"isVulgar\":null,\"term\":\"at the same time\",\"targetTerm\":\"at the same time\",\"targetSlug\":\"at%20the%20same%20time\"},{\"similarity\":\"10\",\"isInformal\":\"0\",\"isVulgar\":null,\"term\":\"during\",\"targetTerm\":\"during\",\"targetSlug\":\"during\"},{\"similarity\":\"10\",\"isInformal\":\"0\",\"isVulgar\":null,\"term\":\"howbeit\",\"targetTerm\":\"howbeit\",\"targetSlug\":\"howbeit\"},{\"similarity\":\"10\",\"isInformal\":\"0\",\"isVulgar\":null,\"term\":\"immediately upon\",\"targetTerm\":\"immediately upon\",\"targetSlug\":\"immediately%20upon\"},{\"similarity\":\"10\",\"isInformal\":\"0\",\"isVulgar\":null,\"term\":\"just after\",\"targetTerm\":\"just after\",\"targetSlug\":\"just%20after\"},{\"similarity\":\"10\",\"isInformal\":\"0\",\"isVulgar\":null,\"term\":\"just as\",\"targetTerm\":\"just as\",\"targetSlug\":\"just%20as\"},{\"similarity\":\"10\",\"isInformal\":\"0\",\"isVulgar\":null,\"term\":\"meanwhile\",\"targetTerm\":\"meanwhile\",\"targetSlug\":\"meanwhile\"},{\"similarity\":\"10\",\"isInformal\":\"0\",\"isVulgar\":null,\"term\":\"much as\",\"targetTerm\":\"much as\",\"targetSlug\":\"much%20as\"},{\"similarity\":\"10\",\"isInformal\":\"0\",\"isVulgar\":null,\"term\":\"whereas\",\"targetTerm\":\"whereas\",\"targetSlug\":\"whereas\"},{\"similarity\":\"10\",\"isInformal\":\"0\",\"isVulgar\":null,\"term\":\"while\",\"targetTerm\":\"while\",\"targetSlug\":\"while\"}],\"antonyms\":[]}],\"meta\":{\"alternatePagination\":false,\"page\":1,\"count\":5}},\"spellSuggestionsData\":[{\"term\":\"just as\",\"targetTerm\":\"just as\",\"targetSlug\":\"just as\"},{\"term\":\"jousts\",\"targetTerm\":\"jousts\",\"targetSlug\":\"jousts\"},{\"term\":\"just so\",\"targetTerm\":\"just so\",\"targetSlug\":\"just so\"},{\"term\":\"gusts\",\"targetTerm\":\"gusts\",\"targetSlug\":\"gusts\"},{\"term\":\"jests\",\"targetTerm\":\"jests\",\"targetSlug\":\"jests\"},{\"term\":\"juntas\",\"targetTerm\":\"juntas\",\"targetSlug\":\"juntas\"},{\"term\":\"joists\",\"targetTerm\":\"joists\",\"targetSlug\":\"joists\"},{\"term\":\"jousters\",\"targetTerm\":\"jousters\",\"targetSlug\":\"jousters\"},{\"term\":\"judas\",\"targetTerm\":\"judas\",\"targetSlug\":\"judas\"},{\"term\":\"guests\",\"targetTerm\":\"guests\",\"targetSlug\":\"guests\"},{\"term\":\"just\",\"targetTerm\":\"just\",\"targetSlug\":\"just\"},{\"term\":\"juts\",\"targetTerm\":\"juts\",\"targetSlug\":\"juts\"},{\"term\":\"quests\",\"targetTerm\":\"quests\",\"targetSlug\":\"quests\"},{\"term\":\"justest\",\"targetTerm\":\"justest\",\"targetSlug\":\"justest\"},{\"term\":\"justles\",\"targetTerm\":\"justles\",\"targetSlug\":\"justles\"},{\"term\":\"jutes\",\"targetTerm\":\"jutes\",\"targetSlug\":\"jutes\"},{\"term\":\"just sos\",\"targetTerm\":\"just sos\",\"targetSlug\":\"just sos\"},{\"term\":\"just as is\",\"targetTerm\":\"just as is\",\"targetSlug\":\"just as is\"},{\"term\":\"just as if\",\"targetTerm\":\"just as if\",\"targetSlug\":\"just as if\"}],\"queryParams\":{},\"url\":\"\\u002Fbrowse\\u002Fjust%20as\",\"pushToHistory\":true,\"fromSearchBar\":false,\"pageTransitionCounter\":1,\"error\":false,\"pageName\":\"browse\"},\"hamburgerMenu\":{\"isHamburgerMenuOpen\":false},\"posTabs\":{\"activeIndex\":0,\"lastActivePOS\":\"conj.\",\"lastPosArray\":[\"conj.\",\"conj.\",\"conj.\",\"conj.\",\"conj.\",\"prep.\"]},\"wordGridFilters\":{\"sortType\":\"SORT_TYPE_RELEVANCE\",\"lengthFilterValue\":1},\"editorialData\":{\"isFetching\":false,\"data\":{\"exploreEditorialData\":[{\"title\":\"What’s Your Sign? The 12 Emoji Of The Zodiac\",\"url\":\"https:\\u002F\\u002Fwww.dictionary.com\\u002Fe\\u002Fs\\u002Fzodiac-emoji\\u002F\",\"image\":\"https:\\u002F\\u002Fwww.dictionary.com\\u002Fe\\u002Fwp-content\\u002Fuploads\\u002F2019\\u002F07\\u002F1000x700-zodiac-emoji-1-150x150.jpg\",\"linkId\":\"b00rn2\"},{\"title\":\"Malpractice, Malarkey, And Other Words From The Second Democratic Debate\",\"url\":\"https:\\u002F\\u002Fwww.dictionary.com\\u002Fe\\u002Fwords-from-second-democratic-debate-2019\\u002F\",\"image\":\"https:\\u002F\\u002Fwww.dictionary.com\\u002Fe\\u002Fwp-content\\u002Fuploads\\u002F2019\\u002F07\\u002F1000x700-demdebate-150x150.jpg\",\"linkId\":\"ytn3fh\"},{\"title\":\"Empathy vs. Sympathy: Which Word To Use And When\",\"url\":\"https:\\u002F\\u002Fwww.dictionary.com\\u002Fe\\u002Fempathy-vs-sympathy\\u002F\",\"image\":\"https:\\u002F\\u002Fwww.dictionary.com\\u002Fe\\u002Fwp-content\\u002Fuploads\\u002F2016\\u002F02\\u002F1000x700-empathy-vs-sympathy-150x150.jpg\",\"linkId\":\"gdjn7o\"},{\"title\":\"Do You Know The Hidden Meanings Of These Popular Emoji?\",\"url\":\"https:\\u002F\\u002Fwww.dictionary.com\\u002Fe\\u002Fs\\u002Fdictionary-coms-top-10-emoji-hidden-meanings\\u002F\",\"image\":\"https:\\u002F\\u002Fwww.dictionary.com\\u002Fe\\u002Fwp-content\\u002Fuploads\\u002F2017\\u002F08\\u002Ftittle_titivation_eggplant_1000x700-150x150.jpg\",\"linkId\":\"mxi818\"},{\"title\":\"English Could Really Use These 9 Wunderbar German Words\",\"url\":\"https:\\u002F\\u002Fwww.dictionary.com\\u002Fe\\u002Fs\\u002Fenglish-could-really-use-these-9-wunderbar-german-words\\u002F\",\"image\":\"https:\\u002F\\u002Fwww.dictionary.com\\u002Fe\\u002Fwp-content\\u002Fuploads\\u002F2019\\u002F07\\u002F1000x700-german-1-150x150.jpg\",\"linkId\":\"3og0dl\"},{\"title\":\"Ways To Laugh Online That Are More Amusing Than LOL\",\"url\":\"https:\\u002F\\u002Fwww.dictionary.com\\u002Fe\\u002Fs\\u002Flaughing-online\\u002F\",\"image\":\"https:\\u002F\\u002Fwww.dictionary.com\\u002Fe\\u002Fwp-content\\u002Fuploads\\u002F2019\\u002F05\\u002F1000x700-LOL-1-150x150.jpg\",\"linkId\":\"7pjs9o\"}]}},\"wotdData\":{\"isFetching\":false,\"data\":{\"word\":\"manqué\",\"audioUrl\":\"https:\\u002F\\u002Fstatic.sfdict.com\\u002Faudio\\u002FM01\\u002FM0119800.mp3\",\"pos\":\"\\u003Cspan class=\\\"luna-pos\\\"\\u003Eadjective\\u003C\\u002Fspan\\u003E\",\"pronunciation\":\"mahng-\\u003Cspan class=\\\"bold\\\"\\u003Ekey\\u003C\\u002Fspan\\u003E\"}},\"detectedDevice\":{\"isMobile\":false,\"isTablet\":false},\"ads\":{},\"localization\":{\"isEU\":false},\"mup\":{\"isFetching\":false,\"data\":\"1176\"}};</script>\n",
       "<script>window.emotionIds=[\"0\",\"jdx9m6\",\"1q8eu9e\",\"5xeu26\",\"1j0eho5\",\"7a875u\",\"ywz12x\",\"1atz4kp-Navigation\",\"1hp4ihf-Container\",\"p5rnoq-Overlay\",\"1gb0qe-Nav\",\"17g2mt7-List\",\"m3rjfu-Item\",\"wuicji-Link\",\"ioerk6-NestedList\",\"drw9r6-HamburgerButton\",\"1hyo8qo-TabContainer\",\"upgnes-TabInactive\",\"12pg1no-Link\",\"1lk7v7n-TabActive\",\"8x77lp-Link\",\"1o19q92-StyledApps\",\"1y1om3k-Android\",\"5yyf7-Apple\",\"1jced3u-SearchContainer\",\"nc8m4u-SearchRow\",\"8en0us-Logo\",\"18hd8o5-SearchWrapper\",\"1nodpsb-StyledForm\",\"6houri-FilterNavContainer\",\"1qsgpoi\",\"pvpj9z-FilterItem\",\"1hsp8l3-HiddenLabel\",\"f5s54a-SearchInputColored\",\"afwbme-SearchButtonColored\",\"1jzsm78\",\"sew1z2-ListWrapper\",\"iry8e\",\"13o7eu2\",\"1ebf8b3\",\"1xdhyk6\",\"3g48ci\",\"fgpbia\",\"1lcrovw\",\"95c5ng\",\"79elbk\",\"10zqgn2\",\"pzrl1\",\"1jh47cl\",\"1nq2eka\",\"172saqb\",\"aq2zan\",\"1twju98\",\"u7frk4\",\"k7u7pu\",\"wmquag\",\"1wb9ami\",\"1x750yr\",\"1kc5m8x\",\"ko4obs\",\"1lc0dpe\",\"133coio\",\"zu4egz\",\"1b769zd\",\"iytrha\",\"qwq3ka\",\"1qygofn\",\"rats3j\",\"wp1t9x\",\"10cokgy\",\"oxlj02\",\"1unrqcp\",\"6qtdy1\",\"1xupnfh\",\"1873l02\",\"k9iupi\",\"1uelkud\",\"118mqyx\",\"jj611e\",\"1yw3csq\",\"fmek98\",\"1nm0qi8\",\"829tqn-EditorialComponent\",\"m78s4-EditorialTitle\",\"3o7mmi-EditorialTitleLink\",\"7j5dir-EditorialCardContainer\",\"2lj3gn-Card\",\"10pymq-CardItemLink\",\"11ffqd7-CardItem\",\"1s10bac-CardItemImage\",\"tgxsze-CardItemTitle\",\"yjy7kb\",\"vtn2l4\",\"110ybod-WotdContainer\",\"1hf127b-WotdBorderedCircle\",\"12droi1-WotdTitle\",\"klr4kg-WotdWord\",\"1tw7usw-WotdDetails\",\"68nz7a-BlockSpan\",\"1of61ad-BlockSpan-Pipe\",\"kznuui-BlockSpan-Pronunciation\",\"73moer-AudioButton\",\"lj4v6t-SeeMoreLink\",\"5fvmx8-StyledFooter\",\"1xeb4yw-FooterContainer\",\"19grk89-AZFooterContainer\",\"1owogex-ListContainter\",\"cxsskz-ListTitle\",\"n1j42s-ListItem\",\"fpt4lm-ListItemLink\",\"f063v9-ListItem\",\"197if4n-FooterNavigation\",\"184f2y4-FooterNavigationElement\",\"ehlzpo-FooterLink\"];</script>\n",
       "</body>\n",
       "</html>"
      ]
     },
     "execution_count": 16,
     "metadata": {},
     "output_type": "execute_result"
    }
   ],
   "source": [
    "soup = BeautifulSoup(resp.content, 'html.parser')\n",
    "soup"
   ]
  },
  {
   "cell_type": "code",
   "execution_count": 18,
   "metadata": {},
   "outputs": [],
   "source": [
    "table = soup.find('div' ,class_='css-1kc5m8x e1qo4u830')"
   ]
  },
  {
   "cell_type": "code",
   "execution_count": 20,
   "metadata": {},
   "outputs": [],
   "source": [
    "w_list = table.find('ul', class_='css-1lc0dpe et6tpn80')"
   ]
  },
  {
   "cell_type": "code",
   "execution_count": 21,
   "metadata": {},
   "outputs": [
    {
     "data": {
      "text/plain": [
       "<ul class=\"css-1lc0dpe et6tpn80\"><li><span class=\"css-133coio etbu2a32\"><a class=\"css-zu4egz etbu2a31\" data-linkid=\"nn1ov4\" href=\"/browse/at%20the%20time%20that\">at the time that</a></span></li><li><span class=\"css-133coio etbu2a32\"><a class=\"css-zu4egz etbu2a31\" data-linkid=\"nn1ov4\" href=\"/browse/during%20the%20time%20that\">during the time that</a></span></li><li><span class=\"css-133coio etbu2a32\"><a class=\"css-zu4egz etbu2a31\" data-linkid=\"nn1ov4\" href=\"/browse/in%20the%20act%20of\">in the act of</a></span></li><li><span class=\"css-133coio etbu2a32\"><a class=\"css-zu4egz etbu2a31\" data-linkid=\"nn1ov4\" href=\"/browse/in%20the%20process%20of\">in the process of</a></span></li><li><span class=\"css-133coio etbu2a32\"><a class=\"css-zu4egz etbu2a31\" data-linkid=\"nn1ov4\" href=\"/browse/on%20the%20point%20of\">on the point of</a></span></li></ul>"
      ]
     },
     "execution_count": 21,
     "metadata": {},
     "output_type": "execute_result"
    }
   ],
   "source": [
    "w_list"
   ]
  },
  {
   "cell_type": "code",
   "execution_count": null,
   "metadata": {},
   "outputs": [],
   "source": []
  },
  {
   "cell_type": "code",
   "execution_count": null,
   "metadata": {},
   "outputs": [],
   "source": []
  },
  {
   "cell_type": "markdown",
   "metadata": {},
   "source": [
    "## meta data 읽어오기"
   ]
  },
  {
   "cell_type": "code",
   "execution_count": 23,
   "metadata": {
    "collapsed": true
   },
   "outputs": [
    {
     "ename": "JSONDecodeError",
     "evalue": "Expecting property name enclosed in double quotes: line 1 column 2 (char 1)",
     "output_type": "error",
     "traceback": [
      "\u001b[1;31m---------------------------------------------------------------------------\u001b[0m",
      "\u001b[1;31mJSONDecodeError\u001b[0m                           Traceback (most recent call last)",
      "\u001b[1;32m<ipython-input-23-3f63a5076324>\u001b[0m in \u001b[0;36m<module>\u001b[1;34m\u001b[0m\n\u001b[0;32m      3\u001b[0m \u001b[1;33m\u001b[0m\u001b[0m\n\u001b[0;32m      4\u001b[0m \u001b[1;32mwith\u001b[0m \u001b[0mopen\u001b[0m\u001b[1;33m(\u001b[0m\u001b[1;34m'meta_Electronics.json'\u001b[0m\u001b[1;33m)\u001b[0m \u001b[1;32mas\u001b[0m \u001b[0mdata_file\u001b[0m\u001b[1;33m:\u001b[0m\u001b[1;33m\u001b[0m\u001b[1;33m\u001b[0m\u001b[0m\n\u001b[1;32m----> 5\u001b[1;33m     \u001b[0mdata\u001b[0m \u001b[1;33m=\u001b[0m \u001b[0mjson\u001b[0m\u001b[1;33m.\u001b[0m\u001b[0mload\u001b[0m\u001b[1;33m(\u001b[0m\u001b[0mdata_file\u001b[0m\u001b[1;33m)\u001b[0m\u001b[1;33m\u001b[0m\u001b[1;33m\u001b[0m\u001b[0m\n\u001b[0m\u001b[0;32m      6\u001b[0m \u001b[1;33m\u001b[0m\u001b[0m\n\u001b[0;32m      7\u001b[0m \u001b[0mpprint\u001b[0m\u001b[1;33m(\u001b[0m\u001b[0mdata\u001b[0m\u001b[1;33m)\u001b[0m \u001b[1;31m#data는 json 전체를 dictionary 형태로 저장하고 있음\u001b[0m\u001b[1;33m\u001b[0m\u001b[1;33m\u001b[0m\u001b[0m\n",
      "\u001b[1;32mC:\\SEONMIN\\Anaconda3\\envs\\study\\lib\\json\\__init__.py\u001b[0m in \u001b[0;36mload\u001b[1;34m(fp, cls, object_hook, parse_float, parse_int, parse_constant, object_pairs_hook, **kw)\u001b[0m\n\u001b[0;32m    294\u001b[0m         \u001b[0mcls\u001b[0m\u001b[1;33m=\u001b[0m\u001b[0mcls\u001b[0m\u001b[1;33m,\u001b[0m \u001b[0mobject_hook\u001b[0m\u001b[1;33m=\u001b[0m\u001b[0mobject_hook\u001b[0m\u001b[1;33m,\u001b[0m\u001b[1;33m\u001b[0m\u001b[1;33m\u001b[0m\u001b[0m\n\u001b[0;32m    295\u001b[0m         \u001b[0mparse_float\u001b[0m\u001b[1;33m=\u001b[0m\u001b[0mparse_float\u001b[0m\u001b[1;33m,\u001b[0m \u001b[0mparse_int\u001b[0m\u001b[1;33m=\u001b[0m\u001b[0mparse_int\u001b[0m\u001b[1;33m,\u001b[0m\u001b[1;33m\u001b[0m\u001b[1;33m\u001b[0m\u001b[0m\n\u001b[1;32m--> 296\u001b[1;33m         parse_constant=parse_constant, object_pairs_hook=object_pairs_hook, **kw)\n\u001b[0m\u001b[0;32m    297\u001b[0m \u001b[1;33m\u001b[0m\u001b[0m\n\u001b[0;32m    298\u001b[0m \u001b[1;33m\u001b[0m\u001b[0m\n",
      "\u001b[1;32mC:\\SEONMIN\\Anaconda3\\envs\\study\\lib\\json\\__init__.py\u001b[0m in \u001b[0;36mloads\u001b[1;34m(s, encoding, cls, object_hook, parse_float, parse_int, parse_constant, object_pairs_hook, **kw)\u001b[0m\n\u001b[0;32m    346\u001b[0m             \u001b[0mparse_int\u001b[0m \u001b[1;32mis\u001b[0m \u001b[1;32mNone\u001b[0m \u001b[1;32mand\u001b[0m \u001b[0mparse_float\u001b[0m \u001b[1;32mis\u001b[0m \u001b[1;32mNone\u001b[0m \u001b[1;32mand\u001b[0m\u001b[1;33m\u001b[0m\u001b[1;33m\u001b[0m\u001b[0m\n\u001b[0;32m    347\u001b[0m             parse_constant is None and object_pairs_hook is None and not kw):\n\u001b[1;32m--> 348\u001b[1;33m         \u001b[1;32mreturn\u001b[0m \u001b[0m_default_decoder\u001b[0m\u001b[1;33m.\u001b[0m\u001b[0mdecode\u001b[0m\u001b[1;33m(\u001b[0m\u001b[0ms\u001b[0m\u001b[1;33m)\u001b[0m\u001b[1;33m\u001b[0m\u001b[1;33m\u001b[0m\u001b[0m\n\u001b[0m\u001b[0;32m    349\u001b[0m     \u001b[1;32mif\u001b[0m \u001b[0mcls\u001b[0m \u001b[1;32mis\u001b[0m \u001b[1;32mNone\u001b[0m\u001b[1;33m:\u001b[0m\u001b[1;33m\u001b[0m\u001b[1;33m\u001b[0m\u001b[0m\n\u001b[0;32m    350\u001b[0m         \u001b[0mcls\u001b[0m \u001b[1;33m=\u001b[0m \u001b[0mJSONDecoder\u001b[0m\u001b[1;33m\u001b[0m\u001b[1;33m\u001b[0m\u001b[0m\n",
      "\u001b[1;32mC:\\SEONMIN\\Anaconda3\\envs\\study\\lib\\json\\decoder.py\u001b[0m in \u001b[0;36mdecode\u001b[1;34m(self, s, _w)\u001b[0m\n\u001b[0;32m    335\u001b[0m \u001b[1;33m\u001b[0m\u001b[0m\n\u001b[0;32m    336\u001b[0m         \"\"\"\n\u001b[1;32m--> 337\u001b[1;33m         \u001b[0mobj\u001b[0m\u001b[1;33m,\u001b[0m \u001b[0mend\u001b[0m \u001b[1;33m=\u001b[0m \u001b[0mself\u001b[0m\u001b[1;33m.\u001b[0m\u001b[0mraw_decode\u001b[0m\u001b[1;33m(\u001b[0m\u001b[0ms\u001b[0m\u001b[1;33m,\u001b[0m \u001b[0midx\u001b[0m\u001b[1;33m=\u001b[0m\u001b[0m_w\u001b[0m\u001b[1;33m(\u001b[0m\u001b[0ms\u001b[0m\u001b[1;33m,\u001b[0m \u001b[1;36m0\u001b[0m\u001b[1;33m)\u001b[0m\u001b[1;33m.\u001b[0m\u001b[0mend\u001b[0m\u001b[1;33m(\u001b[0m\u001b[1;33m)\u001b[0m\u001b[1;33m)\u001b[0m\u001b[1;33m\u001b[0m\u001b[1;33m\u001b[0m\u001b[0m\n\u001b[0m\u001b[0;32m    338\u001b[0m         \u001b[0mend\u001b[0m \u001b[1;33m=\u001b[0m \u001b[0m_w\u001b[0m\u001b[1;33m(\u001b[0m\u001b[0ms\u001b[0m\u001b[1;33m,\u001b[0m \u001b[0mend\u001b[0m\u001b[1;33m)\u001b[0m\u001b[1;33m.\u001b[0m\u001b[0mend\u001b[0m\u001b[1;33m(\u001b[0m\u001b[1;33m)\u001b[0m\u001b[1;33m\u001b[0m\u001b[1;33m\u001b[0m\u001b[0m\n\u001b[0;32m    339\u001b[0m         \u001b[1;32mif\u001b[0m \u001b[0mend\u001b[0m \u001b[1;33m!=\u001b[0m \u001b[0mlen\u001b[0m\u001b[1;33m(\u001b[0m\u001b[0ms\u001b[0m\u001b[1;33m)\u001b[0m\u001b[1;33m:\u001b[0m\u001b[1;33m\u001b[0m\u001b[1;33m\u001b[0m\u001b[0m\n",
      "\u001b[1;32mC:\\SEONMIN\\Anaconda3\\envs\\study\\lib\\json\\decoder.py\u001b[0m in \u001b[0;36mraw_decode\u001b[1;34m(self, s, idx)\u001b[0m\n\u001b[0;32m    351\u001b[0m         \"\"\"\n\u001b[0;32m    352\u001b[0m         \u001b[1;32mtry\u001b[0m\u001b[1;33m:\u001b[0m\u001b[1;33m\u001b[0m\u001b[1;33m\u001b[0m\u001b[0m\n\u001b[1;32m--> 353\u001b[1;33m             \u001b[0mobj\u001b[0m\u001b[1;33m,\u001b[0m \u001b[0mend\u001b[0m \u001b[1;33m=\u001b[0m \u001b[0mself\u001b[0m\u001b[1;33m.\u001b[0m\u001b[0mscan_once\u001b[0m\u001b[1;33m(\u001b[0m\u001b[0ms\u001b[0m\u001b[1;33m,\u001b[0m \u001b[0midx\u001b[0m\u001b[1;33m)\u001b[0m\u001b[1;33m\u001b[0m\u001b[1;33m\u001b[0m\u001b[0m\n\u001b[0m\u001b[0;32m    354\u001b[0m         \u001b[1;32mexcept\u001b[0m \u001b[0mStopIteration\u001b[0m \u001b[1;32mas\u001b[0m \u001b[0merr\u001b[0m\u001b[1;33m:\u001b[0m\u001b[1;33m\u001b[0m\u001b[1;33m\u001b[0m\u001b[0m\n\u001b[0;32m    355\u001b[0m             \u001b[1;32mraise\u001b[0m \u001b[0mJSONDecodeError\u001b[0m\u001b[1;33m(\u001b[0m\u001b[1;34m\"Expecting value\"\u001b[0m\u001b[1;33m,\u001b[0m \u001b[0ms\u001b[0m\u001b[1;33m,\u001b[0m \u001b[0merr\u001b[0m\u001b[1;33m.\u001b[0m\u001b[0mvalue\u001b[0m\u001b[1;33m)\u001b[0m \u001b[1;32mfrom\u001b[0m \u001b[1;32mNone\u001b[0m\u001b[1;33m\u001b[0m\u001b[1;33m\u001b[0m\u001b[0m\n",
      "\u001b[1;31mJSONDecodeError\u001b[0m: Expecting property name enclosed in double quotes: line 1 column 2 (char 1)"
     ]
    }
   ],
   "source": [
    "import json\n",
    "from pprint import pprint\n",
    "\n",
    "with open('meta_Electronics.json') as data_file:    \n",
    "    data = json.load(data_file)\n",
    "\n",
    "pprint(data) #data는 json 전체를 dictionary 형태로 저장하고 있음"
   ]
  },
  {
   "cell_type": "code",
   "execution_count": 25,
   "metadata": {},
   "outputs": [
    {
     "name": "stderr",
     "output_type": "stream",
     "text": [
      "C:\\SEONMIN\\Anaconda3\\envs\\study\\lib\\importlib\\_bootstrap.py:219: RuntimeWarning: numpy.ufunc size changed, may indicate binary incompatibility. Expected 192 from C header, got 216 from PyObject\n",
      "  return f(*args, **kwds)\n",
      "C:\\SEONMIN\\Anaconda3\\envs\\study\\lib\\importlib\\_bootstrap.py:219: RuntimeWarning: numpy.ufunc size changed, may indicate binary incompatibility. Expected 192 from C header, got 216 from PyObject\n",
      "  return f(*args, **kwds)\n"
     ]
    }
   ],
   "source": [
    "import pandas as pd"
   ]
  },
  {
   "cell_type": "code",
   "execution_count": 32,
   "metadata": {
    "scrolled": false
   },
   "outputs": [
    {
     "ename": "MemoryError",
     "evalue": "",
     "output_type": "error",
     "traceback": [
      "\u001b[1;31m---------------------------------------------------------------------------\u001b[0m",
      "\u001b[1;31mMemoryError\u001b[0m                               Traceback (most recent call last)",
      "\u001b[1;32m<ipython-input-32-d71a85860188>\u001b[0m in \u001b[0;36m<module>\u001b[1;34m\u001b[0m\n\u001b[0;32m      1\u001b[0m \u001b[1;33m\u001b[0m\u001b[0m\n\u001b[1;32m----> 2\u001b[1;33m \u001b[0mdata\u001b[0m \u001b[1;33m=\u001b[0m \u001b[0mpd\u001b[0m\u001b[1;33m.\u001b[0m\u001b[0mread_json\u001b[0m\u001b[1;33m(\u001b[0m\u001b[1;34m'meta_Electronics.json'\u001b[0m\u001b[1;33m,\u001b[0m \u001b[0mlines\u001b[0m\u001b[1;33m=\u001b[0m\u001b[1;32mTrue\u001b[0m\u001b[1;33m,\u001b[0m \u001b[0morient\u001b[0m\u001b[1;33m=\u001b[0m\u001b[0mstr\u001b[0m\u001b[1;33m)\u001b[0m\u001b[1;33m\u001b[0m\u001b[1;33m\u001b[0m\u001b[0m\n\u001b[0m",
      "\u001b[1;32mC:\\SEONMIN\\Anaconda3\\envs\\study\\lib\\site-packages\\pandas\\io\\json\\json.py\u001b[0m in \u001b[0;36mread_json\u001b[1;34m(path_or_buf, orient, typ, dtype, convert_axes, convert_dates, keep_default_dates, numpy, precise_float, date_unit, encoding, lines, chunksize, compression)\u001b[0m\n\u001b[0;32m    425\u001b[0m         \u001b[1;32mreturn\u001b[0m \u001b[0mjson_reader\u001b[0m\u001b[1;33m\u001b[0m\u001b[1;33m\u001b[0m\u001b[0m\n\u001b[0;32m    426\u001b[0m \u001b[1;33m\u001b[0m\u001b[0m\n\u001b[1;32m--> 427\u001b[1;33m     \u001b[0mresult\u001b[0m \u001b[1;33m=\u001b[0m \u001b[0mjson_reader\u001b[0m\u001b[1;33m.\u001b[0m\u001b[0mread\u001b[0m\u001b[1;33m(\u001b[0m\u001b[1;33m)\u001b[0m\u001b[1;33m\u001b[0m\u001b[1;33m\u001b[0m\u001b[0m\n\u001b[0m\u001b[0;32m    428\u001b[0m     \u001b[1;32mif\u001b[0m \u001b[0mshould_close\u001b[0m\u001b[1;33m:\u001b[0m\u001b[1;33m\u001b[0m\u001b[1;33m\u001b[0m\u001b[0m\n\u001b[0;32m    429\u001b[0m         \u001b[1;32mtry\u001b[0m\u001b[1;33m:\u001b[0m\u001b[1;33m\u001b[0m\u001b[1;33m\u001b[0m\u001b[0m\n",
      "\u001b[1;32mC:\\SEONMIN\\Anaconda3\\envs\\study\\lib\\site-packages\\pandas\\io\\json\\json.py\u001b[0m in \u001b[0;36mread\u001b[1;34m(self)\u001b[0m\n\u001b[0;32m    532\u001b[0m             \u001b[0mdata\u001b[0m \u001b[1;33m=\u001b[0m \u001b[0mto_str\u001b[0m\u001b[1;33m(\u001b[0m\u001b[0mself\u001b[0m\u001b[1;33m.\u001b[0m\u001b[0mdata\u001b[0m\u001b[1;33m)\u001b[0m\u001b[1;33m\u001b[0m\u001b[1;33m\u001b[0m\u001b[0m\n\u001b[0;32m    533\u001b[0m             obj = self._get_object_parser(\n\u001b[1;32m--> 534\u001b[1;33m                 \u001b[0mself\u001b[0m\u001b[1;33m.\u001b[0m\u001b[0m_combine_lines\u001b[0m\u001b[1;33m(\u001b[0m\u001b[0mdata\u001b[0m\u001b[1;33m.\u001b[0m\u001b[0msplit\u001b[0m\u001b[1;33m(\u001b[0m\u001b[1;34m'\\n'\u001b[0m\u001b[1;33m)\u001b[0m\u001b[1;33m)\u001b[0m\u001b[1;33m\u001b[0m\u001b[1;33m\u001b[0m\u001b[0m\n\u001b[0m\u001b[0;32m    535\u001b[0m             )\n\u001b[0;32m    536\u001b[0m         \u001b[1;32melse\u001b[0m\u001b[1;33m:\u001b[0m\u001b[1;33m\u001b[0m\u001b[1;33m\u001b[0m\u001b[0m\n",
      "\u001b[1;32mC:\\SEONMIN\\Anaconda3\\envs\\study\\lib\\site-packages\\pandas\\io\\json\\json.py\u001b[0m in \u001b[0;36m_combine_lines\u001b[1;34m(self, lines)\u001b[0m\n\u001b[0;32m    520\u001b[0m         \"\"\"\n\u001b[0;32m    521\u001b[0m         \u001b[0mlines\u001b[0m \u001b[1;33m=\u001b[0m \u001b[0mfilter\u001b[0m\u001b[1;33m(\u001b[0m\u001b[1;32mNone\u001b[0m\u001b[1;33m,\u001b[0m \u001b[0mmap\u001b[0m\u001b[1;33m(\u001b[0m\u001b[1;32mlambda\u001b[0m \u001b[0mx\u001b[0m\u001b[1;33m:\u001b[0m \u001b[0mx\u001b[0m\u001b[1;33m.\u001b[0m\u001b[0mstrip\u001b[0m\u001b[1;33m(\u001b[0m\u001b[1;33m)\u001b[0m\u001b[1;33m,\u001b[0m \u001b[0mlines\u001b[0m\u001b[1;33m)\u001b[0m\u001b[1;33m)\u001b[0m\u001b[1;33m\u001b[0m\u001b[1;33m\u001b[0m\u001b[0m\n\u001b[1;32m--> 522\u001b[1;33m         \u001b[1;32mreturn\u001b[0m \u001b[1;34m'['\u001b[0m \u001b[1;33m+\u001b[0m \u001b[1;34m','\u001b[0m\u001b[1;33m.\u001b[0m\u001b[0mjoin\u001b[0m\u001b[1;33m(\u001b[0m\u001b[0mlines\u001b[0m\u001b[1;33m)\u001b[0m \u001b[1;33m+\u001b[0m \u001b[1;34m']'\u001b[0m\u001b[1;33m\u001b[0m\u001b[1;33m\u001b[0m\u001b[0m\n\u001b[0m\u001b[0;32m    523\u001b[0m \u001b[1;33m\u001b[0m\u001b[0m\n\u001b[0;32m    524\u001b[0m     \u001b[1;32mdef\u001b[0m \u001b[0mread\u001b[0m\u001b[1;33m(\u001b[0m\u001b[0mself\u001b[0m\u001b[1;33m)\u001b[0m\u001b[1;33m:\u001b[0m\u001b[1;33m\u001b[0m\u001b[1;33m\u001b[0m\u001b[0m\n",
      "\u001b[1;31mMemoryError\u001b[0m: "
     ]
    }
   ],
   "source": [
    "\n",
    "data = pd.read_json('meta_Electronics.json', lines=True, orient=str)"
   ]
  },
  {
   "cell_type": "code",
   "execution_count": 27,
   "metadata": {},
   "outputs": [],
   "source": [
    "pd.read_json?"
   ]
  },
  {
   "cell_type": "code",
   "execution_count": null,
   "metadata": {},
   "outputs": [],
   "source": []
  },
  {
   "cell_type": "code",
   "execution_count": null,
   "metadata": {},
   "outputs": [],
   "source": []
  }
 ],
 "metadata": {
  "kernelspec": {
   "display_name": "Python 3",
   "language": "python",
   "name": "python3"
  },
  "language_info": {
   "codemirror_mode": {
    "name": "ipython",
    "version": 3
   },
   "file_extension": ".py",
   "mimetype": "text/x-python",
   "name": "python",
   "nbconvert_exporter": "python",
   "pygments_lexer": "ipython3",
   "version": "3.7.3"
  }
 },
 "nbformat": 4,
 "nbformat_minor": 2
}
