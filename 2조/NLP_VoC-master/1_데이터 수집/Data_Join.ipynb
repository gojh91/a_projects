{
 "cells": [
  {
   "cell_type": "code",
   "execution_count": null,
   "metadata": {},
   "outputs": [],
   "source": [
    "# csv 읽어오는 거 제한을 해제하는 코드\n",
    "import sys\n",
    "import csv\n",
    "maxInt = sys.maxsize\n",
    "\n",
    "while True:\n",
    "    # decrease the maxInt value by factor 10 \n",
    "    # as long as the OverflowError occurs.\n",
    "\n",
    "    try:\n",
    "        csv.field_size_limit(maxInt)\n",
    "        break\n",
    "    except OverflowError:\n",
    "        maxInt = int(maxInt/10)"
   ]
  },
  {
   "cell_type": "code",
   "execution_count": null,
   "metadata": {},
   "outputs": [],
   "source": [
    "#주요 모듈 임포트\n",
    "import pandas as pd"
   ]
  },
  {
   "cell_type": "code",
   "execution_count": null,
   "metadata": {
    "scrolled": true
   },
   "outputs": [],
   "source": [
    "#전자기기 리뷰 읽기\n",
    "review_df = pd.read_csv('reviews_Electronics.csv', engine='python')\n",
    "review_df"
   ]
  },
  {
   "cell_type": "code",
   "execution_count": null,
   "metadata": {},
   "outputs": [],
   "source": [
    "#메타 데이터 읽기\n",
    "meta_df = pd.read_csv('meta_ele.csv', engine = 'python')\n",
    "meta_df"
   ]
  },
  {
   "cell_type": "code",
   "execution_count": null,
   "metadata": {},
   "outputs": [],
   "source": [
    "#product list 호출\n",
    "prod_df = pd.read_csv('product_list.csv',engine='python')\n",
    "prod_ls = list(prod_df['product'])\n",
    "#디지털 카메라 카테고리 걸러내는 함수\n",
    "def cat_dslr(text):\n",
    "    #해당 카테고리에 속하면 카테고리명을 수정하기 편하게 바꿈. 카테고리를 수정하고 싶으면 이곳에서 업데이트\n",
    "    if text in [\"[['Electronics', 'Camera & Photo', 'Digital Cameras', 'Point & Shoot Digital Cameras']]\",\n",
    "                \"[['Electronics', 'Camera & Photo', 'Digital Cameras', 'Digital SLR Cameras']]\",\n",
    "                \"[['Electronics', 'Camera & Photo', 'Digital Cameras']]\",\n",
    "                \"[['Electronics', 'Camera & Photo', 'Digital Cameras', 'Compact System Cameras']]\",\n",
    "                \"[['Electronics', 'Camera & Photo', 'Digital Cameras', 'Medium Format Digital Cameras']]\"]:\n",
    "        return 'ggggg' #ggggg로 값을 바꾸어 수정하기 쉽게 만듦\n",
    "    return text\n",
    "\n",
    "# asin code 기준으로 데이터 병합 함수\n",
    "def asin_merge(review, meta):\n",
    "    meta['categories'] = meta['categories'].apply(cat_dslr)\n",
    "    digit_asin=meta[meta['categories'] == 'ggggg'].loc[:,['asin','title','description']]\n",
    "    reviewNproduct = review.merge(digit_asin, on='asin')\n",
    "    return reviewNproduct\n",
    "\n",
    "#칼럼명 수정후 원하는 칼럼(product_name, review, review_date, score, user)만 빼오는 함수, 추가로 필요한 데이터 있으면 이거 이용\n",
    "def recolumns(df):\n",
    "    df.rename(columns={\n",
    "        'title':'product_name',\n",
    "        'reviewText':'review',\n",
    "        'reviewTime':'review_date',\n",
    "        'overall':'score',\n",
    "        'reviewerName':'user',\n",
    "    }, inplace=True)\n",
    "    return df.loc[:, ['product_name','asin','review','review_date','score','user']]\n",
    "\n",
    "#리뷰가 10개 미만인 제품일 경우 제거한다->asin 코드 기준으로 슬라이싱 및 리뷰 nan 값 제거\n",
    "def slicing(df):\n",
    "    cnt_df = pd.DataFrame(df['asin'].value_counts()).reset_index().rename(columns={'index':'asin','asin':'review_count'})\n",
    "    cnt_df = cnt_df[cnt_df['review_count']>=10]\n",
    "    new_df = df.merge(cnt_df, on='asin')\n",
    "    del new_df['review_count']\n",
    "    \n",
    "    #nan 값 제거\n",
    "    new_df=new_df.fillna(999)\n",
    "    new_df=new_df[new_df['review']!=999]\n",
    "    return new_df\n",
    "\n",
    "#제품명을 모델명으로 줄임. 제품 리스트에 존재하지 않을 경우 그 데이터는 그냥 삭제 할 것\n",
    "def product_modelize(text):\n",
    "\n",
    "    for model in prod_ls:\n",
    "        if \" \"+model+\" \" in text.lower():\n",
    "            return model\n",
    "    \n",
    "    return '999'"
   ]
  },
  {
   "cell_type": "code",
   "execution_count": null,
   "metadata": {},
   "outputs": [],
   "source": [
    "#함수 적용\n",
    "digit_camera_review_df=asin_merge(review_df, meta_df)\n",
    "new_df=recolumns(digit_camera_review_df)\n",
    "new_df=slicing(new_df)\n",
    "new_df['product_name']=new_df['product_name'].apply(product_modelize)"
   ]
  },
  {
   "cell_type": "code",
   "execution_count": null,
   "metadata": {},
   "outputs": [],
   "source": [
    "newnew=new_df[new_df['product_name'] != '999']\n",
    "newnew"
   ]
  },
  {
   "cell_type": "code",
   "execution_count": null,
   "metadata": {
    "scrolled": false
   },
   "outputs": [],
   "source": [
    "newnew.to_csv('camera_reviews.csv', encoding='utf-8', index=False)"
   ]
  },
  {
   "cell_type": "code",
   "execution_count": null,
   "metadata": {},
   "outputs": [],
   "source": []
  }
 ],
 "metadata": {
  "kernelspec": {
   "display_name": "Python 3",
   "language": "python",
   "name": "python3"
  },
  "language_info": {
   "codemirror_mode": {
    "name": "ipython",
    "version": 3
   },
   "file_extension": ".py",
   "mimetype": "text/x-python",
   "name": "python",
   "nbconvert_exporter": "python",
   "pygments_lexer": "ipython3",
   "version": "3.6.6"
  }
 },
 "nbformat": 4,
 "nbformat_minor": 2
}
