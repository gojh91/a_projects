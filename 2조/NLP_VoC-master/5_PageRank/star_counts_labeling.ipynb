{
 "cells": [
  {
   "cell_type": "code",
   "execution_count": null,
   "metadata": {},
   "outputs": [],
   "source": [
    "import pandas as pd\n",
    "data = pd.read_csv('/content/drive/My Drive/Lineage Old Single Man/논문2/5_PageRank/polarity_labeling.csv')\n",
    "data.head()"
   ]
  },
  {
   "cell_type": "code",
   "execution_count": null,
   "metadata": {},
   "outputs": [],
   "source": [
    "def Make_star_counst(data):\n",
    "    f_list = ['pixel','lens','optical','memory','burst','battery','focus','LCD','compression','flash']\n",
    "    product_list = data['product'].unique()\n",
    "    result = pd.DataFrame(index = product_list)\n",
    "    for f in f_list:\n",
    "        df = data[data.feature.str.contains(f)]\n",
    "        df1 = df.groupby(['product']).mean()\n",
    "        df2 = df.groupby(['product']).count()\n",
    "        df_t = pd.merge(df1, df2, left_index = True, right_index = True, how = 'left')\n",
    "        df_t = df_t.iloc[:, [0,2]]\n",
    "        df_t.columns = [f'{f}_star', f'{f}_counts']\n",
    "        result = pd.merge(result, df_t, left_index = True, right_index = True, how = 'left')\n",
    "\n",
    "    result = result.fillna(0)\n",
    "    return result"
   ]
  }
 ],
 "metadata": {
  "kernelspec": {
   "display_name": "Python 3",
   "language": "python",
   "name": "python3"
  },
  "language_info": {
   "codemirror_mode": {
    "name": "ipython",
    "version": 3
   },
   "file_extension": ".py",
   "mimetype": "text/x-python",
   "name": "python",
   "nbconvert_exporter": "python",
   "pygments_lexer": "ipython3",
   "version": "3.7.3"
  }
 },
 "nbformat": 4,
 "nbformat_minor": 2
}
