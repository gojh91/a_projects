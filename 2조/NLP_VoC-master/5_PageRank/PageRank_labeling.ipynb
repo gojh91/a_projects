{
 "cells": [
  {
   "cell_type": "code",
   "execution_count": null,
   "metadata": {},
   "outputs": [],
   "source": [
    "import pandas as pd\n",
    "import numpy as np\n",
    "data = pd.read_csv('polarity_labeling.csv')\n",
    "data.head()"
   ]
  },
  {
   "cell_type": "code",
   "execution_count": null,
   "metadata": {},
   "outputs": [],
   "source": [
    "def Make_matrix(df):\n",
    "    # unique()는 특정 시리즈 데이터에서 유일한 값들을 넘파이배열로 출력\n",
    "    product_list = df['product'].unique()\n",
    "    matrix = np.zeros((len(product_list), len(product_list)), dtype=np.float32)\n",
    "    \n",
    "    # 불필요한 데이터 제거\n",
    "    df = df[df['polarity'] != 0]\n",
    "    for i, p in enumerate(product_list):\n",
    "        df_re = df[df['product'] == p]\n",
    "        df_cs = df_re[df_re['CS_SS'] == 'CS']\n",
    "        df_ss = df_re[df_re['CS_SS'] == 'SS']\n",
    "        \n",
    "        if i%10 == 0:\n",
    "            print(i)\n",
    "        \n",
    "        for j, t in enumerate(product_list):\n",
    "            if i == j:\n",
    "                # ss에 의한 웨이트 계산\n",
    "                ss_data = df_ss['polarity'].value_counts()\n",
    "                if len(ss_data.index) == 2:\n",
    "                    matrix[i,j] = int(ss_data[ss_data.index == 1]) / int(ss_data[ss_data.index == -1])\n",
    "                elif 1 not in ss_data.index:\n",
    "                    matrix[i,j] = 0\n",
    "                else:\n",
    "                    matrix[i,j] = int(ss_data[ss_data.index == 1])\n",
    "\n",
    "            else:\n",
    "                # cs에 의한 웨이트 계산\n",
    "                cs_data = df_cs[df_cs['target'].str.contains(t) == True]['polarity'].value_counts()\n",
    "                if len(cs_data.index) == 2:\n",
    "                    matrix[i,j] = int(cs_data[cs_data.index == 1]) / int(cs_data[cs_data.index == -1])\n",
    "                elif 1 not in cs_data.index:\n",
    "                    matrix[i,j] = 0\n",
    "                else:\n",
    "                    matrix[i,j] = int(cs_data[cs_data.index == 1])\n",
    "    \n",
    "    # 매트릭스를 데이터프레임형식으로 바꿈\n",
    "    dff = pd.DataFrame(matrix, index = product_list, columns = product_list)\n",
    "    dff.loc['sum'] = dff.sum()\n",
    "\n",
    "    return dff"
   ]
  },
  {
   "cell_type": "code",
   "execution_count": null,
   "metadata": {},
   "outputs": [],
   "source": [
    "df = Make_matrix(data)"
   ]
  },
  {
   "cell_type": "code",
   "execution_count": null,
   "metadata": {},
   "outputs": [],
   "source": [
    "df.to_excel('matrix_data.xlsx')"
   ]
  },
  {
   "cell_type": "code",
   "execution_count": null,
   "metadata": {},
   "outputs": [],
   "source": [
    "def Make_Rank(df, d = 0.85, MAX_ITERATIONS = 50, threshold = 0.0001):\n",
    "    # sum = 0 인 열 전체를 지우는 함수\n",
    "    df = df.T\n",
    "    df=df[df['sum'] != 0].T\n",
    "    \n",
    "    product_list = df.columns\n",
    "    \n",
    "    # 초기 스코어 설정( 1 )\n",
    "    score = np.ones(len(product_list))\n",
    "    \n",
    "    # 최대 반복 횟수 50 설정\n",
    "    for iter in range(0,MAX_ITERATIONS):\n",
    "        print(iter)\n",
    "        prev_score = np.copy(score)\n",
    "        \n",
    "        for i, p in enumerate(product_list):\n",
    "            # 넘파이 배열의 사칙연산을 사용하여 for문을 줄임\n",
    "            score[i] = (1-d) + d*sum(df.loc[p] / df.loc['sum'] * prev_score)\n",
    "\n",
    "        # 반복 중 수치 변화가 일정 값 미만으로 떨어지면 코드 종료\n",
    "        if np.sum(np.fabs(prev_score-score)) <= threshold:\n",
    "            print('요기서 끝 :', iter)\n",
    "            break\n",
    "    \n",
    "    dff = pd.DataFrame(score, index = product_list)\n",
    "    \n",
    "    # 스코어 정규화\n",
    "    sum_num = float(dff.sum())\n",
    "    dff = dff.apply(lambda x: x/sum_num)\n",
    "    \n",
    "    # 내림차순으로 랭킹 배열\n",
    "    dff = dff.sort_values(0,ascending=[False])\n",
    "    \n",
    "    return dff"
   ]
  },
  {
   "cell_type": "code",
   "execution_count": null,
   "metadata": {},
   "outputs": [],
   "source": [
    "dff = Make_Rank(df)\n",
    "dff.head(10)"
   ]
  }
 ],
 "metadata": {
  "kernelspec": {
   "display_name": "Python 3",
   "language": "python",
   "name": "python3"
  },
  "language_info": {
   "codemirror_mode": {
    "name": "ipython",
    "version": 3
   },
   "file_extension": ".py",
   "mimetype": "text/x-python",
   "name": "python",
   "nbconvert_exporter": "python",
   "pygments_lexer": "ipython3",
   "version": "3.7.3"
  }
 },
 "nbformat": 4,
 "nbformat_minor": 2
}
