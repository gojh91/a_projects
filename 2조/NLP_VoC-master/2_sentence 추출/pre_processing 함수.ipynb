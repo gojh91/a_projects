{
 "cells": [
  {
   "cell_type": "code",
   "execution_count": null,
   "metadata": {
    "scrolled": true
   },
   "outputs": [],
   "source": [
    "import pandas as pd\n",
    "from nltk import sent_tokenize\n",
    "# encoding 문제시, engine = 'python' 입력할 것\n",
    "# data = pd.read_excel('outputVer2.xlsx')\n",
    "data = pd.read_csv('camera_reviews.csv', engine = 'python')\n",
    "data"
   ]
  },
  {
   "cell_type": "code",
   "execution_count": null,
   "metadata": {},
   "outputs": [],
   "source": [
    "import pandas as pd\n",
    "from nltk import sent_tokenize\n",
    "import re\n",
    "\n",
    "def make_same_feature(text):\n",
    "    text=text.lower()\n",
    "    # 각각의 feature 별 동의어를 대표명으로 정리\n",
    "   \n",
    "    text=re.sub('resolution|pixel|megapixel', 'pixel', str(text))\n",
    "    text=re.sub('lens|wide\\sangle|normal\\srange', 'lens', str(text))\n",
    "    text=re.sub('optical|zoom|optical\\szoom|digital\\szoom', 'optical', str(text))\n",
    "    text=re.sub('memory|megabytes|mb', 'memory', str(text))\n",
    "    text=re.sub('burst|continuous|shutter|recovery|motion|sport', 'burst', str(text))\n",
    "    text=re.sub('battery|batteries|power', 'battery', str(text))\n",
    "    text=re.sub('focus|exposure|manual|iso', 'focus', str(text))\n",
    "    text=re.sub('lcd|screen', 'lcd', str(text))\n",
    "    text=re.sub('compression|compress|jpeg', 'compression', str(text))\n",
    "    text=re.sub('flash|light', 'flash', str(text))\n",
    "    return text\n",
    "\n",
    "def pre_processing(data):\n",
    "    # score 변수를 정리하여 현재 점수만을 표현하도록 변경\n",
    "#     data['score'] = data['score'].apply(lambda x : x.split(' ')[0])\n",
    "    \n",
    "    result = []\n",
    "    for i in range(len(data)):\n",
    "        asin = data.loc[i, 'asin']\n",
    "        product = data.loc[i, 'product_name']\n",
    "        date = data.loc[i, 'review_date']\n",
    "        score = data.loc[i, 'score']\n",
    "        user = data.loc[i, 'user']\n",
    "        text = data.loc[i, 'review']\n",
    "        \n",
    "        Sentences_list = sent_tokenize(text)\n",
    "\n",
    "        for txt in Sentences_list:\n",
    "            dict_n = {\n",
    "                'product' : product,\n",
    "                'asin' : asin,\n",
    "#                 'model' : model,\n",
    "                'date' : date,\n",
    "                'score' : score,\n",
    "                'user' : user,\n",
    "                'review' : txt\n",
    "            }\n",
    "            result.append(dict_n)\n",
    "    print(len(result))\n",
    "    # 데이터프레임으로 형식 전환\n",
    "    df = pd.DataFrame(result)\n",
    "    \n",
    "    # 각 feature별 동의어 처리 함수 사용\n",
    "    df['review'] = df['review'].apply(make_same_feature)\n",
    "    \n",
    "    # feature가 들어있는 문장만 별로로 출력\n",
    "    # str은 앞의 시리즈 데이터를 문자열로 처리하기 위한 변환식\n",
    "    # contains는 데이터 내에 패턴이 존재하기만 하면 위치에 상관없이 True 값 출력\n",
    "    df = df[df.review.str.contains('pixel|lens|optical|memory|burst|battery|focus|lcd|compression|flash') == True]\n",
    "    df = df.reset_index(drop = True)\n",
    "    return df"
   ]
  },
  {
   "cell_type": "code",
   "execution_count": null,
   "metadata": {},
   "outputs": [],
   "source": [
    "data_pp = pre_processing(data)\n",
    "data_pp.head()"
   ]
  },
  {
   "cell_type": "code",
   "execution_count": null,
   "metadata": {},
   "outputs": [],
   "source": [
    "data_pp.to_csv('reviews_preprocessing.csv', encoding='utf-8', index=False)"
   ]
  },
  {
   "cell_type": "code",
   "execution_count": null,
   "metadata": {
    "scrolled": true
   },
   "outputs": [],
   "source": [
    "data_pp"
   ]
  },
  {
   "cell_type": "code",
   "execution_count": null,
   "metadata": {},
   "outputs": [],
   "source": []
  }
 ],
 "metadata": {
  "kernelspec": {
   "display_name": "Python 3",
   "language": "python",
   "name": "python3"
  },
  "language_info": {
   "codemirror_mode": {
    "name": "ipython",
    "version": 3
   },
   "file_extension": ".py",
   "mimetype": "text/x-python",
   "name": "python",
   "nbconvert_exporter": "python",
   "pygments_lexer": "ipython3",
   "version": "3.6.6"
  }
 },
 "nbformat": 4,
 "nbformat_minor": 2
}
