{
 "cells": [
  {
   "cell_type": "code",
   "execution_count": 3,
   "metadata": {},
   "outputs": [],
   "source": [
    "import pandas as pd\n",
    "\n",
    "data = pd.read_csv('name_analysis.csv')"
   ]
  },
  {
   "cell_type": "code",
   "execution_count": 4,
   "metadata": {},
   "outputs": [],
   "source": [
    "data.product_name.value_counts()\n",
    "data['title'] = 0"
   ]
  },
  {
   "cell_type": "code",
   "execution_count": 91,
   "metadata": {},
   "outputs": [
    {
     "data": {
      "text/plain": [
       "'Polaroid PDC-640 0.3MP Digital Camera Creative Kit'"
      ]
     },
     "execution_count": 91,
     "metadata": {},
     "output_type": "execute_result"
    }
   ],
   "source": [
    "data.loc[1, 'product_name']"
   ]
  },
  {
   "cell_type": "code",
   "execution_count": 11,
   "metadata": {},
   "outputs": [],
   "source": [
    "def lambdaa(x):\n",
    "    if 'Canon PowerShot A2500' in x: return 'Canon PowerShot A2500'\n",
    "    \n",
    "    if 'Canon EOS Rebel T3i' in x: return 'Canon EOS Rebel T3i'\n",
    "    \n",
    "    if 'Canon PowerShot SX260' in x: return 'Canon PowerShot SX260'\n",
    "    \n",
    "    if 'Canon PowerShot ELPH 300' in x: return 'Canon PowerShot ELPH 300'\n",
    "    \n",
    "    if 'Nikon D3100' in x: return 'Nikon D3100'\n",
    "    \n",
    "    if 'Canon PowerShot SD1000' in x: return 'Canon PowerShot SD1000'\n",
    "    \n",
    "    if 'Canon PowerShot A2500' in x: return 'Canon PowerShot A2500'\n",
    "    \n",
    "    if 'Canon PowerShot A590IS' in x: return 'Canon PowerShot A590IS'\n",
    "    \n",
    "    if 'Canon PowerShot A2300' in x: return 'Canon PowerShot A2300'\n",
    "    \n",
    "    if 'Canon Digital Rebel XSI' in x: return 'Canon Digital Rebel XSI'\n",
    "    \n",
    "    if 'Nikon D7000 DSLR' in x: return 'Nikon D7000 DSLR'\n",
    "    \n",
    "    if 'Canon PowerShot SD780IS' in x: return 'Canon PowerShot SD780IS'\n",
    "    \n",
    "    if 'Panasonic Lumix DMC-ZS3' in x: return 'Panasonic Lumix DMC-ZS3'\n",
    "    \n",
    "    if 'Panasonic Lumix ZS20' in x: return 'Panasonic Lumix ZS20'\n",
    "    \n",
    "    if 'Canon PowerShot SX50 HS' in x: return 'Canon PowerShot SX50 HS'\n",
    "    \n",
    "    if 'Canon PowerShot SD1200IS' in x: return 'Canon PowerShot SD1200IS'\n",
    "    \n",
    "    if 'Canon EOS Rebel T3' in x: return 'Canon EOS Rebel T3'\n",
    "    \n",
    "    if 'Canon EOS 60D' in x: return 'Canon EOS 60D'\n",
    "    \n",
    "    if 'Canon PowerShot ELPH 110 HS' in x: return 'Canon PowerShot ELPH 110 HS'\n",
    "    \n",
    "    if 'Nikon D5100' in x: return 'Nikon D5100'\n",
    "    \n",
    "    if 'Canon Rebel XTi' in x: return 'Canon Rebel XTi'\n",
    "    \n",
    "    if 'Nikon COOLPIX L820' in x: return 'Nikon COOLPIX L820'\n",
    "    \n",
    "    if 'Canon EOS Rebel T4i' in x: return 'Canon EOS Rebel T4i'\n",
    "    \n",
    "    if 'Panasonic Lumix DMC-ZS7' in x: return 'Panasonic Lumix DMC-ZS7'\n",
    "    \n",
    "    if 'Canon PowerShot S100' in x: return 'Canon PowerShot S100'\n",
    "    \n",
    "    if 'Canon PowerShot S95' in x: return 'Canon PowerShot S95'\n",
    "    \n",
    "    if 'Nikon COOLPIX P510' in x: return 'Nikon COOLPIX P510'\n",
    "    \n",
    "    if 'Canon PowerShot A1400' in x: return 'Canon PowerShot A1400'\n",
    "    \n",
    "    if 'Canon PowerShot D10' in x: return 'Canon PowerShot D10'\n",
    "    \n",
    "    if 'Nikon COOLPIX S9300' in x: return 'Nikon COOLPIX S9300'\n",
    "    \n",
    "    if 'Canon PowerShot SD750' in x: return 'Canon PowerShot SD750'\n",
    "    \n",
    "    if 'Casio EXILIM' in x: return 'Casio EXILIM'\n",
    "    \n",
    "    if 'Samsung Galaxy NX EK-GN120ZKAXAR' in x: return 'Samsung Galaxy NX EK-GN120ZKAXAR'\n",
    "    \n",
    "    if 'Argus DC1512' in x: return 'Argus DC1512'\n",
    "    \n",
    "    if 'Fujifilm Finepix E500' in x: return 'Fujifilm Finepix E500'\n",
    "    \n",
    "    if 'Leica M9' in x: return 'Leica M9'\n",
    "    \n",
    "    if 'Samsung WB35F' in x: return 'Samsung WB35F'\n",
    "    \n",
    "    if 'GE A830' in x: return 'GE A830'\n",
    "    \n",
    "    if 'Konica Minolta Dimage A1' in x: return 'Konica Minolta Dimage A1'\n",
    "    \n",
    "    if 'Vivitar ViviCam 3826' in x: return 'Vivitar ViviCam 3826'\n",
    "    if 'Pentax Optio 330' in x: return 'Pentax Optio 330'\n",
    "    \n",
    "    if 'Argus VGA' in x: return 'Argus VGA'\n",
    "    \n",
    "    if ' Vivitar' in x: return 'Vivitar'\n",
    "    \n",
    "    if 'Panasonic Lumix DMC-FZ1S' in x: return 'Panasonic Lumix DMC-FZ1S'\n",
    "    \n",
    "    if 'NIKON Coolpix S2' in x: return 'NIKON Coolpix S2'\n",
    "    \n",
    "    if 'Sony DSC-F505' in x: return 'Sony DSC-F505'\n",
    "    \n",
    "    if 'Concord EyeQ 4360z' in x: return 'Concord EyeQ 4360z'\n",
    "    \n",
    "    if 'Olympus T-100' in x: return 'Olympus T-100'\n",
    "    \n",
    "    if 'Fujifilm FinePix Z800EXR' in x: return 'Fujifilm FinePix Z800EXR'\n",
    "    \n",
    "    if 'Dolphin 007' in x: return 'Dolphin 007'\n",
    "    \n",
    "    if 'Casio EXILIM' in x: return 'Casio EXILIM'\n",
    "    \n",
    "    if 'Casio EX-Z2000' in x: return 'Casio EX-Z2000'\n",
    "    \n",
    "    if 'Argus DC1512' in x: return 'Argus DC1512'\n",
    "    if 'Canon PowerShot A570IS' in x: return 'Canon PowerShot A570IS'\n",
    "    if 'Nikon Coolpix L22' in x: return 'Nikon Coolpix L22'\n",
    "    if 'Canon PowerShot SD800 IS' in x: return 'Canon PowerShot SD800 IS'\n",
    "    if 'GE Power Pro X500-BK' in x: return 'GE Power Pro X500-BK'\n",
    "    \n",
    "    if 'Canon PowerShot Pro Series S3 IS' in x: return 'Canon PowerShot Pro Series S3 IS'\n",
    "    if 'anon Rebel XT' in x: return 'anon Rebel XT'\n",
    "    if 'Canon PowerShot SX280' in x: return 'Canon PowerShot SX280'\n",
    "    if 'Panasonic Lumix DMC-TZ5S' in x: return 'Panasonic Lumix DMC-TZ5S'\n",
    "    if 'Sony Cyber-shot DSC-WX150' in x: return 'Sony Cyber-shot DSC-WX150'\n",
    "    if 'Panasonic DMC-FH25K' in x: return 'Panasonic DMC-FH25K'\n",
    "    if 'Canon PowerShot SD1300 IS' in x: return 'Canon PowerShot SD1300 IS'\n",
    "    if 'Canon EOS 5D Mark II' in x: return 'Canon EOS 5D Mark II'\n",
    "    if 'Canon PowerShot A4000IS' in x: return 'Canon PowerShot A4000IS'\n",
    "    if 'Nikon Coolpix S8100' in x: return 'Nikon Coolpix S8100'\n",
    "    if 'Nikon COOLPIX L26' in x: return 'Nikon COOLPIX L26'\n",
    "    if 'Canon G12' in x: return 'Canon G12'\n",
    "    if 'Canon Powershot SX110IS' in x: return 'Canon Powershot SX110IS'\n",
    "    if 'Panasonic Lumix DMC-FZ200' in x: return 'Panasonic Lumix DMC-FZ200'\n",
    "    if 'Kodak EasyShare C1530' in x: return 'Kodak EasyShare C1530'\n",
    "    if 'Canon PowerShot A1100IS' in x: return 'Canon PowerShot A1100IS'\n",
    "    if 'Nikon Coolpix S8100' in x: return 'Nikon Coolpix S8100'\n",
    "    if 'Nikon COOLPIX L26' in x: return 'Nikon COOLPIX L26'\n",
    "    if 'Canon G12' in x: return 'Canon G12'\n",
    "    if 'Canon Powershot SX110IS' in x: return 'Canon Powershot SX110IS'\n",
    "    if 'Nikon COOLPIX S9100' in x: return 'Nikon COOLPIX S9100'\n",
    "    if 'Nikon COOLPIX S6300' in x: return 'Nikon COOLPIX S6300'\n",
    "    if 'Canon PowerShot SX210IS' in x: return 'Canon PowerShot SX210IS'\n",
    "    if 'Canon PowerShot SX510' in x: return 'Canon PowerShot SX510'\n",
    "    if 'Nikon Coolpix S3000' in x:return 'Nikon Coolpix S3000'\n",
    "    if 'Canon Powershot A1200' in x: return 'Canon Powershot A1200'\n",
    "    if 'Fujifilm FinePix S1800' in x: return 'Fujifilm FinePix S1800'\n",
    "    if 'Nikon D800' in x: return 'Nikon D800'\n",
    "    if 'Panasonic  Lumix DMC-FZ28K' in x: return 'Panasonic  Lumix DMC-FZ28K'\n",
    "    if 'Sony Cybershot DSCW55' in x: return 'Sony Cybershot DSCW55'\n",
    "    return x"
   ]
  },
  {
   "cell_type": "code",
   "execution_count": 12,
   "metadata": {},
   "outputs": [],
   "source": [
    "data['title'] = data['product_name'].apply(lambdaa)"
   ]
  },
  {
   "cell_type": "code",
   "execution_count": 16,
   "metadata": {
    "scrolled": true
   },
   "outputs": [
    {
     "data": {
      "text/plain": [
       "2122"
      ]
     },
     "execution_count": 16,
     "metadata": {},
     "output_type": "execute_result"
    }
   ],
   "source": [
    "len(data.title.value_counts())\n"
   ]
  }
 ],
 "metadata": {
  "kernelspec": {
   "display_name": "Python 3",
   "language": "python",
   "name": "python3"
  },
  "language_info": {
   "codemirror_mode": {
    "name": "ipython",
    "version": 3
   },
   "file_extension": ".py",
   "mimetype": "text/x-python",
   "name": "python",
   "nbconvert_exporter": "python",
   "pygments_lexer": "ipython3",
   "version": "3.7.3"
  }
 },
 "nbformat": 4,
 "nbformat_minor": 2
}
