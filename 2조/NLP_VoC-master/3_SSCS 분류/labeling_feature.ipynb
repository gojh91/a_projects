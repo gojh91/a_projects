{
 "cells": [
  {
   "cell_type": "code",
   "execution_count": null,
   "metadata": {},
   "outputs": [],
   "source": [
    "# for문으로\n",
    "# def label_feature(data):\n",
    "#     data['feature'] = 0\n",
    "#     f_list = ['pixel','lens','optical','memory','burst','battery','focus','LCD','compression','flash']\n",
    "#     for idx in range(len(data)):\n",
    "#         features = []\n",
    "#         for f in f_list:\n",
    "#             if f in data.loc[idx, 'review']:\n",
    "#                 features.append(f)\n",
    "        \n",
    "#         f_str = ','.join(features)\n",
    "#         data.loc[idx, 'feature'] = f_str\n",
    "    \n",
    "#     return data"
   ]
  },
  {
   "cell_type": "code",
   "execution_count": null,
   "metadata": {},
   "outputs": [],
   "source": [
    "#apply 활용\n",
    "def label_feature(data):\n",
    "    \n",
    "    data['feature'] = data['review']\n",
    "    \n",
    "    def find_feature(text):\n",
    "        fls = []\n",
    "        f_list = ['pixel','lens','optical','memory','burst','battery','focus','lcd','compression','flash']\n",
    "        for f in f_list:\n",
    "            if f in text:\n",
    "                fls.append(f)\n",
    "        if len(fls) == 0 :\n",
    "            return ''\n",
    "        else:\n",
    "            return ','.join(fls)\n",
    "        \n",
    "    data['feature']=data['feature'].apply(find_feature)\n",
    "    \n",
    "    return data"
   ]
  },
  {
   "cell_type": "code",
   "execution_count": null,
   "metadata": {},
   "outputs": [],
   "source": [
    "import pandas as pd\n",
    "data = pd.read_csv('labelingSSCS.csv', engine='python')"
   ]
  },
  {
   "cell_type": "code",
   "execution_count": null,
   "metadata": {},
   "outputs": [],
   "source": [
    "data"
   ]
  },
  {
   "cell_type": "code",
   "execution_count": null,
   "metadata": {},
   "outputs": [],
   "source": [
    "data2 = label_feature(data)\n",
    "data2"
   ]
  },
  {
   "cell_type": "code",
   "execution_count": null,
   "metadata": {},
   "outputs": [],
   "source": [
    "data2.to_csv('feature_labeling.csv',encoding='utf-8', index=False)"
   ]
  },
  {
   "cell_type": "code",
   "execution_count": null,
   "metadata": {},
   "outputs": [],
   "source": []
  }
 ],
 "metadata": {
  "kernelspec": {
   "display_name": "Python 3",
   "language": "python",
   "name": "python3"
  },
  "language_info": {
   "codemirror_mode": {
    "name": "ipython",
    "version": 3
   },
   "file_extension": ".py",
   "mimetype": "text/x-python",
   "name": "python",
   "nbconvert_exporter": "python",
   "pygments_lexer": "ipython3",
   "version": "3.6.6"
  }
 },
 "nbformat": 4,
 "nbformat_minor": 2
}
