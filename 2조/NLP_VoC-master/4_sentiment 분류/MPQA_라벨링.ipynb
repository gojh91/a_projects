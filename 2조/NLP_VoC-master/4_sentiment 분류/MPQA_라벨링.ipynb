{
 "cells": [
  {
   "cell_type": "code",
   "execution_count": null,
   "metadata": {
    "colab": {
     "base_uri": "https://localhost:8080/",
     "height": 802
    },
    "colab_type": "code",
    "id": "R96hWeJzquLi",
    "outputId": "8c3edac5-d10e-4c5f-9698-4eb31d96edb0"
   },
   "outputs": [],
   "source": [
    "import pandas as pd\n",
    "data = pd.read_csv('feature_labeling.csv',engine='python')\n",
    "data"
   ]
  },
  {
   "cell_type": "code",
   "execution_count": null,
   "metadata": {
    "colab": {},
    "colab_type": "code",
    "id": "cbidQ48xrznE"
   },
   "outputs": [],
   "source": [
    "pos = pd.read_excel('positive_words.xlsx')\n",
    "neg = pd.read_excel('negative_words.xlsx')\n",
    "\n",
    "pos.columns = ['pos_MPQA']\n",
    "neg.columns = ['neg_MPQA']"
   ]
  },
  {
   "cell_type": "code",
   "execution_count": null,
   "metadata": {
    "colab": {
     "base_uri": "https://localhost:8080/",
     "height": 204
    },
    "colab_type": "code",
    "id": "V6kZq_ryrfHm",
    "outputId": "e0a39c5a-73af-49e3-a4fc-a2dfc9cf0e40",
    "scrolled": true
   },
   "outputs": [],
   "source": [
    "pos"
   ]
  },
  {
   "cell_type": "code",
   "execution_count": null,
   "metadata": {
    "colab": {
     "base_uri": "https://localhost:8080/",
     "height": 204
    },
    "colab_type": "code",
    "id": "IePtk9evsim3",
    "outputId": "f2f6b692-8a6a-4167-f4b9-dfa49a41db4b",
    "scrolled": true
   },
   "outputs": [],
   "source": [
    "neg"
   ]
  },
  {
   "cell_type": "code",
   "execution_count": null,
   "metadata": {
    "colab": {},
    "colab_type": "code",
    "id": "T_MwLLUJsjlz"
   },
   "outputs": [],
   "source": [
    "pos_list = list(pos['pos_MPQA'])\n",
    "neg_list = list(neg['neg_MPQA'])"
   ]
  },
  {
   "cell_type": "code",
   "execution_count": null,
   "metadata": {
    "colab": {
     "base_uri": "https://localhost:8080/",
     "height": 71
    },
    "colab_type": "code",
    "id": "EhYHwnjEwFRM",
    "outputId": "bdde5d33-4a3d-4da8-cef3-06c23fd18aef"
   },
   "outputs": [],
   "source": [
    "import nltk\n",
    "nltk.download('punkt')"
   ]
  },
  {
   "cell_type": "code",
   "execution_count": null,
   "metadata": {
    "colab": {},
    "colab_type": "code",
    "id": "VUwJKe7PuCNm"
   },
   "outputs": [],
   "source": [
    "def labeling_polarity(df):\n",
    "    from nltk import word_tokenize\n",
    "    df['polarity'] = 0\n",
    "\n",
    "    for i in range(len(df)):\n",
    "\n",
    "        txt = df.loc[i, 'review']\n",
    "        pos_count = 0\n",
    "        neg_count = 0\n",
    "\n",
    "        tokens = word_tokenize(txt)\n",
    "\n",
    "        for token in tokens:\n",
    "            if token in pos_list:\n",
    "                pos_count += 1\n",
    "            elif token in neg_list:\n",
    "                neg_count += 1\n",
    "\n",
    "        if pos_count > neg_count:\n",
    "            df.loc[i, 'polarity'] = 1\n",
    "        elif pos_count < neg_count:\n",
    "            df.loc[i, 'polarity'] = -1\n",
    "      \n",
    "    return df"
   ]
  },
  {
   "cell_type": "code",
   "execution_count": null,
   "metadata": {
    "colab": {
     "base_uri": "https://localhost:8080/",
     "height": 1000
    },
    "colab_type": "code",
    "id": "8etJvUZGvwuj",
    "outputId": "713e2298-991c-4d2f-a0f4-313e9ea5c094"
   },
   "outputs": [],
   "source": [
    "polarity_data = labeling_polarity(data)\n",
    "polarity_data"
   ]
  },
  {
   "cell_type": "code",
   "execution_count": null,
   "metadata": {},
   "outputs": [],
   "source": [
    "len(polarity_data[polarity_data['polarity'] == 1])"
   ]
  },
  {
   "cell_type": "code",
   "execution_count": null,
   "metadata": {},
   "outputs": [],
   "source": [
    "len(polarity_data[polarity_data['polarity'] == -1])"
   ]
  },
  {
   "cell_type": "code",
   "execution_count": null,
   "metadata": {},
   "outputs": [],
   "source": [
    "len(polarity_data[polarity_data['polarity'] == 0])"
   ]
  },
  {
   "cell_type": "code",
   "execution_count": null,
   "metadata": {
    "colab": {},
    "colab_type": "code",
    "id": "19BAu8oHv1Dv"
   },
   "outputs": [],
   "source": [
    "polarity_data.to_csv('polarity_labeling.csv',encoding='utf-8', index=False)"
   ]
  },
  {
   "cell_type": "code",
   "execution_count": null,
   "metadata": {},
   "outputs": [],
   "source": []
  }
 ],
 "metadata": {
  "colab": {
   "collapsed_sections": [],
   "name": "MPQA 라벨링.ipynb",
   "provenance": [],
   "version": "0.3.2"
  },
  "kernelspec": {
   "display_name": "Python 3",
   "language": "python",
   "name": "python3"
  },
  "language_info": {
   "codemirror_mode": {
    "name": "ipython",
    "version": 3
   },
   "file_extension": ".py",
   "mimetype": "text/x-python",
   "name": "python",
   "nbconvert_exporter": "python",
   "pygments_lexer": "ipython3",
   "version": "3.6.6"
  }
 },
 "nbformat": 4,
 "nbformat_minor": 1
}
