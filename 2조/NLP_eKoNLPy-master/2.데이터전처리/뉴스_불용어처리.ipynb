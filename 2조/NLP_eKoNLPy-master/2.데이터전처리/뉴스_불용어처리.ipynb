{
 "cells": [
  {
   "cell_type": "markdown",
   "metadata": {},
   "source": [
    "# 불용어 처리"
   ]
  },
  {
   "cell_type": "code",
   "execution_count": null,
   "metadata": {},
   "outputs": [],
   "source": [
    "\n",
    "from nltk.corpus import stopwords\n",
    "\n",
    "\n",
    "stop_words = ['NR',\n",
    " 'VX', 'VCP', 'VCN', 'MM', 'MAJ', 'IC',\n",
    " 'JKS', 'JKC', 'JKG', 'JKO', 'JKB',\n",
    " 'JKV', 'JKQ', 'JX', 'JC', 'EP', 'EF',\n",
    " 'EC', 'ETN', 'ETM', 'XPN', 'XSN',\n",
    " 'XSV', 'XSA', 'XR', 'SF', 'SE',\n",
    " 'SSO', 'SSC', 'SC', 'SY', 'SL',\n",
    " 'SH', 'SN']\n",
    "\n",
    "\n",
    "up_result = []\n",
    "down_result = []\n",
    "\n",
    "\n",
    "for token_group in added_df['token']:\n",
    "    token = token_group.split(',')\n",
    "    \n",
    "\n",
    "# 상승 토큰\n",
    "for token in added_df[added_df['up_down'] == '상승']['token']:\n",
    "    split = token.split(',')\n",
    "    count = 0\n",
    "    break_ = 0\n",
    "    for t in split:\n",
    "        if len(t.split('/')) > 1:\n",
    "            if t.split('/')[1] not in stop_words:\n",
    "                up_result.append(t)\n",
    "\n",
    "# 하락 토큰\n",
    "for token in added_df[added_df['up_down'] == '하락']['token']:\n",
    "    split = token.split(',')\n",
    "    count = 0\n",
    "    break_ = 0\n",
    "    for t in split:\n",
    "        if len(t.split('/')) > 1:\n",
    "            if t.split('/')[1] not in stop_words:\n",
    "                down_result.append(t)\n",
    "\n"
   ]
  }
 ],
 "metadata": {
  "kernelspec": {
   "display_name": "Python 3",
   "language": "python",
   "name": "python3"
  },
  "language_info": {
   "codemirror_mode": {
    "name": "ipython",
    "version": 3
   },
   "file_extension": ".py",
   "mimetype": "text/x-python",
   "name": "python",
   "nbconvert_exporter": "python",
   "pygments_lexer": "ipython3",
   "version": "3.7.3"
  }
 },
 "nbformat": 4,
 "nbformat_minor": 2
}
