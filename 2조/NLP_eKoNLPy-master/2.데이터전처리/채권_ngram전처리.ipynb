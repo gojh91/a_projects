{
 "cells": [
  {
   "cell_type": "code",
   "execution_count": 33,
   "metadata": {},
   "outputs": [],
   "source": [
    "import pandas as pd"
   ]
  },
  {
   "cell_type": "code",
   "execution_count": 34,
   "metadata": {},
   "outputs": [],
   "source": [
    "df_bond = pd.read_csv('bond_Labeling.csv', encoding='utf-8', engine='python')"
   ]
  },
  {
   "cell_type": "code",
   "execution_count": 35,
   "metadata": {},
   "outputs": [],
   "source": [
    "#유니그램 불용어 처리 함수. 문자열을 넣으세요.\n",
    "def wordClass (text):\n",
    "    #문자열 리스트화\n",
    "    ltext = text.split(', ')\n",
    "    \n",
    "    #n-gram 및 유니그램 구분, 유니그램 내 불용어 제거\n",
    "    word_proc=[]\n",
    "    for word in ltext:\n",
    "        tmp = word.split(';')\n",
    "        \n",
    "        #n-gram 일 경우 새 리스트에 추가, 그대로 넘김\n",
    "        if len(tmp) >= 2:\n",
    "            word_proc.append(word)\n",
    "        \n",
    "        #유니그램 일 경우    \n",
    "        else:\n",
    "            try:\n",
    "                tag = tmp[0].split('/')\n",
    "                if tag[1] in ['MAG', 'VA', 'NNG', 'VV']:\n",
    "                    word_proc.append(word)\n",
    "            except:\n",
    "                continue\n",
    "    \n",
    "    #리스트 문자열화\n",
    "    text_proc=\", \".join(word_proc)\n",
    "    \n",
    "    #리턴\n",
    "    return text_proc"
   ]
  },
  {
   "cell_type": "code",
   "execution_count": 36,
   "metadata": {},
   "outputs": [],
   "source": [
    "#유니그램 불용어 처리 함수 버전2 불용어들 기준으로. 문자열을 넣으세요.\n",
    "def wordClass_del(text):\n",
    "    #문자열 리스트화\n",
    "    ltext = text.split(', ')\n",
    "    \n",
    "    #n-gram 및 유니그램 구분, 유니그램 내 불용어 제거\n",
    "    word_proc=[]\n",
    "    for word in ltext:\n",
    "        tmp = word.split(';')\n",
    "        \n",
    "        #n-gram 일 경우 새 리스트에 추가, 그대로 넘김\n",
    "        if len(tmp) >= 2:\n",
    "            word_proc.append(word)\n",
    "        \n",
    "        #유니그램 일 경우    \n",
    "        else:\n",
    "            try:\n",
    "                tag = tmp[0].split('/')\n",
    "                if not tag[1] in ['NR',\n",
    "                                 'VX',\n",
    "                                 'VCP',\n",
    "                                 'VCN',\n",
    "                                 'MM',\n",
    "                                 'MAJ',\n",
    "                                 'IC',\n",
    "                                 'JKS',\n",
    "                                 'JKC',\n",
    "                                 'JKG',\n",
    "                                 'JKO',\n",
    "                                 'JKB',\n",
    "                                 'JKV',\n",
    "                                 'JKQ',\n",
    "                                 'JX',\n",
    "                                 'JC',\n",
    "                                 'EP',\n",
    "                                 'EF',\n",
    "                                 'EC',\n",
    "                                 'ETN',\n",
    "                                 'ETM',\n",
    "                                 'XPN',\n",
    "                                 'XSN',\n",
    "                                 'XSV',\n",
    "                                 'XSA',\n",
    "                                 'XR',\n",
    "                                 'SF',\n",
    "                                 'SE',\n",
    "                                 'SSO',\n",
    "                                 'SSC',\n",
    "                                 'SC',\n",
    "                                 'SY',\n",
    "                                 'SL',\n",
    "                                 'SH',\n",
    "                                 'SN']:\n",
    "                    word_proc.append(word)\n",
    "            except:\n",
    "                continue\n",
    "    #리스트 문자열화\n",
    "    text_proc=\", \".join(word_proc)\n",
    "    \n",
    "    #리턴\n",
    "    return text_proc               "
   ]
  },
  {
   "cell_type": "code",
   "execution_count": 37,
   "metadata": {},
   "outputs": [],
   "source": [
    "#n-gram 칼럼의 값들을 함수 적용\n",
    "df_bond2=df_bond.copy()\n",
    "# df_bond['n-gram']=df_bond['n-gram'].apply(wordClass_del) #불용어 기준으로 데이터 처리\n",
    "df_bond2['n-gram']=df_bond['n-gram'].apply(wordClass) #필수 품사 기준으로 데이터 처리"
   ]
  },
  {
   "cell_type": "code",
   "execution_count": 38,
   "metadata": {},
   "outputs": [],
   "source": [
    "# print('불용어 기준 : ',len(df_bond['n-gram'][500].split(', ')),'필수 품사 기준 : ',len(df_bond2['n-gram'][500].split(', ')))"
   ]
  },
  {
   "cell_type": "code",
   "execution_count": 41,
   "metadata": {},
   "outputs": [],
   "source": [
    "df_bond2.columns=['date','n-gram','label']"
   ]
  },
  {
   "cell_type": "code",
   "execution_count": 42,
   "metadata": {},
   "outputs": [],
   "source": [
    "#csv로 쓰기\n",
    "df_bond2.to_csv('bond_wordprocessing.csv', encoding='utf-8', index=False)"
   ]
  },
  {
   "cell_type": "code",
   "execution_count": null,
   "metadata": {},
   "outputs": [],
   "source": []
  }
 ],
 "metadata": {
  "kernelspec": {
   "display_name": "Python 3",
   "language": "python",
   "name": "python3"
  },
  "language_info": {
   "codemirror_mode": {
    "name": "ipython",
    "version": 3
   },
   "file_extension": ".py",
   "mimetype": "text/x-python",
   "name": "python",
   "nbconvert_exporter": "python",
   "pygments_lexer": "ipython3",
   "version": "3.7.3"
  }
 },
 "nbformat": 4,
 "nbformat_minor": 2
}
