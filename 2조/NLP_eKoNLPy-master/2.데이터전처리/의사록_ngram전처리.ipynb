{
 "cells": [
  {
   "cell_type": "code",
   "execution_count": null,
   "metadata": {},
   "outputs": [],
   "source": [
    "df_t['ngrams'] = 0\n",
    "df_t.head(2)"
   ]
  },
  {
   "cell_type": "code",
   "execution_count": null,
   "metadata": {},
   "outputs": [],
   "source": [
    "from ekonlpy.sentiment import MPCK\n",
    "\n",
    "def text2ngram(text):\n",
    "    mpck = MPCK()\n",
    "    bef_tokens = mpck.tokenize(text)\n",
    "    ngrams = mpck.ngramize(bef_tokens)\n",
    "    \n",
    "    # 불용어 처리\n",
    "    stop_words = ['NR','VX','VCP','VCN','MM','MAJ','IC','JKS','JKC','JKG','JKO','JKB','JKV','JKQ','JX','JC','EP','EF','EC','ETN','ETM','XPN','XSN','XSV','XSA','XR','SF','SE','SSO','SSC','SC','SY','SL','SH','SN']\n",
    "    new_tokens = []\n",
    "    for token in bef_tokens:\n",
    "        t = token.split('/')[1]\n",
    "        if t not in stop_words:\n",
    "            stop_words.append(token)\n",
    "    return bef_tokens + ngrams"
   ]
  },
  {
   "cell_type": "code",
   "execution_count": null,
   "metadata": {},
   "outputs": [],
   "source": [
    "for i in range(len(df_t)):\n",
    "    txt1 = df_t.loc[i, 's2']\n",
    "    txt2 = df_t.loc[i, 's3']\n",
    "    \n",
    "    tokens = text2ngram(txt1) + text2ngram(txt2)\n",
    "    df_t.loc[i, 'ngrams'] = ','.join(tokens)\n",
    "    \n",
    "    if i%10 == 0:\n",
    "        print(i)"
   ]
  }
 ],
 "metadata": {
  "kernelspec": {
   "display_name": "Python 3",
   "language": "python",
   "name": "python3"
  },
  "language_info": {
   "codemirror_mode": {
    "name": "ipython",
    "version": 3
   },
   "file_extension": ".py",
   "mimetype": "text/x-python",
   "name": "python",
   "nbconvert_exporter": "python",
   "pygments_lexer": "ipython3",
   "version": "3.7.3"
  }
 },
 "nbformat": 4,
 "nbformat_minor": 2
}
