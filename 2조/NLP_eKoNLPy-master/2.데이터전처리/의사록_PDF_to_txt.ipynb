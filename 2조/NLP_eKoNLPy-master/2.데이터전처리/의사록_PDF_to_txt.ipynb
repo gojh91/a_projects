{
 "cells": [
  {
   "cell_type": "code",
   "execution_count": null,
   "metadata": {},
   "outputs": [],
   "source": [
    "import re\n",
    "from tika import parser\n",
    "from os import listdir\n",
    "from os.path import isfile, join\n",
    "\n",
    "# 폴더내 pdf파일을 txt 파일로 변경\n",
    "def pdf2txt (source_folder=\"./data/minutes/pdf/\", output_folder=\"./data/minutes/txt/\") :\n",
    "    # 지정 폴더 내 파일 목록 조회 (파일만)\n",
    "    pdf_files = [f for f in listdir(source_folder) if isfile(join(source_folder, f))]\n",
    "    \n",
    "    for pdf in pdf_files :\n",
    "        pdf_filepath = source_folder + pdf\n",
    "        # pdf 파일을 text로 변환\n",
    "        print(pdf_filepath)\n",
    "        parsedPDF = parser.from_file(pdf_filepath)[\"content\"]\n",
    "        \n",
    "        with open((output_folder + pdf).replace('.pdf', '.txt'), 'w') as f :\n",
    "            f.write(parsedPDF)\n",
    "            f.close()    \n",
    "            \n",
    "pdf2txt()"
   ]
  },
  {
   "cell_type": "code",
   "execution_count": null,
   "metadata": {},
   "outputs": [],
   "source": [
    "import pandas as pd\n",
    "from datetime import date\n",
    "def txt2csv (source_folder) :\n",
    "    txt_files = [f for f in listdir(source_folder) if isfile(join(source_folder, f))]\n",
    "    result = []\n",
    "    for txt in txt_files :\n",
    "        if txt[-3:] != 'pdf':\n",
    "            time = txt.split('(')\n",
    "            time = time[2][:-5]\n",
    "        \n",
    "            txt_filepath = source_folder + txt    \n",
    "            with open(txt_filepath, 'rb') as f:\n",
    "                text = f.read()\n",
    "\n",
    "            new_dict = {\n",
    "                'time' : time,\n",
    "                'text' : text\n",
    "            }\n",
    "            result.append(new_dict)\n",
    "\n",
    "    df = pd.DataFrame(result)                \n",
    "    temp_name = f\"금통위의사록(텍스트파일).xlsx\"\n",
    "    txt_name = os.path.join(source_folder, temp_name)\n",
    "    excel_writer = pd.ExcelWriter(txt_name, engine = 'xlsxwriter')\n",
    "\n",
    "    df.to_excel(excel_writer)\n",
    "\n",
    "    excel_writer.save()"
   ]
  }
 ],
 "metadata": {
  "kernelspec": {
   "display_name": "Python 3",
   "language": "python",
   "name": "python3"
  },
  "language_info": {
   "codemirror_mode": {
    "name": "ipython",
    "version": 3
   },
   "file_extension": ".py",
   "mimetype": "text/x-python",
   "name": "python",
   "nbconvert_exporter": "python",
   "pygments_lexer": "ipython3",
   "version": "3.7.3"
  }
 },
 "nbformat": 4,
 "nbformat_minor": 2
}
