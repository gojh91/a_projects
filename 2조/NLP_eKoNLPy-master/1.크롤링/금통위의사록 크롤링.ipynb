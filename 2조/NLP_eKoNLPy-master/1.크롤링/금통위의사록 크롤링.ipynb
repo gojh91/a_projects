{
 "cells": [
  {
   "cell_type": "code",
   "execution_count": null,
   "metadata": {},
   "outputs": [],
   "source": [
    "import requests\n",
    "from bs4 import BeautifulSoup\n",
    "import os\n",
    "import pandas as pd"
   ]
  },
  {
   "cell_type": "code",
   "execution_count": null,
   "metadata": {},
   "outputs": [],
   "source": [
    "for i in range(1, 45):\n",
    "    b_url = 'http://www.bok.or.kr/portal/bbs/B0000245/list.do?menuNo=200761'\n",
    "    params = {\n",
    "    'pageIndex' : i\n",
    "    }\n",
    "    resp = requests.get(b_url, params = params)\n",
    "    soup = BeautifulSoup(resp.content)\n",
    "    \n",
    "    # 하위 수준의 li를 제거하기 위한 코드\n",
    "    # 첫번째 li를 find로 찾은 후 sibling으로 형제수준만 뽑아냄\n",
    "    li_list = []\n",
    "    li= soup.find('div', class_='bdLine type2').find('ul').find('li')\n",
    "    li_li = li.find_next_siblings('li')\n",
    "    li_list.append(li)\n",
    "    li_list.extend(li_li)\n",
    "    \n",
    "    print(i)\n",
    "    \n",
    "    # 저장 위치 설정\n",
    "    BASE_DIR = os.getcwd()\n",
    "    SAVE_DB_DIR = os.path.join(BASE_DIR, 'gold')\n",
    "    if not os.path.exists(SAVE_DB_DIR):\n",
    "        os.makedirs(SAVE_DB_DIR)\n",
    "\n",
    "    # pdf파일 만들기\n",
    "    result_list = []\n",
    "    try:\n",
    "        for x in range(0, len(li_list)):\n",
    "            new_dict = {}\n",
    "            link_li = li_list[x].find('div', class_='fileGoupBox').find('ul').find_all('li')\n",
    "\n",
    "            # 05년 이전 데이터는 pdf파일이 존재하지 않아, 오류\n",
    "            # 05년 부터의 데이터는 pdf와 hwp 파일 모두 존재\n",
    "            # 두 파일의 순서가 제각각이라 if문을 이용하여 pdf파일만 선택함\n",
    "            for link in link_li:C\n",
    "\n",
    "                if link.find('a').attrs['title'][-3:] == 'pdf':\n",
    "                    link_u = link.find('a').attrs['href']\n",
    "                    title = li_list[x].find('div', class_='row').find('span').find('a').find('span').find('span').text\n",
    "                    url2 = 'http://www.bok.or.kr' + link_u\n",
    "\n",
    "                    # 다운로드 링크를 requests.get을 사용하여 텍스트 출력\n",
    "                    # 추후 pdf가 아닌 txt형식으로 저장하여 다음 단계를 생략할 수 있는지 여부 확인 필\n",
    "                    file_res2 = requests.get(url2)\n",
    "                    file_name = '{}.pdf'.format(title)\n",
    "\n",
    "                    txt_name = os.path.join(SAVE_DB_DIR, file_name)\n",
    "\n",
    "                    with open(txt_name, 'wb') as f:\n",
    "                        f.write(file_res2.content)\n",
    "    except:\n",
    "        print(\"get url.content error and pass page{i}, {x} it\".format(pageIndex))"
   ]
  },
  {
   "cell_type": "code",
   "execution_count": null,
   "metadata": {},
   "outputs": [],
   "source": []
  },
  {
   "cell_type": "code",
   "execution_count": null,
   "metadata": {},
   "outputs": [],
   "source": []
  }
 ],
 "metadata": {
  "kernelspec": {
   "display_name": "Python 3",
   "language": "python",
   "name": "python3"
  },
  "language_info": {
   "codemirror_mode": {
    "name": "ipython",
    "version": 3
   },
   "file_extension": ".py",
   "mimetype": "text/x-python",
   "name": "python",
   "nbconvert_exporter": "python",
   "pygments_lexer": "ipython3",
   "version": "3.7.3"
  }
 },
 "nbformat": 4,
 "nbformat_minor": 2
}
