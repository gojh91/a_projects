{
 "cells": [
  {
   "cell_type": "code",
   "execution_count": null,
   "metadata": {},
   "outputs": [],
   "source": [
    "import requests\n",
    "from bs4 import BeautifulSoup\n",
    "import pandas as pd\n",
    "from datetime import date"
   ]
  },
  {
   "cell_type": "code",
   "execution_count": null,
   "metadata": {},
   "outputs": [],
   "source": [
    "def crawl_call():\n",
    "    result_list = []\n",
    "    for num in range(1, 530):\n",
    "        url = 'https://finance.naver.com/marketindex/interestDailyQuote.nhn?marketindexCd=IRR_CALL'\n",
    "        params = {\n",
    "            'page' : num\n",
    "        }\n",
    "        resp = requests.get(url, params = params)\n",
    "        soup = BeautifulSoup(resp.content)\n",
    "        tr_list = soup.find_all('tr')[1:]\n",
    "        for tr in tr_list:\n",
    "            time = tr.find_all('td')[0].text.strip()\n",
    "            a = time.split('.')\n",
    "            time2 = date(int(a[0]), int(a[1]), int(a[2]))\n",
    "            price = tr.find_all('td')[1].text\n",
    "\n",
    "            new_dict = {\n",
    "                'date' : time2,\n",
    "                'price' : price\n",
    "            }\n",
    "            result_list.append(new_dict)\n",
    "\n",
    "    df = pd.DataFrame(result_list)\n",
    "    df = df.set_index('date')\n",
    "    \n",
    "    return df"
   ]
  },
  {
   "cell_type": "code",
   "execution_count": null,
   "metadata": {},
   "outputs": [],
   "source": []
  },
  {
   "cell_type": "markdown",
   "metadata": {},
   "source": [
    "# 데이터 전처리\n",
    " - 공휴일 콜금리 데이터 처리\n",
    " - 한달 전 데이터와 비교하여 상승 / 0 / 하락 라벨링"
   ]
  },
  {
   "cell_type": "markdown",
   "metadata": {},
   "source": [
    "### 비어있는 콜금리 데이터 처리"
   ]
  },
  {
   "cell_type": "code",
   "execution_count": null,
   "metadata": {},
   "outputs": [],
   "source": [
    "import pandas as pd\n",
    "from datetime import date, timedelta"
   ]
  },
  {
   "cell_type": "code",
   "execution_count": null,
   "metadata": {},
   "outputs": [],
   "source": [
    "def fill_call(df):\n",
    "    date_data = pd.DataFrame(columns = ['date'])\n",
    "    start = date(2004, 8, 20)\n",
    "    end = date(2019, 7, 19)\n",
    "    for n in range(int((end - start).days) + 1):\n",
    "        date_data.loc[n, 'date'] = start + timedelta(n)\n",
    "        \n",
    "    call = date_data.merge(df, on = 'date', how = 'outer')\n",
    "    call['price'] = call['price'].fillna(method='ffill')\n",
    "    call = call.set_index('date')\n",
    "    \n",
    "    return call"
   ]
  },
  {
   "cell_type": "code",
   "execution_count": null,
   "metadata": {},
   "outputs": [],
   "source": []
  },
  {
   "cell_type": "markdown",
   "metadata": {},
   "source": [
    "### 라벨링"
   ]
  },
  {
   "cell_type": "code",
   "execution_count": null,
   "metadata": {},
   "outputs": [],
   "source": [
    "def up_down_call(df):\n",
    "    df_ud = pd.DataFrame(index = df.index, columns = ['up_down'])\n",
    "    for i in range(len(df.index)):\n",
    "        time = df.index[i]\n",
    "        time2 = df.index[i] - pd.DateOffset(months = 1)\n",
    "        \n",
    "        if time.year >= 2005:\n",
    "\n",
    "            while time2.date() not in df.index:\n",
    "                time2 = time2 - pd.DateOffset(days = 1)\n",
    "\n",
    "            if df.loc[time].price > df.loc[time2.date()].price:\n",
    "                df_ud['up_down'][i] = '상승'\n",
    "            elif df.loc[time].price == df.loc[time2.date()].price:\n",
    "                df_ud['up_down'][i] = 0\n",
    "            else:\n",
    "                df_ud['up_down'][i] = '하락'\n",
    "    \n",
    "    call = df.join(df_ud, on = 'date', how = 'outer')\n",
    "    call = call.loc[date(2005, 1, 1):]\n",
    "    return call"
   ]
  }
 ],
 "metadata": {
  "kernelspec": {
   "display_name": "Python 3",
   "language": "python",
   "name": "python3"
  },
  "language_info": {
   "codemirror_mode": {
    "name": "ipython",
    "version": 3
   },
   "file_extension": ".py",
   "mimetype": "text/x-python",
   "name": "python",
   "nbconvert_exporter": "python",
   "pygments_lexer": "ipython3",
   "version": "3.7.3"
  }
 },
 "nbformat": 4,
 "nbformat_minor": 2
}
