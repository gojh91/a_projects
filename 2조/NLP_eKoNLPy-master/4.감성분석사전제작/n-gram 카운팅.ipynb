{
 "cells": [
  {
   "cell_type": "code",
   "execution_count": null,
   "metadata": {},
   "outputs": [],
   "source": [
    "def count_data(df):\n",
    "    df_up = pd.DataFrame(df[df['up_down'] == '상승'])\n",
    "    df_up = df_up.reset_index(drop=True)\n",
    "    df_down = pd.DataFrame(df[df['up_down'] == '하락'])\n",
    "    df_down = df_down.reset_index(drop=True)\n",
    "    \n",
    "    up_list = []\n",
    "    down_list = []\n",
    "    \n",
    "    # up/down 카운트한 데이터 각각 만들기\n",
    "    for i in range(len(df_up)):\n",
    "        up_list.extend(df_up.loc[i, 'ngrams'].split(','))\n",
    "    dfup = pd.DataFrame(up_list, columns = ['ngram'])\n",
    "    dataup = dfup['ngram'].value_counts()\n",
    "    up_df = pd.DataFrame(dataup)\n",
    "    # up_df 만들 때 해당 데이터 이름으로 컬럼명이 입력됨\n",
    "    # 별도의 컬럼명을 입력하면 데이터가 다 지워짐\n",
    "    # 아래 코드로 별도 작성 필요\n",
    "    up_df.columns = ['up_counts']\n",
    "    \n",
    "    for i in range(len(df_down)):\n",
    "        down_list.extend(df_down.loc[i, 'ngrams'].split(','))\n",
    "    dfdown = pd.DataFrame(down_list, columns = ['ngram'])\n",
    "    datadown = dfdown['ngram'].value_counts()\n",
    "    down_df = pd.DataFrame(datadown)\n",
    "    down_df.columns = ['down_counts']\n",
    "    \n",
    "    idx_list = up_list + down_list\n",
    "    # 중복된 ngram제거\n",
    "    idx_list = list(set(idx_list))\n",
    "    \n",
    "    # 만들어진 ngram를 인덱스로 하는 데이터프레임 생성\n",
    "    updown_data=pd.DataFrame(index=idx_list)\n",
    "    updown_data = pd.concat([updown_data, up_df, down_df],axis=1,sort=False)\n",
    "    \n",
    "    # 비어있는 열 삭제\n",
    "    up_down = updown_data[updown_data.index != '']\n",
    "    # 확률 era를 막기 위해 빈값에 1 입력\n",
    "    up_down = up_down.fillna(1)\n",
    "    return up_down"
   ]
  }
 ],
 "metadata": {
  "kernelspec": {
   "display_name": "Python 3",
   "language": "python",
   "name": "python3"
  },
  "language_info": {
   "codemirror_mode": {
    "name": "ipython",
    "version": 3
   },
   "file_extension": ".py",
   "mimetype": "text/x-python",
   "name": "python",
   "nbconvert_exporter": "python",
   "pygments_lexer": "ipython3",
   "version": "3.7.3"
  }
 },
 "nbformat": 4,
 "nbformat_minor": 2
}
