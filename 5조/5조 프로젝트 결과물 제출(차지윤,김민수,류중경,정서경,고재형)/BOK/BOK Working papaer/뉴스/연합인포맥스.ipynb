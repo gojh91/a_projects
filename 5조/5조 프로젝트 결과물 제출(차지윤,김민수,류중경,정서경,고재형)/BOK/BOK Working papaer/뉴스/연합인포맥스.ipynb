{
 "cells": [
  {
   "cell_type": "markdown",
   "metadata": {},
   "source": [
    "##### 1. 텍스트를 불러오기\n",
    "2. pandas 로 데이터 형식 바꾸기\n",
    "3. 컨텐츠를 .space 로 seperate.\n",
    "4. 문장을 토크나이즈."
   ]
  },
  {
   "cell_type": "code",
   "execution_count": 1,
   "metadata": {},
   "outputs": [],
   "source": [
    "import pandas as pd"
   ]
  },
  {
   "cell_type": "code",
   "execution_count": 16,
   "metadata": {},
   "outputs": [],
   "source": [
    "list_a = [\n",
    "    r'C:\\Users\\dty\\Documents\\github\\NLP\\scrapy\\금융크롤링\\네이버 금융\\naver_fc\\연합인포맥스2005.csv',\n",
    "    r'C:\\Users\\dty\\Documents\\github\\NLP\\scrapy\\금융크롤링\\네이버 금융\\naver_fc\\연합인포맥스2006_2012.csv',\n",
    "    r'C:\\Users\\dty\\Documents\\github\\NLP\\scrapy\\금융크롤링\\네이버 금융\\naver_fc\\연합인포맥스2013.csv',\n",
    "    r'C:\\Users\\dty\\Documents\\github\\NLP\\scrapy\\금융크롤링\\네이버 금융\\naver_fc\\연합인포맥스2014.csv',\n",
    "    r'C:\\Users\\dty\\Documents\\github\\NLP\\scrapy\\금융크롤링\\네이버 금융\\naver_fc\\연합인포맥스2015.csv',\n",
    "    r'C:\\Users\\dty\\Documents\\github\\NLP\\scrapy\\금융크롤링\\네이버 금융\\naver_fc\\연합인포맥스2016.csv',\n",
    "    r'C:\\Users\\dty\\Documents\\github\\NLP\\scrapy\\금융크롤링\\네이버 금융\\naver_fc\\연합인포맥스2017.csv',\n",
    "]"
   ]
  },
  {
   "cell_type": "code",
   "execution_count": 40,
   "metadata": {},
   "outputs": [],
   "source": [
    "df1 = pd.DataFrame()\n",
    "\n",
    "for list_b in list_a:\n",
    "    df = pd.read_csv(list_b, header=0)\n",
    "    df = df.dropna()\n",
    "    for idx in range(0, len(df)):\n",
    "        df.iloc[idx][1] = df.iloc[idx][1][:10]\n",
    "        if df.iloc[idx][0] == '[ ]':\n",
    "            df.iloc[idx][1] = None\n",
    "        if df.iloc[idx][0] == '[ (끝) ]':\n",
    "            df.iloc[idx][1] = None\n",
    "        if df.iloc[idx][0] == '[, , , , , , , , , , , , , ]' or df.iloc[idx][0] == '[ sglee@yna.co.kr (끝) ]':\n",
    "            df.iloc[idx][1] = None\n",
    "    df = df.dropna()\n",
    "    pd.to_datetime(df['date'])\n",
    "    df=df.set_index('date')\n",
    "    df=df.sort_index() \n",
    "    df1 = df1.append(df)"
   ]
  },
  {
   "cell_type": "code",
   "execution_count": 41,
   "metadata": {},
   "outputs": [],
   "source": [
    "df1 = df1.sort_index()\n",
    "df1.to_csv(r\"C:\\Users\\dty\\Documents\\github\\NLP\\scrapy\\blog\\Blogtest2.csv\", mode='a', header=True)"
   ]
  }
 ],
 "metadata": {
  "kernelspec": {
   "display_name": "Python 3",
   "language": "python",
   "name": "python3"
  },
  "language_info": {
   "codemirror_mode": {
    "name": "ipython",
    "version": 3
   },
   "file_extension": ".py",
   "mimetype": "text/x-python",
   "name": "python",
   "nbconvert_exporter": "python",
   "pygments_lexer": "ipython3",
   "version": "3.6.8"
  }
 },
 "nbformat": 4,
 "nbformat_minor": 2
}
