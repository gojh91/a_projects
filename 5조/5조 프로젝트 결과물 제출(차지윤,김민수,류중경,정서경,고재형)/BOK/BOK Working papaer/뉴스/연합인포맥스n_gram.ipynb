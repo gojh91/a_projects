{
 "cells": [
  {
   "cell_type": "code",
   "execution_count": null,
   "metadata": {},
   "outputs": [],
   "source": [
    "import pandas as pd\n",
    "from ekonlpy.sentiment import MPCK\n",
    "\n",
    "def text2ngram(text):\n",
    "    mpck = MPCK()\n",
    "    bef_tokens = mpck.tokenize(text)\n",
    "    ngrams = mpck.ngramize(bef_tokens)"
   ]
  },
  {
   "cell_type": "code",
   "execution_count": null,
   "metadata": {},
   "outputs": [],
   "source": [
    "import re"
   ]
  },
  {
   "cell_type": "code",
   "execution_count": null,
   "metadata": {},
   "outputs": [],
   "source": [
    "df = pd.read_csv(r'C:\\Users\\dty\\Documents\\github\\NLP\\scrapy\\blog\\연합인포맥스.csv', header=0)"
   ]
  },
  {
   "cell_type": "code",
   "execution_count": null,
   "metadata": {},
   "outputs": [],
   "source": [
    "df = pd.read_csv(r'C:\\Users\\dty\\Documents\\github\\NLP\\scrapy\\blog\\연합인포맥스.csv', header=0)\n",
    "for idx in range(0, len(df)):\n",
    "    df.iloc[idx][1]=re.sub(r'(\\S[끝]\\S)|(\\S..\\S연합인포맥스\\S)|(자료:)|(\\S\\S\\S특파원)|(\\S\\S\\S\\s특파원)|(\\S\\S\\S기자)|(\\S\\S\\S\\s기자)|[(\\u2e80-\\u2eff\\u31c0-\\u31ef\\u3200-\\u32ff\\u3400-\\u4dbf\\u4e00-\\u9fbf\\uf900-\\ufaff)]|[!@&*-_$#=`[◆◇℃％㎡…→☎ㆍ』~∼▲△%]|\\d|[a-zA-Z0-9_.+-]+@[a-zA-Z0-9-]+\\.[a-zA-Z0-9-.]+','',df.iloc[idx][1])"
   ]
  },
  {
   "cell_type": "code",
   "execution_count": null,
   "metadata": {},
   "outputs": [],
   "source": [
    "df.content[120000]"
   ]
  },
  {
   "cell_type": "code",
   "execution_count": null,
   "metadata": {},
   "outputs": [],
   "source": [
    "df.loc[0, 'tokens'] = None\n",
    "df.loc[0, 'ngram'] = None\n",
    "df.head()"
   ]
  },
  {
   "cell_type": "code",
   "execution_count": null,
   "metadata": {},
   "outputs": [],
   "source": [
    "mpck = MPCK()\n",
    "for idx in range(0, len(df)):\n",
    "    bef_tokens = mpck.tokenize(df.iloc[idx][1])\n",
    "    a= ','.join(bef_tokens)\n",
    "    df.tokens[idx] = a\n",
    "    b= ','.join(mpck.ngramize(bef_tokens))\n",
    "    df.ngram[idx] = b\n",
    "    if idx%1000 == 0:\n",
    "        print(100/len(df)*idx)"
   ]
  },
  {
   "cell_type": "code",
   "execution_count": null,
   "metadata": {},
   "outputs": [],
   "source": [
    "len(df.tokens[0])"
   ]
  },
  {
   "cell_type": "code",
   "execution_count": null,
   "metadata": {},
   "outputs": [],
   "source": [
    "df.to_csv(r\"C:\\Users\\dty\\Documents\\github\\NLP\\연합인포맥스n_gram.csv\", mode='a', header=True)"
   ]
  },
  {
   "cell_type": "code",
   "execution_count": null,
   "metadata": {},
   "outputs": [],
   "source": [
    "df.content[2]"
   ]
  },
  {
   "cell_type": "code",
   "execution_count": null,
   "metadata": {},
   "outputs": [],
   "source": []
  }
 ],
 "metadata": {
  "kernelspec": {
   "display_name": "Python 3",
   "language": "python",
   "name": "python3"
  },
  "language_info": {
   "codemirror_mode": {
    "name": "ipython",
    "version": 3
   },
   "file_extension": ".py",
   "mimetype": "text/x-python",
   "name": "python",
   "nbconvert_exporter": "python",
   "pygments_lexer": "ipython3",
   "version": "3.6.8"
  }
 },
 "nbformat": 4,
 "nbformat_minor": 2
}
