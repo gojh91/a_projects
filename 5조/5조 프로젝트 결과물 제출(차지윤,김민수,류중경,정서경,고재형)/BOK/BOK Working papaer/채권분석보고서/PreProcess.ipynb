{
 "cells": [
  {
   "cell_type": "code",
   "execution_count": null,
   "metadata": {},
   "outputs": [],
   "source": [
    "import re\n",
    "from tika import parser\n",
    "from os import listdir\n",
    "from os.path import isfile, join\n",
    "import shutil\n",
    "import pandas as pd\n",
    "source_folder = './text'\n",
    "new_list = []\n",
    "report_df = pd.DataFrame(columns = ['bank','date','title'])\n",
    "\n",
    "pdf_files = [f for f in listdir(source_folder) if isfile(join(source_folder, f))]\n",
    "print(pdf_files[0].split('_')[1])\n",
    "for i in pdf_files:\n",
    "    try:\n",
    "        sub = open('./text/'+i,'r',encoding = 'utf-8')\n",
    "        new_list.append({\n",
    "            'bank_name':i.split('_')[0],\n",
    "            'date':i.split('_')[1],\n",
    "            'title':i.split('_')[2],\n",
    "            'sub':sub.read().replace('\\n',' ')\n",
    "        })\n",
    "        sub.close()\n",
    "    except Exception as e:\n",
    "        print(i)\n",
    "        print(e)\n",
    "        pass"
   ]
  },
  {
   "cell_type": "code",
   "execution_count": null,
   "metadata": {},
   "outputs": [],
   "source": [
    "report_df = pd.DataFrame(columns = ['bank','date','title','sub'])\n",
    "report_df= pd.DataFrame(new_list)\n",
    "report_df = report_df[['date','bank_name','title','sub']]\n",
    "for i in range(len(report_df['date'])):\n",
    "    report_df['date'][i] = '20'+report_df['date'][i]\n",
    "#     print(report_df['date'][i])\n",
    "report_df.index = report_df['date']\n",
    "report_df = report_df.drop(columns = ['date'])\n",
    "report_df.index = pd.DatetimeIndex(report_df.index)\n",
    "report_df.loc['2016-08-22','ngrams'] = ''\n",
    "report_df.loc['2016-08-22','tokens'] = ''\n",
    "report_df.loc['2016-08-22','score'] = ''"
   ]
  },
  {
   "cell_type": "code",
   "execution_count": null,
   "metadata": {},
   "outputs": [],
   "source": [
    "from ekonlpy.sentiment import MPCK\n",
    "for i in range(len(report_df)):\n",
    "    mpck = MPCK()\n",
    "    try:\n",
    "        tokens = mpck.tokenize(report_df['sub'][i])\n",
    "        a = ','.join(tokens)\n",
    "        ngrams = mpck.ngramize(tokens)\n",
    "        b=','.join(ngrams)\n",
    "        score = mpck.classify(tokens + ngrams,intensity_cutoff=1.5)\n",
    "        report_df.ngrams[i] = b\n",
    "        report_df.score[i] = score\n",
    "        report_df.tokens[i] = a\n",
    "        if i%100 == 0:\n",
    "            print(i)\n",
    "    except Exception as e:\n",
    "        print(i)\n",
    "        print(e)\n",
    "        print(report_df['sub'][i])"
   ]
  },
  {
   "cell_type": "code",
   "execution_count": null,
   "metadata": {},
   "outputs": [],
   "source": [
    "report_df = report_df.sort_values(by='date', ascending=True)"
   ]
  },
  {
   "cell_type": "code",
   "execution_count": null,
   "metadata": {},
   "outputs": [],
   "source": [
    "report_df.to_csv('채권분석보고서.csv',index=False)"
   ]
  },
  {
   "cell_type": "code",
   "execution_count": null,
   "metadata": {},
   "outputs": [],
   "source": [
    "report_df = report_df.drop(columns = ['score'])"
   ]
  },
  {
   "cell_type": "code",
   "execution_count": null,
   "metadata": {},
   "outputs": [],
   "source": [
    "report_df.to_csv('채권분석보고서.csv')"
   ]
  },
  {
   "cell_type": "code",
   "execution_count": null,
   "metadata": {},
   "outputs": [],
   "source": [
    "df=pd.read_csv('채권분석보고서.csv')"
   ]
  }
 ],
 "metadata": {
  "kernelspec": {
   "display_name": "Python 3",
   "language": "python",
   "name": "python3"
  },
  "language_info": {
   "codemirror_mode": {
    "name": "ipython",
    "version": 3
   },
   "file_extension": ".py",
   "mimetype": "text/x-python",
   "name": "python",
   "nbconvert_exporter": "python",
   "pygments_lexer": "ipython3",
   "version": "3.6.8"
  }
 },
 "nbformat": 4,
 "nbformat_minor": 2
}
