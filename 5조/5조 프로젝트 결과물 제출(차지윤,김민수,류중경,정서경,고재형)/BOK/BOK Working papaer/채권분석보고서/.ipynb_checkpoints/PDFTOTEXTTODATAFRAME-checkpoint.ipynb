{
 "cells": [
  {
   "cell_type": "code",
   "execution_count": 1,
   "metadata": {},
   "outputs": [],
   "source": [
    "import requests\n",
    "from bs4 import BeautifulSoup as bs\n",
    "from PyPDF2 import PdfFileReader\n",
    "import sys\n",
    "from pdfminer.converter import XMLConverter,TextConverter,HTMLConverter\n",
    "from pdfminer.pdfinterp import PDFResourceManager,PDFPageInterpreter\n",
    "from pdfminer.pdfpage import PDFPage\n",
    "from pdfminer.layout import LAParams\n",
    "import io\n",
    "from urllib.request import urlopen"
   ]
  },
  {
   "cell_type": "code",
   "execution_count": null,
   "metadata": {},
   "outputs": [],
   "source": [
    "from pprint import pprint\n",
    "import os\n",
    "url = 'https://finance.naver.com/research/debenture_list.nhn'\n",
    "pre_url = 'https://finance.naver.com'\n",
    "\n",
    "# resp = requests.get(url)\n",
    "# soup = bs(resp.content)\n",
    "for page in range(1,117):\n",
    "    params = {\n",
    "        'page':page\n",
    "    }\n",
    "    for i in soup.find('table',class_='type_1').find_all('tr'):\n",
    "        try:\n",
    "            resp = requests.get(url,params)\n",
    "            soup = bs(resp.content)\n",
    "            title = i.find('td',style = 'padding-left:10px').text\n",
    "            file_href = i.find('td',class_='file').a['href']\n",
    "            bank_name = i.find_all('td')[1].text\n",
    "            date = i.find('td',style = 'padding-left:5px').text\n",
    "            print(title,'/',file_href,'/',bank_name,'/',date)\n",
    "\n",
    "\n",
    "            title = title.replace(',',' ').replace('\"','').replace('<',' ').replace('>',' ')\n",
    "            title = title.replace('?','').replace('!','').replace('.','').replace('[','').replace(']','')\n",
    "            title = title.replace(':',' ').replace('-','').replace('=','').replace('+','').replace(\"'\",'')\n",
    "            title = title.replace('/',' ').replace('|','').replace('~','').replace(';','').replace('\"','')\n",
    "            title = title.replace('_',' ').replace('@','').replace('#','').replace('$','').replace('&','')\n",
    "            title = title.replace('(',' ').replace(')','').replace('`','').replace('^','').replace('%','')\n",
    "            \n",
    "#             file_do = f'{os.getcwd()}\\\\{bank_name}_{date}_{title}.pdf'\n",
    "            file_do = '{0}\\\\{1}_{2}_{3}.pdf'.format(os.getcwd(),bank_name,date,title)\n",
    "            with open(file_do,'wb') as f:\n",
    "                f.write(requests.get(file_href).content)\n",
    "        except Exception as e:\n",
    "            print(e)"
   ]
  },
  {
   "cell_type": "code",
   "execution_count": null,
   "metadata": {},
   "outputs": [],
   "source": [
    "import re\n",
    "from tika import parser\n",
    "from os import listdir\n",
    "from os.path import isfile, join\n",
    "import shutil\n",
    "# 폴더내 pdf파일을 txt 파일로 변경\n",
    "def pdf2txt (source_folder=\"./report/\", output_folder=\"./text/\"):\n",
    "    error_list = []\n",
    "    # 지정 폴더 내 파일 목록 조회 (파일만)\n",
    "    pdf_files = [f for f in listdir(source_folder) if isfile(join(source_folder, f))]\n",
    "    \n",
    "    for pdf in pdf_files :\n",
    "        pdf_tmp_filepath = source_folder + 'tmp.pdf'\n",
    "        pdf_filepath = source_folder + pdf\n",
    "        shutil.copyfile(pdf_filepath,pdf_tmp_filepath)\n",
    "\n",
    "\n",
    "\n",
    "        # pdf 파일을 text로 변환\n",
    "        print(pdf_filepath)\n",
    "        try:\n",
    "#             parsedPDF = parser.from_file(pdf_filepath)[\"content\"]\n",
    "            parsedPDF = re.sub('\\n','',parser.from_file(pdf_tmp_filepath)['content'])\n",
    "        except:\n",
    "            print(pdf)\n",
    "            error_list.append(pdf)\n",
    "            pass\n",
    "        output_filepath = (output_folder+pdf).replace('.pdf','.txt')\n",
    "        with open(output_filepath,'w',encoding = 'utf-8') as f:\n",
    "            print(output_filepath)\n",
    "            f.write(parsedPDF)\n",
    "            f.close()\n",
    "#         with open((output_folder + pdf).replace('.pdf', '.txt'), 'w',enconding = 'utf-8') as f :\n",
    "#             f.write(parsedPDF)\n",
    "#             f.close() \n",
    "    return error_list\n",
    "pdf2txt()\n"
   ]
  },
  {
   "cell_type": "code",
   "execution_count": null,
   "metadata": {},
   "outputs": [],
   "source": [
    "report_df = pd.DataFrame(columns = ['bank','date','title','sub'])\n",
    "report_df= pd.DataFrame(new_list)\n",
    "report_df = report_df[['date','bank_name','title','sub']]\n",
    "for i in range(len(report_df['date'])):\n",
    "    report_df['date'][i] = '20'+report_df['date'][i]\n",
    "    print(report_df['date'][i])\n",
    "report_df.index = report_df['date']\n",
    "report_df = report_df.drop(columns = ['date'])\n",
    "report_df.index = pd.DatetimeIndex(report_df.index)\n",
    "report_df.sort_values([\"date\"], ascending=[True])"
   ]
  }
 ],
 "metadata": {
  "kernelspec": {
   "display_name": "Python 3",
   "language": "python",
   "name": "python3"
  },
  "language_info": {
   "codemirror_mode": {
    "name": "ipython",
    "version": 3
   },
   "file_extension": ".py",
   "mimetype": "text/x-python",
   "name": "python",
   "nbconvert_exporter": "python",
   "pygments_lexer": "ipython3",
   "version": "3.6.8"
  }
 },
 "nbformat": 4,
 "nbformat_minor": 2
}
