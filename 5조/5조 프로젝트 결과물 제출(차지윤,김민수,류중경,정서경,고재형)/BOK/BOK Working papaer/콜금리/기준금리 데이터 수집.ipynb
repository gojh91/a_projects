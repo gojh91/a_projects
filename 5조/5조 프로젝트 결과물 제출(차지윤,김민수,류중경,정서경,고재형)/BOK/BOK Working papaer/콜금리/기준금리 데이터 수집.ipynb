{
 "cells": [
  {
   "cell_type": "code",
   "execution_count": 31,
   "metadata": {},
   "outputs": [],
   "source": [
    "list_a = list()\n",
    "list_a.append({'date' : '2019.07.16', 'BMR' : '1.75'})\n",
    "list_a.append({'date' : '2018.11.30', 'BMR' : '1.75'})\n",
    "list_a.append({'date' : '2017.11.30', 'BMR' : '1.5'})\n",
    "list_a.append({'date' : '2016.06.09', 'BMR' : '1.25'})\n",
    "list_a.append({'date' : '2015.06.11', 'BMR' : '1.5'})\n",
    "list_a.append({'date' : '2015.03.12', 'BMR' : '1.75'})\n",
    "list_a.append({'date' : '2014.10.15', 'BMR' : '2.0'})\n",
    "list_a.append({'date' : '2014.08.14', 'BMR' : '2.25'})\n",
    "list_a.append({'date' : '2013.05.09', 'BMR' : '2.5'})\n",
    "list_a.append({'date' : '2012.10.11', 'BMR' : '2.75'})\n",
    "list_a.append({'date' : '2012.10.11', 'BMR' : '3.0'})\n",
    "list_a.append({'date' : '2011.06.10', 'BMR' : '3.25'})\n",
    "list_a.append({'date' : '2011.03.10', 'BMR' : '3.0'})\n",
    "list_a.append({'date' : '2011.03.10', 'BMR' : '2.75'})\n",
    "list_a.append({'date' : '2010.11.16', 'BMR' : '2.5'})\n",
    "list_a.append({'date' : '2010.07.09', 'BMR' : '2.25'})\n",
    "list_a.append({'date' : '2009.02.12', 'BMR' : '2.0'})\n",
    "list_a.append({'date' : '2009.01.09', 'BMR' : '2.5'})\n",
    "list_a.append({'date' : '2008.12.11', 'BMR' : '3.0'})\n",
    "list_a.append({'date' : '2008.11.07', 'BMR' : '4.0'})\n",
    "list_a.append({'date' : '2008.10.27', 'BMR' : '4.25'})\n",
    "list_a.append({'date' : '2008.10.09', 'BMR' : '5.0'})\n",
    "list_a.append({'date' : '2008.08.07', 'BMR' : '5.25'})\n",
    "list_a.append({'date' : '2007.08.09', 'BMR' : '5.0'})\n",
    "list_a.append({'date' : '2007.07.12', 'BMR' : '4.75'})\n",
    "list_a.append({'date' : '2006.08.10', 'BMR' : '4.5'})\n",
    "list_a.append({'date' : '2006.06.08', 'BMR' : '4.25'})\n",
    "list_a.append({'date' : '2006.02.09', 'BMR' : '4.0'})\n",
    "list_a.append({'date' : '2005.12.08', 'BMR' : '3.75'})\n",
    "list_a.append({'date' : '2005.10.11', 'BMR' : '3.5'})\n",
    "list_a.append({'date' : '2004.11.11', 'BMR' : '3.25'})"
   ]
  },
  {
   "cell_type": "code",
   "execution_count": 35,
   "metadata": {
    "scrolled": true
   },
   "outputs": [],
   "source": [
    "import pandas as pd"
   ]
  },
  {
   "cell_type": "code",
   "execution_count": 36,
   "metadata": {},
   "outputs": [],
   "source": [
    "df = pd.DataFrame(list_a) "
   ]
  },
  {
   "cell_type": "code",
   "execution_count": 37,
   "metadata": {},
   "outputs": [],
   "source": [
    "df.to_csv(\"기준금리2005~2019.csv\", mode='w')"
   ]
  },
  {
   "cell_type": "code",
   "execution_count": null,
   "metadata": {},
   "outputs": [],
   "source": []
  }
 ],
 "metadata": {
  "kernelspec": {
   "display_name": "Python 3",
   "language": "python",
   "name": "python3"
  },
  "language_info": {
   "codemirror_mode": {
    "name": "ipython",
    "version": 3
   },
   "file_extension": ".py",
   "mimetype": "text/x-python",
   "name": "python",
   "nbconvert_exporter": "python",
   "pygments_lexer": "ipython3",
   "version": "3.6.8"
  }
 },
 "nbformat": 4,
 "nbformat_minor": 2
}
